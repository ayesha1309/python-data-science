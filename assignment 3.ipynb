{
 "cells": [
  {
   "cell_type": "code",
   "execution_count": 1,
   "id": "6b79a7de",
   "metadata": {},
   "outputs": [
    {
     "data": {
      "text/plain": [
       "' Functions are the small or big lines of code defined for performing a particular task.\\n1. Normally if a task has to be repeatedly done ,then we can call the functions by using there name again and again. \\n2.Functions come as a great help while performing the same task again and again without being a need to rewrite the code.\\n3.Functions can be called for any number of times.'"
      ]
     },
     "execution_count": 1,
     "metadata": {},
     "output_type": "execute_result"
    }
   ],
   "source": [
    "#1. Why are functions advantageous to have in your programs?\n",
    "\n",
    "\"\"\" Functions are the small or big lines of code defined for performing a particular task.\n",
    "1. Normally if a task has to be repeatedly done ,then we can call the functions by using there name again and again. \n",
    "2.Functions come as a great help while performing the same task again and again without being a need to rewrite the code.\n",
    "3.Functions can be called for any number of times.\"\"\""
   ]
  },
  {
   "cell_type": "code",
   "execution_count": 3,
   "id": "e8b8e88f",
   "metadata": {},
   "outputs": [],
   "source": [
    "#2. When does the code in a function run: when it's specified or when it's called?\n",
    "\n",
    "# The code in a function runs when it's called. specifying the function means defining the function."
   ]
  },
  {
   "cell_type": "code",
   "execution_count": 5,
   "id": "a19f5de7",
   "metadata": {},
   "outputs": [],
   "source": [
    "#3. What statement creates a function?\n",
    "\n",
    "#The below code creates the function. To create a function we need to define them using keyword def followed by a function name.\n",
    "\n",
    "#def function name:\n",
    "    "
   ]
  },
  {
   "cell_type": "code",
   "execution_count": 18,
   "id": "1080fd34",
   "metadata": {},
   "outputs": [],
   "source": [
    "#4. What is the difference between a function and a function call?\n",
    "\n",
    "#The function actually means the definition of the function. Example\n",
    "\n",
    "def greetings():\n",
    "    print(\"I love python\")"
   ]
  },
  {
   "cell_type": "code",
   "execution_count": 19,
   "id": "cdf59561",
   "metadata": {},
   "outputs": [
    {
     "name": "stdout",
     "output_type": "stream",
     "text": [
      "I love python\n"
     ]
    }
   ],
   "source": [
    "#function call means calling the defined function with its arguments, function call can be said as using the function.\n",
    "\n",
    "greetings()"
   ]
  },
  {
   "cell_type": "code",
   "execution_count": 20,
   "id": "1a6d07fe",
   "metadata": {},
   "outputs": [
    {
     "name": "stdout",
     "output_type": "stream",
     "text": [
      "200\n",
      "300\n"
     ]
    }
   ],
   "source": [
    "#5. How many global scopes are there in a Python program? How many local scopes?\n",
    "\n",
    "#A variable created in the main body of the Python code is a global variable and belongs to the global scope.\n",
    "\n",
    "#Global variables are available from within any scope, global and local.\n",
    "\n",
    "#If you operate with the same variable name inside and outside of a function, \n",
    "#Python will treat them as two separate variables, one available in the global scope (outside the function) and \n",
    "#one available in the local scope (inside the function):\n",
    "\n",
    "x = 300\n",
    "\n",
    "def myfunc():\n",
    "  x = 200\n",
    "  print(x)\n",
    "\n",
    "myfunc()\n",
    "\n",
    "print(x)\n",
    "\n"
   ]
  },
  {
   "cell_type": "code",
   "execution_count": 21,
   "id": "be06b3ae",
   "metadata": {},
   "outputs": [],
   "source": [
    "#The first variable printout is localscope, the second variable printout is global scope, outside the function"
   ]
  },
  {
   "cell_type": "code",
   "execution_count": 22,
   "id": "4d766a0c",
   "metadata": {},
   "outputs": [
    {
     "name": "stdout",
     "output_type": "stream",
     "text": [
      "200 100\n",
      "300\n"
     ]
    }
   ],
   "source": [
    "#6. What happens to variables in a local scope when the function call returns?\n",
    "\n",
    "#Local variables are those defined inside a function, including the function's parameters. \n",
    "#Local variables are usually automatic (memory is automatically allocated when the function is called and \n",
    "#automatically deallocated when the function ends). Programs allocate memory for automatic variables on the runtime.\n",
    "\n",
    "x = 300\n",
    "\n",
    "def myfunc():\n",
    "  x = 200\n",
    "  y = 100\n",
    "  print(x,y)\n",
    "\n",
    "myfunc()\n",
    "\n",
    "print(x)\n",
    "\n"
   ]
  },
  {
   "cell_type": "code",
   "execution_count": 23,
   "id": "42b44f7b",
   "metadata": {},
   "outputs": [],
   "source": [
    "#print(x,y) displays the localscope variables as soon as the function is called.\n",
    "#print(x) outside the function myfunc() dispalys the variable which is globalscope."
   ]
  },
  {
   "cell_type": "code",
   "execution_count": 26,
   "id": "c6e8b922",
   "metadata": {},
   "outputs": [],
   "source": [
    "#7. What is the concept of a return value? Is it possible to have a return value in an expression?\n",
    "\n",
    "#The Python return statement is a special statement that you can use inside a function \n",
    "#to send the function’s result back to the caller. \n",
    "#A return statement consists of the return keyword followed by an optional return value.\n",
    "\n",
    "#It is possible to have a return value in an expression form.\n",
    "\n",
    "def return_n():\n",
    "    \"\"\" return statement send an explicit value to the caller when calls the function\"\"\"\n",
    "    return 10  "
   ]
  },
  {
   "cell_type": "code",
   "execution_count": 25,
   "id": "07a04d3c",
   "metadata": {},
   "outputs": [
    {
     "data": {
      "text/plain": [
       "10"
      ]
     },
     "execution_count": 25,
     "metadata": {},
     "output_type": "execute_result"
    }
   ],
   "source": [
    "return_n()"
   ]
  },
  {
   "cell_type": "code",
   "execution_count": 29,
   "id": "3147e44d",
   "metadata": {},
   "outputs": [],
   "source": [
    "def get_even(numbers):\n",
    "    \"\"\" returns a list of even numbers from the given list, here return is given in the form of expression\"\"\"\n",
    "    return [i for i in numbers if not i % 2]"
   ]
  },
  {
   "cell_type": "code",
   "execution_count": 30,
   "id": "c0fed327",
   "metadata": {},
   "outputs": [
    {
     "data": {
      "text/plain": [
       "[2, 4, 6, 8]"
      ]
     },
     "execution_count": 30,
     "metadata": {},
     "output_type": "execute_result"
    }
   ],
   "source": [
    "get_even([1, 2, 3, 4, 5, 6,7,8,87,95])"
   ]
  },
  {
   "cell_type": "code",
   "execution_count": 31,
   "id": "d6967bdc",
   "metadata": {},
   "outputs": [],
   "source": [
    "#8. If a function does not have a return statement, what is the return value of a call to that function?\n",
    "\n",
    "def get_even(numbers):\n",
    "    \"\"\" returns a list of even numbers from the given list, here return is given in the form of expression\"\"\"\n",
    "    "
   ]
  },
  {
   "cell_type": "code",
   "execution_count": 32,
   "id": "e7297f18",
   "metadata": {},
   "outputs": [],
   "source": [
    "get_even([1, 2, 3, 4, 5, 6,7,8,87,95])"
   ]
  },
  {
   "cell_type": "code",
   "execution_count": 33,
   "id": "24d34b78",
   "metadata": {},
   "outputs": [],
   "source": [
    "# If a function has no return value, then there is no output from that function when called.\n",
    "#The function always returns None(nothing) if explicit return is not written."
   ]
  },
  {
   "cell_type": "code",
   "execution_count": 9,
   "id": "e3849699",
   "metadata": {},
   "outputs": [
    {
     "name": "stdout",
     "output_type": "stream",
     "text": [
      "300 100\n",
      "300\n"
     ]
    }
   ],
   "source": [
    "#9. How do you make a function variable refer to the global variable?\n",
    "\n",
    "#Function variable refers to the variables declared in the function.The variables declared in the function are called local variables,\n",
    "#but by using the keyword global, the variable becomes the global variable.\n",
    "\n",
    "\n",
    "def myfunc():\n",
    "  global x\n",
    "  x=300\n",
    "  y = 100\n",
    "  print(x,y)\n",
    "\n",
    "\n",
    "myfunc() #x,y is given as 300 & 100\n",
    "print(x) #x is called outside the function, but still x is given as 300"
   ]
  },
  {
   "cell_type": "code",
   "execution_count": 36,
   "id": "696af530",
   "metadata": {},
   "outputs": [],
   "source": [
    "#10. What is the data type of None?\n",
    "\n",
    "# None is not the same as 0, False, or an empty string. None is a data type of its own (NoneType) and only None can be None.\n",
    "#The None keyword is used to define a null value, or no value at all."
   ]
  },
  {
   "cell_type": "code",
   "execution_count": 38,
   "id": "36739675",
   "metadata": {},
   "outputs": [],
   "source": [
    "#11. What does the sentence import areallyourpetsnamederic \n",
    "\n",
    "#That import statement means to import a module named areallyourpetsnamederic."
   ]
  },
  {
   "cell_type": "code",
   "execution_count": 41,
   "id": "0fe2d901",
   "metadata": {},
   "outputs": [
    {
     "ename": "SyntaxError",
     "evalue": "invalid syntax (Temp/ipykernel_10124/1152412881.py, line 5)",
     "output_type": "error",
     "traceback": [
      "\u001b[1;36m  File \u001b[1;32m\"C:\\Users\\amdza\\AppData\\Local\\Temp/ipykernel_10124/1152412881.py\"\u001b[1;36m, line \u001b[1;32m5\u001b[0m\n\u001b[1;33m    from spam import bacon()\u001b[0m\n\u001b[1;37m                          ^\u001b[0m\n\u001b[1;31mSyntaxError\u001b[0m\u001b[1;31m:\u001b[0m invalid syntax\n"
     ]
    }
   ],
   "source": [
    "#12. If you had a bacon() feature in a spam module, what would you call it after importing spam?\n",
    "\n",
    "#If we have bacon() funtion in spam module then first we need to import the module and then we need to import the funtion too.\n",
    "\n",
    "from spam import bacon()"
   ]
  },
  {
   "cell_type": "code",
   "execution_count": 42,
   "id": "d31515c2",
   "metadata": {},
   "outputs": [],
   "source": [
    "#13. What can you do to save a programme from crashing if it encounters an error?\n",
    "\n",
    "# To save a programme from crashing if it encounters an error, we need to interupt the kernel in jupyternotebook.\n",
    "\n",
    "# We should use a \"try except\" which allows to run code in the try part, and once the program crashes it moves on to the except.\n"
   ]
  },
  {
   "cell_type": "code",
   "execution_count": 43,
   "id": "fef98594",
   "metadata": {},
   "outputs": [],
   "source": [
    "#14. What is the purpose of the try clause? What is the purpose of the except clause?\n",
    " \n",
    "# Python has built-in exceptions which can output an error. If an error occurs while running the program, it’s called an exception.\n",
    "\n",
    "# If an exception occurs, the type of exception is shown. \n",
    "#Exceptions needs to be dealt with or the program will crash. To handle exceptions, the try-except clause is used.\n",
    "\n",
    "#The idea of the try-except clause is to handle exceptions (errors at runtime).\n",
    "\n",
    "#The syntax of the try-except block is:\n",
    "\n",
    "try:\n",
    "    <do something>\n",
    "except Exception:\n",
    "    <handle the error>\n",
    "\n",
    "#The idea of the try-except block is this:\n",
    "\n",
    "# try: the code with the exception(s) to catch. If an exception is raised, it jumps straight into the except block.\n",
    "\n",
    "#except: this code is only executed if an exception occured in the try block. \n",
    "#The except block is required with a try block, even if it contains only the pass statement.\n",
    "\n",
    "#It may be combined with the else and finally keywords.\n",
    "\n",
    "#else: Code in the else block is only executed if no exceptions were raised in the try block.\n",
    "\n",
    "#finally: The code in the finally block is always executed, regardless of if a an exception was raised or not.\n"
   ]
  },
  {
   "cell_type": "code",
   "execution_count": null,
   "id": "cde5b37f",
   "metadata": {},
   "outputs": [],
   "source": []
  }
 ],
 "metadata": {
  "kernelspec": {
   "display_name": "Python 3 (ipykernel)",
   "language": "python",
   "name": "python3"
  },
  "language_info": {
   "codemirror_mode": {
    "name": "ipython",
    "version": 3
   },
   "file_extension": ".py",
   "mimetype": "text/x-python",
   "name": "python",
   "nbconvert_exporter": "python",
   "pygments_lexer": "ipython3",
   "version": "3.9.7"
  }
 },
 "nbformat": 4,
 "nbformat_minor": 5
}
