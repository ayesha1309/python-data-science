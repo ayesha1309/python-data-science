{
 "cells": [
  {
   "cell_type": "code",
   "execution_count": 4,
   "id": "473a369c",
   "metadata": {},
   "outputs": [],
   "source": [
    "#1) . What is the difference between enclosing a list comprehension in square brackets and parentheses?\n",
    "\n",
    "#The difference between enclosing a list comprehension in square brackets and parentheses is\n",
    "#Square brackets are lists while parentheses are tuples."
   ]
  },
  {
   "cell_type": "code",
   "execution_count": null,
   "id": "d90165cb",
   "metadata": {},
   "outputs": [],
   "source": [
    "#2) What is the relationship between generators and iterators?\n",
    "\n",
    "#(a).Iterators are the objects that use the next() method to get the next value of the sequence.\n",
    "#A generator is a function that produces or yields a sequence of values using a yield statement.\n",
    "\n",
    "#(b)Classes are used to Implement the iterators.\n",
    "#Functions are used to implement the generator.\n",
    "\n",
    "#(c)Every iterator is not a generator.Every generator is an iterator.\n",
    "\n",
    "#(d)Complex implementation of iterator protocols .i.e., iter() and next().\n",
    "#Generators in Python are simpler to code than do the custom iterator using the yield statement.\n",
    "\n",
    "#(e)Iterators in python are less memory efficient.Generators in Python are more memory efficient.\n",
    "\n",
    "#(f)No local variables are used in Iterators.All the local variables are stored before the yield statement."
   ]
  },
  {
   "cell_type": "code",
   "execution_count": 5,
   "id": "c5ca56a7",
   "metadata": {},
   "outputs": [],
   "source": [
    "#3) What are the signs that a function is a generator function?\n",
    "\n",
    "#If a function contains at least one yield statement (it may contain other yield or return statements), \n",
    "#it becomes a generator function. Both yield and return will return some value from a function.\n",
    "\n",
    "#When called, it returns an object (iterator) but does not start execution immediately.\n",
    "\n",
    "#Methods like __iter__() and __next__() are implemented automatically. So we can iterate through the items using next().\n",
    "\n",
    "#Once the function yields, the function is paused and the control is transferred to the caller.\n",
    "\n",
    "#Local variables and their states are remembered between successive calls.\n",
    "\n",
    "#Finally, when the function terminates, StopIteration is raised automatically on further calls."
   ]
  },
  {
   "cell_type": "code",
   "execution_count": 6,
   "id": "564e5510",
   "metadata": {},
   "outputs": [],
   "source": [
    "#4) What is the purpose of a yield statement?\n",
    "\n",
    "#The yield statement suspends a function’s execution and sends a value back to the caller, \n",
    "#but retains enough state to enable the function to resume where it left off. \n",
    "#When the function resumes, it continues execution immediately after the last yield run. \n",
    "#This allows its code to produce a series of values over time, rather than computing them at once \n",
    "#and sending them back like a list."
   ]
  },
  {
   "cell_type": "code",
   "execution_count": 16,
   "id": "f44698cf",
   "metadata": {},
   "outputs": [
    {
     "name": "stdout",
     "output_type": "stream",
     "text": [
      "3.2608743999999206\n"
     ]
    }
   ],
   "source": [
    "#5) What is the relationship between map calls and list comprehensions? Make a comparison and contrast between the two.\n",
    "\n",
    "#Map VS List Comprehension\n",
    "\n",
    "#List comprehension is more concise and easier to read as compared to map.\n",
    "\n",
    "#List comprehension allows filtering. In map, we have no such facility. \n",
    "#For example, to print all even numbers in range of 100, we can write [n for n in range(100) if n%2 == 0]. \n",
    "#There is no alternate for it in map\n",
    "\n",
    "#List comprehension are used when a list of results is required as map only returns a map object and does not return any list.\n",
    "\n",
    "#List comprehension is faster than map when we need to evaluate expressions that are too long or complicated to express\n",
    "\n",
    "#Map is faster in case of calling an already defined function (as no lambda is required).\n",
    "\n",
    "#Comparing Execution Time\n",
    "#Note : We will be using an in-built python library ‘timeit‘.\n",
    "\n",
    "#Without lambda\n",
    "#Let us take a simple operation to print number in a given range. \n",
    "#We perform this operation using both map and list comprehension one by one.\n",
    "\n",
    "import timeit\n",
    "x= timeit.timeit('[x for x in range(100)]',number=999999)\n",
    "print(x)"
   ]
  },
  {
   "cell_type": "code",
   "execution_count": 19,
   "id": "ce153bf3",
   "metadata": {},
   "outputs": [
    {
     "name": "stdout",
     "output_type": "stream",
     "text": [
      "0.39195999999992637\n"
     ]
    }
   ],
   "source": [
    "import timeit\n",
    "s='def func():print(i)'\n",
    "y= timeit.timeit('map(func,range(100))',number=999999,setup=s)\n",
    "print(y)\n",
    "\n",
    "#From the above Example, we can conclude that map performs better than list comprehension when a function is defined already."
   ]
  },
  {
   "cell_type": "code",
   "execution_count": 14,
   "id": "26a754bb",
   "metadata": {},
   "outputs": [
    {
     "name": "stdout",
     "output_type": "stream",
     "text": [
      "0.4132878000000346\n"
     ]
    }
   ],
   "source": [
    "\n",
    "#With lambda in map\n",
    "\n",
    "#Let us take operations where we require a lambda inside the map(). \n",
    "#The first operation is to add 2 to every number in the given range. \n",
    "\n",
    "import timeit\n",
    "x=timeit.timeit('map(lambda a:a+2,range(1000))',number=999999)\n",
    "print(x)\n",
    "\n",
    "#From the above code, we can observe that map still works better than list comprehension.\n",
    "\n",
    "#Note: There are cases when list comprehension can perform better than map where expressions are too long and complex."
   ]
  }
 ],
 "metadata": {
  "kernelspec": {
   "display_name": "Python 3 (ipykernel)",
   "language": "python",
   "name": "python3"
  },
  "language_info": {
   "codemirror_mode": {
    "name": "ipython",
    "version": 3
   },
   "file_extension": ".py",
   "mimetype": "text/x-python",
   "name": "python",
   "nbconvert_exporter": "python",
   "pygments_lexer": "ipython3",
   "version": "3.9.7"
  }
 },
 "nbformat": 4,
 "nbformat_minor": 5
}
