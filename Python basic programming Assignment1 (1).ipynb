{
 "cells": [
  {
   "cell_type": "code",
   "execution_count": 2,
   "id": "1211d79f",
   "metadata": {},
   "outputs": [
    {
     "name": "stdout",
     "output_type": "stream",
     "text": [
      "Hello Python\n"
     ]
    }
   ],
   "source": [
    "#1. Write a Python program to print \"Hello Python\"?\n",
    "\n",
    "#Python program to print \"Hello Python\"\n",
    "\n",
    "str = \"Hello Python\"\n",
    "print(str)"
   ]
  },
  {
   "cell_type": "code",
   "execution_count": 7,
   "id": "659e53cb",
   "metadata": {},
   "outputs": [
    {
     "name": "stdout",
     "output_type": "stream",
     "text": [
      "First integer variable10\n",
      "Second integer variable5\n",
      "result of addition of given 2 integers is 15\n",
      "result of division of given 2 integers is 2.0\n"
     ]
    }
   ],
   "source": [
    "#2.Write a Python program to do arithmetical operations addition and division.?\n",
    "\n",
    "#Python program to do arithmetical operations addition and division.\n",
    "\n",
    "a= input(\"First integer variable\")\n",
    "b=input(\"Second integer variable\")\n",
    "c= int(a)+int(b)\n",
    "d=int(a)/int(b)\n",
    "print(\"result of addition of given 2 integers is\",c)\n",
    "print(\"result of division of given 2 integers is\",d)"
   ]
  },
  {
   "cell_type": "code",
   "execution_count": 12,
   "id": "88622cda",
   "metadata": {},
   "outputs": [
    {
     "name": "stdout",
     "output_type": "stream",
     "text": [
      "The base of the triangle is50\n",
      "The height of the triangle is80\n",
      "Area of the given triangle is 2000.0\n"
     ]
    }
   ],
   "source": [
    "#3.Write a Python program to find the area of a triangle?\n",
    "\n",
    "#Python program to find the area of a triangle\n",
    "\n",
    "b= int(input(\"The base of the triangle is\"))\n",
    "h=int(input(\"The height of the triangle is\"))\n",
    "area = b*h/2\n",
    "print(\"Area of the given triangle is\",area)"
   ]
  },
  {
   "cell_type": "code",
   "execution_count": 14,
   "id": "3b709594",
   "metadata": {},
   "outputs": [
    {
     "name": "stdout",
     "output_type": "stream",
     "text": [
      "enter the first variable a:100\n",
      "enter the second variable b:300\n",
      "The value of a after swapping: 300\n",
      "The value of b after swapping: 100\n"
     ]
    }
   ],
   "source": [
    "#4.Write a Python program to swap two variables?\n",
    "\n",
    "#Python program to swap two variables\n",
    "\n",
    "a = int(input(\"enter the first variable a:\"))\n",
    "b = int(input(\"enter the second variable b:\"))\n",
    "\n",
    "# create a temporary variable and swap the values\n",
    "temp = a\n",
    "a = b\n",
    "b = temp\n",
    "\n",
    "print('The value of a after swapping:',a)\n",
    "print('The value of b after swapping:',b)\n"
   ]
  },
  {
   "cell_type": "code",
   "execution_count": 16,
   "id": "813a3008",
   "metadata": {},
   "outputs": [
    {
     "data": {
      "text/plain": [
       "8"
      ]
     },
     "execution_count": 16,
     "metadata": {},
     "output_type": "execute_result"
    }
   ],
   "source": [
    "#5.Write a Python program to generate a random number?\n",
    "\n",
    "#Python program to generate a random number\n",
    "\n",
    "import numpy as np\n",
    "#Let’s start by intializing a np.random.default_rng() as the rng variable.\n",
    "rng = np.random.default_rng()\n",
    "#I’ll use the integers method to create a random integer.\n",
    "rng.integers(0, 10)\n",
    "#Above, I generate a random number greater than 0 less than 10."
   ]
  }
 ],
 "metadata": {
  "kernelspec": {
   "display_name": "Python 3 (ipykernel)",
   "language": "python",
   "name": "python3"
  },
  "language_info": {
   "codemirror_mode": {
    "name": "ipython",
    "version": 3
   },
   "file_extension": ".py",
   "mimetype": "text/x-python",
   "name": "python",
   "nbconvert_exporter": "python",
   "pygments_lexer": "ipython3",
   "version": "3.9.7"
  }
 },
 "nbformat": 4,
 "nbformat_minor": 5
}
