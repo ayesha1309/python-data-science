{
 "cells": [
  {
   "cell_type": "code",
   "execution_count": 8,
   "id": "04c8c2be",
   "metadata": {},
   "outputs": [
    {
     "data": {
      "text/plain": [
       "2"
      ]
     },
     "execution_count": 8,
     "metadata": {},
     "output_type": "execute_result"
    }
   ],
   "source": [
    "\"\"\"Question1\n",
    "\n",
    "Create a function that takes three integer arguments (a, b, c) and returns the amount of\n",
    "integers which are of equal value.\n",
    "Examples\n",
    "equal(3, 4, 3) ➞ 2\n",
    "equal(1, 1, 1) ➞ 3\n",
    "equal(3, 4, 1) ➞ 0\n",
    "\n",
    "Notes\n",
    "Your function must return 0, 2 or 3.\"\"\"\n",
    "\n",
    "def equal(a,b,c):\n",
    "    count=2\n",
    "    if a == b and a == c:\n",
    "        count = 3\n",
    "    if a!=b and a!=c:\n",
    "        count =0\n",
    "    return count\n",
    "\n",
    "equal(3, 4, 3)"
   ]
  },
  {
   "cell_type": "code",
   "execution_count": 9,
   "id": "24f51810",
   "metadata": {},
   "outputs": [
    {
     "data": {
      "text/plain": [
       "3"
      ]
     },
     "execution_count": 9,
     "metadata": {},
     "output_type": "execute_result"
    }
   ],
   "source": [
    "equal(1, 1, 1)"
   ]
  },
  {
   "cell_type": "code",
   "execution_count": 10,
   "id": "30f829c4",
   "metadata": {},
   "outputs": [
    {
     "data": {
      "text/plain": [
       "0"
      ]
     },
     "execution_count": 10,
     "metadata": {},
     "output_type": "execute_result"
    }
   ],
   "source": [
    "equal(3, 4, 1)"
   ]
  },
  {
   "cell_type": "code",
   "execution_count": 2,
   "id": "dc4d16c4",
   "metadata": {},
   "outputs": [
    {
     "data": {
      "text/plain": [
       "[('B', 2), ('C', 3), ('D', 1)]"
      ]
     },
     "execution_count": 2,
     "metadata": {},
     "output_type": "execute_result"
    }
   ],
   "source": [
    "\"\"\"Quesstion2\n",
    "\n",
    "Write a function that converts a dictionary into a list of keys-values tuples.\n",
    "Examples\n",
    "dict_to_list({\"D\": 1,\"B\": 2,\"C\": 3}) ➞ [(\"B\", 2), (\"C\", 3), (\"D\", 1)]\n",
    "dict_to_list({\"likes\": 2,\"dislikes\": 3,\"followers\": 10}) ➞ [(\"dislikes\", 3), (\"followers\", 10), (\"likes\", 2)]\n",
    "\n",
    "Notes\n",
    "Return the elements in the list in alphabetical order.\"\"\"\n",
    "\n",
    "\n",
    "# Python code to convert dictionary into list of tuples\n",
    " \n",
    "def dict_to_list(dict1):  # defiininf function for Converting into list of tuple\n",
    "    list1 = [(k, v) for k, v in dict1.items()]# list comprehension used to convert dictionary to list pf tuples\n",
    "    # reverse = None (Sorts in Ascending order)  \n",
    "    # key is set to sort using first element of  \n",
    "    # sublist lambda has been used  \n",
    "    list1.sort(key = lambda x: x[0])  # sorted the tuple alphabetically\n",
    "    return list1\n",
    "\n",
    "\n",
    "dict_to_list({\"D\": 1,\"B\": 2,\"C\": 3})"
   ]
  },
  {
   "cell_type": "code",
   "execution_count": 3,
   "id": "df6a3b21",
   "metadata": {},
   "outputs": [
    {
     "data": {
      "text/plain": [
       "[('dislikes', 3), ('followers', 10), ('likes', 2)]"
      ]
     },
     "execution_count": 3,
     "metadata": {},
     "output_type": "execute_result"
    }
   ],
   "source": [
    "dict_to_list({\"likes\": 2,\"dislikes\": 3,\"followers\": 10})"
   ]
  },
  {
   "cell_type": "code",
   "execution_count": 6,
   "id": "911e9864",
   "metadata": {},
   "outputs": [
    {
     "data": {
      "text/plain": [
       "{'p': 'P', 's': 'S'}"
      ]
     },
     "execution_count": 6,
     "metadata": {},
     "output_type": "execute_result"
    }
   ],
   "source": [
    "\"\"\"Question3\n",
    "Write a function that creates a dictionary with each (key, value) pair being the (lower case,\n",
    "upper case) versions of a letter, respectively.\n",
    "\n",
    "Examples\n",
    "mapping([\"p\", \"s\"]) ➞ { \"p\": \"P\", &quot;s&quot;: &quot;S&quot; }\n",
    "\n",
    "mapping([\"a\", \"b\", \"c\"]) ➞ { \"a\": \"A\", \"b\": \"B\", \"c\": \"C\" }\n",
    "mapping([\"a\", \"v\", \"y\", \"z\"]) ➞ { \"a\": \"A\", \"v\": \"V\", \"y\": \"Y\", \"z\": \"Z\"}\n",
    "\n",
    "Notes\n",
    "All of the letters in the input list will always be lowercase.\"\"\"\n",
    "\n",
    "def mapping(list1):\n",
    "    list2= [i.upper() for i in list1]# create a list with upper case of the given list of elements\n",
    "    list1_dict= dict(zip(list1,list2))# create a dictionary using list1 and list2\n",
    "    return list1_dict #return the dictionary\n",
    "\n",
    "mapping([\"p\", \"s\"])"
   ]
  },
  {
   "cell_type": "code",
   "execution_count": 7,
   "id": "5f4025ed",
   "metadata": {},
   "outputs": [
    {
     "data": {
      "text/plain": [
       "{'a': 'A', 'b': 'B', 'c': 'C'}"
      ]
     },
     "execution_count": 7,
     "metadata": {},
     "output_type": "execute_result"
    }
   ],
   "source": [
    "mapping([\"a\", \"b\", \"c\"])"
   ]
  },
  {
   "cell_type": "code",
   "execution_count": 8,
   "id": "251948fd",
   "metadata": {},
   "outputs": [
    {
     "data": {
      "text/plain": [
       "{'a': 'A', 'v': 'V', 'y': 'Y', 'z': 'Z'}"
      ]
     },
     "execution_count": 8,
     "metadata": {},
     "output_type": "execute_result"
    }
   ],
   "source": [
    "mapping([\"a\", \"v\", \"y\", \"z\"])"
   ]
  },
  {
   "cell_type": "code",
   "execution_count": 10,
   "id": "15cc627b",
   "metadata": {},
   "outputs": [
    {
     "data": {
      "text/plain": [
       "'upplus und bununus'"
      ]
     },
     "execution_count": 10,
     "metadata": {},
     "output_type": "execute_result"
    }
   ],
   "source": [
    "\"\"\"Question4\n",
    "\n",
    "Write a function, that replaces all vowels in a string with a specified vowel.\n",
    "\n",
    "Examples\n",
    "vow_replace(\"apples and bananas\", \"u\") ➞ \"upplus und bununus\"\n",
    "vow_replace(\"cheese casserole\", \"o\") ➞ \"chooso cossorolo\"\n",
    "vow_replace(\"stuffed jalapeno poppers\" \"e\") ➞ &quot;steffed jelepene peppers&quot;\n",
    "\n",
    "Notes\n",
    "All words will be lowercase. Y is not considered a vowel.\"\"\"\n",
    "\n",
    "# Function to Replace each vowel in the string with a specified character\n",
    "def vow_replace(test_str, lower_case):\n",
    " \n",
    "    # string of vowels\n",
    "    vowels = 'AEIOUaeiou'\n",
    " \n",
    "    # iterating to check vowels in string\n",
    "    for i in vowels:\n",
    " \n",
    "        # replacing vowel with the specified character\n",
    "        test_str = test_str.replace(i, lower_case)\n",
    " \n",
    "    return test_str\n",
    "\n",
    "vow_replace(\"apples and bananas\", \"u\")"
   ]
  },
  {
   "cell_type": "code",
   "execution_count": 12,
   "id": "e3d58796",
   "metadata": {},
   "outputs": [
    {
     "data": {
      "text/plain": [
       "'chooso cossorolo'"
      ]
     },
     "execution_count": 12,
     "metadata": {},
     "output_type": "execute_result"
    }
   ],
   "source": [
    "vow_replace(\"cheese casserole\", \"o\")"
   ]
  },
  {
   "cell_type": "code",
   "execution_count": 14,
   "id": "f2cf6e66",
   "metadata": {},
   "outputs": [
    {
     "data": {
      "text/plain": [
       "'steffed jelepene peppers'"
      ]
     },
     "execution_count": 14,
     "metadata": {},
     "output_type": "execute_result"
    }
   ],
   "source": [
    "vow_replace(\"stuffed jalapeno poppers\" ,\"e\")"
   ]
  },
  {
   "cell_type": "code",
   "execution_count": 17,
   "id": "23913ff1",
   "metadata": {},
   "outputs": [
    {
     "data": {
      "text/plain": [
       "'To bE Or nOt tO Be!'"
      ]
     },
     "execution_count": 17,
     "metadata": {},
     "output_type": "execute_result"
    }
   ],
   "source": [
    "\"\"\"Question5\n",
    "\n",
    "Create a function that takes a string as input and capitalizes a letter if its ASCII code is even\n",
    "and returns its lower case version if its ASCII code is odd.\n",
    "\n",
    "Examples\n",
    "ascii_capitalize(\"to be or not to be!\") ➞ \"To Be oR NoT To Be!\"\n",
    "ascii_capitalize(\"THE LITTLE MERMAID\") ➞ \"THe LiTTLe meRmaiD\"\n",
    "ascii_capitalize(\"Oh what a beautiful morning.\") ➞ \"oH wHaT a BeauTiFuL moRNiNg.\"\n",
    "\"\"\"\n",
    "\n",
    "def ascii_capitalize(str1):\n",
    "\n",
    "    res = []\n",
    "    #Iterate over the characters\n",
    "    for index, c in enumerate(str1):\n",
    "        if index % 2 == 0:\n",
    "            #Refer to each character via index and append modified character to list\n",
    "            res.append(c.upper())\n",
    "        else:\n",
    "            res.append(c.lower())\n",
    "\n",
    "    #Join the list into a string and return\n",
    "    return ''.join(res)\n",
    "\n",
    "\n",
    "ascii_capitalize(\"to be or not to be!\") "
   ]
  },
  {
   "cell_type": "code",
   "execution_count": 18,
   "id": "39cc7f8f",
   "metadata": {},
   "outputs": [
    {
     "data": {
      "text/plain": [
       "'ThE LiTtLe mErMaId'"
      ]
     },
     "execution_count": 18,
     "metadata": {},
     "output_type": "execute_result"
    }
   ],
   "source": [
    "ascii_capitalize(\"THE LITTLE MERMAID\")"
   ]
  },
  {
   "cell_type": "code",
   "execution_count": 19,
   "id": "4f99acfc",
   "metadata": {},
   "outputs": [
    {
     "data": {
      "text/plain": [
       "'Oh wHaT A BeAuTiFuL MoRnInG.'"
      ]
     },
     "execution_count": 19,
     "metadata": {},
     "output_type": "execute_result"
    }
   ],
   "source": [
    "ascii_capitalize(\"Oh what a beautiful morning.\") "
   ]
  }
 ],
 "metadata": {
  "kernelspec": {
   "display_name": "Python 3 (ipykernel)",
   "language": "python",
   "name": "python3"
  },
  "language_info": {
   "codemirror_mode": {
    "name": "ipython",
    "version": 3
   },
   "file_extension": ".py",
   "mimetype": "text/x-python",
   "name": "python",
   "nbconvert_exporter": "python",
   "pygments_lexer": "ipython3",
   "version": "3.9.7"
  }
 },
 "nbformat": 4,
 "nbformat_minor": 5
}
