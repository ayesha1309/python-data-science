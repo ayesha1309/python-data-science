{
 "cells": [
  {
   "cell_type": "code",
   "execution_count": 65,
   "id": "431584b5",
   "metadata": {},
   "outputs": [
    {
     "name": "stdout",
     "output_type": "stream",
     "text": [
      "Enter the year of your birth1986\n"
     ]
    },
    {
     "data": {
      "text/plain": [
       "[1986, 1987, 1988, 1989, 1990]"
      ]
     },
     "execution_count": 65,
     "metadata": {},
     "output_type": "execute_result"
    }
   ],
   "source": [
    "#1. Create a list called years_list, starting with the year of your birth, and each year thereafter until\n",
    "#the year of your fifth birthday. For example, if you were born in 1980. the list would be years_list =\n",
    "#[1980, 1981, 1982, 1983, 1984, 1985].\n",
    "\n",
    "\n",
    "year_birth = input(\"Enter the year of your birth\")\n",
    "years_list =[]\n",
    "years_list.append(int(year_birth))\n",
    "x=1\n",
    "for i in range(4):\n",
    "    year_birth = int(year_birth) +x\n",
    "    years_list.append(year_birth)\n",
    "years_list"
   ]
  },
  {
   "cell_type": "code",
   "execution_count": 19,
   "id": "f53a788f",
   "metadata": {},
   "outputs": [],
   "source": [
    "#2.In which year in years_list was your third birthday? Remember, you were 0 years of age for your first year.\n",
    "\n",
    "1989 year was third birthday."
   ]
  },
  {
   "cell_type": "code",
   "execution_count": 20,
   "id": "0a9e7d5e",
   "metadata": {},
   "outputs": [],
   "source": [
    "#3.In the years list, which year were you the oldest?\n",
    "\n",
    "1990 year was the oldest"
   ]
  },
  {
   "cell_type": "code",
   "execution_count": 21,
   "id": "0c409627",
   "metadata": {},
   "outputs": [
    {
     "data": {
      "text/plain": [
       "['mozorella', 'cinderella', 'salmonella']"
      ]
     },
     "execution_count": 21,
     "metadata": {},
     "output_type": "execute_result"
    }
   ],
   "source": [
    "#4.Make a list called things with these three strings as elements: \"mozzarella\", \"cinderella\", \"salmonella\".\n",
    "\n",
    "strings =[]\n",
    "strings.append(\"mozorella\")\n",
    "strings.append(\"cinderella\")\n",
    "strings.append(\"salmonella\")\n",
    "strings"
   ]
  },
  {
   "cell_type": "code",
   "execution_count": 70,
   "id": "eb5afebf",
   "metadata": {},
   "outputs": [
    {
     "data": {
      "text/plain": [
       "'CINDERELLA'"
      ]
     },
     "execution_count": 70,
     "metadata": {},
     "output_type": "execute_result"
    }
   ],
   "source": [
    "#5.Capitalize the element in things that refers to a person and then print the list. Did it change the element in the list?\n",
    "\n",
    "h= strings[1].upper()\n",
    "h"
   ]
  },
  {
   "cell_type": "code",
   "execution_count": 71,
   "id": "eea14bb1",
   "metadata": {},
   "outputs": [
    {
     "data": {
      "text/plain": [
       "['mozorella', 'cinderella', 'salmonella']"
      ]
     },
     "execution_count": 71,
     "metadata": {},
     "output_type": "execute_result"
    }
   ],
   "source": [
    "strings\n",
    "#No elements in the list was not changed"
   ]
  },
  {
   "cell_type": "code",
   "execution_count": 24,
   "id": "b3db5e59",
   "metadata": {},
   "outputs": [
    {
     "data": {
      "text/plain": [
       "['Groucho', 'chico', 'Harpo']"
      ]
     },
     "execution_count": 24,
     "metadata": {},
     "output_type": "execute_result"
    }
   ],
   "source": [
    "#6.Make a surprise list with the elements \"Groucho,\" \"Chico,\" and \"Harpo.\"\n",
    "\n",
    "surprise =[]\n",
    "surprise.append(\"Groucho\")\n",
    "surprise.append(\"chico\")\n",
    "surprise.append(\"Harpo\")\n",
    "surprise"
   ]
  },
  {
   "cell_type": "code",
   "execution_count": 30,
   "id": "b02268ce",
   "metadata": {},
   "outputs": [
    {
     "data": {
      "text/plain": [
       "'harpo'"
      ]
     },
     "execution_count": 30,
     "metadata": {},
     "output_type": "execute_result"
    }
   ],
   "source": [
    "#7.Lowercase the last element of the surprise list, reverse it, and then capitalize it\n",
    "\n",
    "y= surprise[2].lower()\n",
    "y"
   ]
  },
  {
   "cell_type": "code",
   "execution_count": 36,
   "id": "63f5ec90",
   "metadata": {},
   "outputs": [
    {
     "data": {
      "text/plain": [
       "'oprah'"
      ]
     },
     "execution_count": 36,
     "metadata": {},
     "output_type": "execute_result"
    }
   ],
   "source": [
    "z=y[::-1]\n",
    "z"
   ]
  },
  {
   "cell_type": "code",
   "execution_count": 38,
   "id": "15afb435",
   "metadata": {},
   "outputs": [
    {
     "data": {
      "text/plain": [
       "'OPRAH'"
      ]
     },
     "execution_count": 38,
     "metadata": {},
     "output_type": "execute_result"
    }
   ],
   "source": [
    "x=z.upper()\n",
    "x"
   ]
  },
  {
   "cell_type": "code",
   "execution_count": 40,
   "id": "a384aae6",
   "metadata": {},
   "outputs": [
    {
     "data": {
      "text/plain": [
       "{'dog': 'chien', 'cat': 'chat', 'walrus': 'morse'}"
      ]
     },
     "execution_count": 40,
     "metadata": {},
     "output_type": "execute_result"
    }
   ],
   "source": [
    "#8.Make an English-to-French dictionary called e2f and print it. Here are your starter words: dog is chien, \n",
    "#cat is chat, and walrus is morse.\n",
    "\n",
    "e2f ={'dog':'chien','cat':'chat','walrus':'morse'}\n",
    "e2f"
   ]
  },
  {
   "cell_type": "code",
   "execution_count": 42,
   "id": "f5d974f2",
   "metadata": {},
   "outputs": [
    {
     "data": {
      "text/plain": [
       "'morse'"
      ]
     },
     "execution_count": 42,
     "metadata": {},
     "output_type": "execute_result"
    }
   ],
   "source": [
    "#9.Write the French word for walrus in your three-word dictionary e2f.\n",
    "\n",
    "e2f['walrus']"
   ]
  },
  {
   "cell_type": "code",
   "execution_count": 52,
   "id": "5dac562e",
   "metadata": {},
   "outputs": [
    {
     "name": "stdout",
     "output_type": "stream",
     "text": [
      "{'chien': 'dog', 'chat': 'cat', 'morse': 'walrus'}\n"
     ]
    }
   ],
   "source": [
    "#10.Make a French-to-English dictionary called f2e from e2f. Use the items method.\n",
    "\n",
    "f2e ={v: k for k, v in e2f.items()}\n",
    "#v and k stand for the place holders for the key and value\n",
    "print(f2e)"
   ]
  },
  {
   "cell_type": "code",
   "execution_count": 59,
   "id": "f2ddbeee",
   "metadata": {},
   "outputs": [
    {
     "data": {
      "text/plain": [
       "'dog'"
      ]
     },
     "execution_count": 59,
     "metadata": {},
     "output_type": "execute_result"
    }
   ],
   "source": [
    "#11. Print the English version of the French word chien using f2e.\n",
    "\n",
    "x= f2e['chien']\n",
    "x"
   ]
  },
  {
   "cell_type": "code",
   "execution_count": 61,
   "id": "827bc4b4",
   "metadata": {},
   "outputs": [
    {
     "data": {
      "text/plain": [
       "dict_keys(['dog', 'cat', 'walrus'])"
      ]
     },
     "execution_count": 61,
     "metadata": {},
     "output_type": "execute_result"
    }
   ],
   "source": [
    "#12. Make and print a set of English words from the keys in e2f.\n",
    "\n",
    "p=e2f.keys()\n",
    "p"
   ]
  },
  {
   "cell_type": "code",
   "execution_count": 72,
   "id": "24034a06",
   "metadata": {},
   "outputs": [],
   "source": [
    "#13. Make a multilevel dictionary called life. Use these strings for the topmost keys: \"animals\", \"plants\",\n",
    "#and \"other\". Make the \"animals\" key refer to another dictionary with the keys \"cats\", \"octopi\", and\n",
    "#\"emus\". Make the \"cats\" key refer to a list of strings with the values \"Henri\", \"Grumpy\", and \"Lucy\".\n",
    "#Make all the other keys refer to empty dictionaries.\n",
    "\n",
    "life={\"animals\":{\"cats\":[\"Henri\",\"Grumpy\",\"Lucy\"],\"octopi\":{},\"emus\":{}}, \"plants\":{},\"other\":{}}"
   ]
  },
  {
   "cell_type": "code",
   "execution_count": 73,
   "id": "5af4f405",
   "metadata": {},
   "outputs": [
    {
     "data": {
      "text/plain": [
       "dict_keys(['animals', 'plants', 'other'])"
      ]
     },
     "execution_count": 73,
     "metadata": {},
     "output_type": "execute_result"
    }
   ],
   "source": [
    "#14. Print the top-level keys of life.\n",
    "\n",
    "life.keys()"
   ]
  },
  {
   "cell_type": "code",
   "execution_count": 75,
   "id": "4f8e6391",
   "metadata": {},
   "outputs": [
    {
     "data": {
      "text/plain": [
       "dict_keys(['cats', 'octopi', 'emus'])"
      ]
     },
     "execution_count": 75,
     "metadata": {},
     "output_type": "execute_result"
    }
   ],
   "source": [
    "#15. Print the keys for life[\"animals\"].\n",
    "\n",
    "life[\"animals\"].keys()"
   ]
  },
  {
   "cell_type": "code",
   "execution_count": 78,
   "id": "6f66c88c",
   "metadata": {},
   "outputs": [
    {
     "data": {
      "text/plain": [
       "['Henri', 'Grumpy', 'Lucy']"
      ]
     },
     "execution_count": 78,
     "metadata": {},
     "output_type": "execute_result"
    }
   ],
   "source": [
    "#16. Print the values for life[\"animals\"][\"cats\"]\n",
    "\n",
    "life[\"animals\"][\"cats\"]"
   ]
  }
 ],
 "metadata": {
  "kernelspec": {
   "display_name": "Python 3 (ipykernel)",
   "language": "python",
   "name": "python3"
  },
  "language_info": {
   "codemirror_mode": {
    "name": "ipython",
    "version": 3
   },
   "file_extension": ".py",
   "mimetype": "text/x-python",
   "name": "python",
   "nbconvert_exporter": "python",
   "pygments_lexer": "ipython3",
   "version": "3.9.7"
  }
 },
 "nbformat": 4,
 "nbformat_minor": 5
}
