{
 "cells": [
  {
   "cell_type": "code",
   "execution_count": 2,
   "id": "670654a6",
   "metadata": {},
   "outputs": [],
   "source": [
    "#1. What is the concept of an abstract superclass?\n",
    "\n",
    "#A class is called an Abstract class if it contains one or more abstract methods. An abstract method is a method that is \n",
    "#declared, but contains no implementation. \n",
    "#Abstract classes may not be instantiated, and its abstract methods must be implemented by its subclasses.\n",
    "\n",
    "#Note the abstract base class may have more than one abstract methods. \n",
    "#The child class must implement all of them failing which TypeError will be raised.\n",
    "\n",
    "#By defining an abstract base class, you can define a common Application Program Interface(API) for a set of subclasses. \n",
    "#This capability is especially useful in situations where a third-party is going to provide implementations, \n",
    "#such as with plugins, but can also help you when working in a large team or with a large code-base where keeping all \n",
    "#classes in your mind is difficult or not possible. \n",
    "\n",
    "\n",
    "#By default, Python does not provide abstract classes. Python comes with a module that provides the base for defining\n",
    "#Abstract Base classes(ABC) and that module name is ABC. ABC works by decorating methods of the base class as abstract \n",
    "#and then registering concrete classes as implementations of the abstract base. A method becomes abstract when \n",
    "#decorated with the keyword @abstractmethod.  "
   ]
  },
  {
   "cell_type": "code",
   "execution_count": 3,
   "id": "73a862ff",
   "metadata": {},
   "outputs": [],
   "source": [
    "#2. What happens when a class statement's top level contains a basic assignment statement?\n",
    "\n",
    "#When a class statement's toplevel contains a basic assignment statements,it will create the instance \n",
    "#variables and also it provides the default values."
   ]
  },
  {
   "cell_type": "code",
   "execution_count": 4,
   "id": "9e879ccd",
   "metadata": {},
   "outputs": [],
   "source": [
    "#3. Why does a class need to manually call a superclass's __init__ method?\n",
    "\n",
    "#The “__init__” is a reserved method in python classes. It is known as a constructor in Object-Oriented terminology. \n",
    "#This method when called, allows the class to initialize the attributes of the class.\n",
    "\n",
    "#The main reason for always calling super class _init__ is that superclass may typically create member variable\n",
    "#and initialize them to defaults. So if you don't call super class init, \n",
    "#none of that code would be executed and you would end up with base class that has no member variables."
   ]
  },
  {
   "cell_type": "code",
   "execution_count": 12,
   "id": "050d2812",
   "metadata": {},
   "outputs": [],
   "source": [
    "#4. How can you augment, instead of completely replacing, an inherited method?\n",
    "\n",
    "#What we really want to do here is somehow augment the original giveRaise, instead of replacing it altogether. \n",
    "#The good way to do that in Python is by calling to the original version directly, with augmented arguments, like this:\n",
    "\n",
    "#class Manager(Person):\n",
    "\n",
    "    #def giveRaise(self, percent, bonus=.10):\n",
    "\n",
    "#Person.giveRaise(self, percent + bonus) # Good: augment original\n",
    "\n",
    "#This code leverages the fact that a class method can always be called either through an instance (the usual way, where Python \n",
    "#sends the instance to the self argument automatically) or through the class (the less common scheme, where you must pass \n",
    "#the instance manually). \n",
    "\n",
    "#In more symbolic terms, recall that a normal method call of this form:\n",
    "\n",
    "#instance.method(args...) is automatically translated by Python into this equivalent form:\n",
    "\n",
    "#class.method(instance, args...)\n",
    "\n",
    "#where the class containing the method to be run is determined by the inheritance search rule applied to the \n",
    "#method's name. You can code either form in your script, but there is a slight asymmetry between the two—you must \n",
    "#remember to pass along the instance manually if you call through the class directly. \n",
    "#The method always needs a subject instance one way or another, and Python provides it automatically only for calls \n",
    "#made through an instance. \n",
    "\n",
    "#For calls through the class name, you need to send an instance to self yourself; \n",
    "#for code inside a method like giveRaise, self already is the subject of the call, and hence the instance to pass along."
   ]
  },
  {
   "cell_type": "code",
   "execution_count": null,
   "id": "11ea436c",
   "metadata": {},
   "outputs": [],
   "source": [
    "#5. How is the local scope of a class different from that of a function?\n",
    "\n",
    "#Local (or function) scope is the code block or body of any Python function or lambda expression. \n",
    "#This Python scope contains the names that you define inside the function. These names will only be visible from the code of \n",
    "#the function. It’s created at function call, not at function definition, so you’ll have as many different local scopes as \n",
    "#function calls. This is true even if you call the same function multiple times, or recursively. Each call will result in a \n",
    "#new local scope being created.\n",
    "\n",
    "#declaring a variable in a class (outside of a function) : all class functions can access it (basically a public variable): \n",
    "#comment:this is like a static variable and can be called using the class name. These variables are available to all functions,\n",
    "#any functions can modify it and print it.\n",
    "\n",
    "#declaring a variable inside a function inside a class : only that function can access it (its in that functions scope): \n",
    "#comment: if the variable is declared without self then it is accessible within that function only, kinda local variable. \n",
    "#However if it declared using self like self.var= 'somevalue',, then it is accessible via any object but not via the class name.\n",
    "\n",
    "#declaring a variable with self.(variable name) inside a function inside a class : all class functions can access it."
   ]
  }
 ],
 "metadata": {
  "kernelspec": {
   "display_name": "Python 3 (ipykernel)",
   "language": "python",
   "name": "python3"
  },
  "language_info": {
   "codemirror_mode": {
    "name": "ipython",
    "version": 3
   },
   "file_extension": ".py",
   "mimetype": "text/x-python",
   "name": "python",
   "nbconvert_exporter": "python",
   "pygments_lexer": "ipython3",
   "version": "3.9.7"
  }
 },
 "nbformat": 4,
 "nbformat_minor": 5
}
