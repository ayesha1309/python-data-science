{
 "cells": [
  {
   "cell_type": "code",
   "execution_count": 6,
   "id": "c682e71b",
   "metadata": {},
   "outputs": [
    {
     "name": "stdout",
     "output_type": "stream",
     "text": [
      "\n"
     ]
    }
   ],
   "source": [
    "#1. Make a class called Thing with no contents and print it. Then, create an object called example\n",
    "#from this class and also print it. Are the printed values the same or different?\n",
    "\n",
    "class Thing:\n",
    "    def myfunc(self):\n",
    "        print(\"\")\n",
    "\n",
    "example= Thing()\n",
    "example.myfunc()\n",
    "\n",
    "#The printed values are the same."
   ]
  },
  {
   "cell_type": "code",
   "execution_count": 7,
   "id": "fc448f33",
   "metadata": {},
   "outputs": [
    {
     "name": "stdout",
     "output_type": "stream",
     "text": [
      "The variables attributed is abc\n"
     ]
    }
   ],
   "source": [
    "#2. Create a new class called Thing2 and add the value 'abc' to the letters class attribute. Letters should be printed.\n",
    "\n",
    "class Thing2:\n",
    "    def __init__(self,x):\n",
    "        self.x =x\n",
    "    def myfunc1(self):\n",
    "        print(\"The variables attributed is\",self.x)\n",
    "        \n",
    "    \n",
    "test= Thing2('abc')\n",
    "test.myfunc1()"
   ]
  },
  {
   "cell_type": "code",
   "execution_count": 9,
   "id": "b8751464",
   "metadata": {},
   "outputs": [
    {
     "name": "stdout",
     "output_type": "stream",
     "text": [
      "Instance attribute is xyz\n"
     ]
    }
   ],
   "source": [
    "#3. Make yet another class called, of course, Thing3. This time, assign the value 'xyz' to an instance\n",
    "#(object) attribute called letters. Print letters. Do you need to make an object from the class to do this?\n",
    "\n",
    "class Thing3:\n",
    "    def __init__(self,a):\n",
    "        self.a=a\n",
    "    def myfunction(self):\n",
    "        print(\"Instance attribute is\",self.a)\n",
    "        \n",
    "letters=Thing3(\"xyz\")\n",
    "letters.myfunction()\n",
    "\n",
    "#yes we need an object from the class to do the task asked."
   ]
  },
  {
   "cell_type": "code",
   "execution_count": 11,
   "id": "7818e08e",
   "metadata": {},
   "outputs": [
    {
     "name": "stdout",
     "output_type": "stream",
     "text": [
      "the details of the element are Hydrogen H 1\n"
     ]
    }
   ],
   "source": [
    "#4. Create an Element class with the instance attributes name, symbol, and number. Create a class\n",
    "#object with the values \"Hydrogen\", \"H\" and 1.\n",
    "\n",
    "class Element:\n",
    "    def __init__(self,name,symbol,number):\n",
    "        self.name=name\n",
    "        self.symbol=symbol\n",
    "        self.number=number\n",
    "        \n",
    "    def details_of_element(self):\n",
    "        print(\"The details of the element are\",self.name,self.symbol,self.number)\n",
    "        \n",
    "hydro = Element(\"Hydrogen\",\"H\",1)\n",
    "hydro.details_of_element()"
   ]
  },
  {
   "cell_type": "code",
   "execution_count": 12,
   "id": "ac038e54",
   "metadata": {},
   "outputs": [
    {
     "name": "stdout",
     "output_type": "stream",
     "text": [
      "An instance of the class has been created\n",
      "{'name': 'Hydrogen', 'symbol': 'H', 'number': 1}\n"
     ]
    }
   ],
   "source": [
    "#5. Make a dictionary with these keys and values: 'name': 'Hydrogen', 'symbol': 'H', 'number': 1. \n",
    "#Then,create an object called hydrogen from class Element using this dictionary.\n",
    "\n",
    "class Element:\n",
    "    def __init__(self):\n",
    "        self.name= 'Hydrogen'\n",
    "        self.symbol = 'H'\n",
    "        self.number = 1\n",
    "\n",
    "hydrogen = Element()\n",
    "print(\"An instance of the class has been created\")\n",
    "print(hydrogen.__dict__)"
   ]
  },
  {
   "cell_type": "code",
   "execution_count": 16,
   "id": "1c90b767",
   "metadata": {},
   "outputs": [
    {
     "name": "stdout",
     "output_type": "stream",
     "text": [
      "An instance of the class has been created\n",
      "{'name': 'Hydrogen', 'symbol': 'H', 'number': 1}\n",
      "<__main__.element object at 0x0000023399553910>\n"
     ]
    }
   ],
   "source": [
    "#6. For the Element class, define a method called dump() that prints the values of the object’s\n",
    "#attributes (name, symbol, and number). Create the hydrogen object from this new definition and\n",
    "#use dump() to print its attributes.\n",
    "\n",
    "\n",
    "class Element:\n",
    "    def __init__(self):\n",
    "        self.name= 'Hydrogen'\n",
    "        self.symbol = 'H'\n",
    "        self.number = 1\n",
    "        \n",
    "    def dump(self):\n",
    "        print(\"An instance of the class has been created\")\n",
    "        print(self.__dict__)\n",
    "        \n",
    "hydrogen = Element()\n",
    "hydrogen.dump()\n",
    "print(hydrogen)"
   ]
  },
  {
   "cell_type": "code",
   "execution_count": 15,
   "id": "5edb7df8",
   "metadata": {},
   "outputs": [
    {
     "name": "stdout",
     "output_type": "stream",
     "text": [
      "An instance of the class has been created\n",
      "{'name': 'Hydrogen', 'symbol': 'H', 'number': 1}\n"
     ]
    },
    {
     "ename": "TypeError",
     "evalue": "__str__ returned non-string (type NoneType)",
     "output_type": "error",
     "traceback": [
      "\u001b[1;31m---------------------------------------------------------------------------\u001b[0m",
      "\u001b[1;31mTypeError\u001b[0m                                 Traceback (most recent call last)",
      "\u001b[1;32m~\\AppData\\Local\\Temp/ipykernel_17472/3695464244.py\u001b[0m in \u001b[0;36m<module>\u001b[1;34m\u001b[0m\n\u001b[0;32m     15\u001b[0m \u001b[1;33m\u001b[0m\u001b[0m\n\u001b[0;32m     16\u001b[0m \u001b[0mhydrogen\u001b[0m \u001b[1;33m=\u001b[0m \u001b[0melement\u001b[0m\u001b[1;33m(\u001b[0m\u001b[1;33m)\u001b[0m\u001b[1;33m\u001b[0m\u001b[1;33m\u001b[0m\u001b[0m\n\u001b[1;32m---> 17\u001b[1;33m \u001b[0mprint\u001b[0m\u001b[1;33m(\u001b[0m\u001b[0mhydrogen\u001b[0m\u001b[1;33m)\u001b[0m\u001b[1;33m\u001b[0m\u001b[1;33m\u001b[0m\u001b[0m\n\u001b[0m",
      "\u001b[1;31mTypeError\u001b[0m: __str__ returned non-string (type NoneType)"
     ]
    }
   ],
   "source": [
    "#7. Call print(hydrogen). In the definition of Element, change the name of method dump to __str__,\n",
    "#create a new hydrogen object, and call print(hydrogen) again.\n",
    "\n",
    "\n",
    "class Element:\n",
    "    def __init__(self):\n",
    "        self.name= 'Hydrogen'\n",
    "        self.symbol = 'H'\n",
    "        self.number = 1\n",
    "        \n",
    "    def __str__(self):\n",
    "        print(\"An instance of the class has been created\")\n",
    "        print(self.__dict__)\n",
    "        \n",
    "         \n",
    "hydrogen = Element()\n",
    "print(hydrogen)       \n"
   ]
  },
  {
   "cell_type": "code",
   "execution_count": 17,
   "id": "e6199509",
   "metadata": {},
   "outputs": [
    {
     "name": "stdout",
     "output_type": "stream",
     "text": [
      "An instance of the class has been created\n",
      "{'_Element__name': 'Hydrogen', '_Element__symbol': 'H', '_Element__number': 1}\n"
     ]
    }
   ],
   "source": [
    "#8. Modify Element to make the attributes name, symbol, and number private. Define a getter\n",
    "#property for each to return its value.\n",
    "\n",
    "class Element:\n",
    "    def __init__(self):\n",
    "        self.__name= 'Hydrogen'\n",
    "        self.__symbol = 'H'\n",
    "        self.__number = 1\n",
    "        \n",
    "    def getter(self):\n",
    "        print(\"An instance of the class has been created\")\n",
    "        print(self.__dict__)\n",
    "        \n",
    "hydrogen = Element()\n",
    "hydrogen.getter()"
   ]
  },
  {
   "cell_type": "code",
   "execution_count": 19,
   "id": "67356975",
   "metadata": {},
   "outputs": [
    {
     "name": "stdout",
     "output_type": "stream",
     "text": [
      "berries\n"
     ]
    }
   ],
   "source": [
    "#9. Define three classes: Bear, Rabbit, and Octothorpe. For each, define only one method: eats(). This\n",
    "#should return \"berries\" (Bear), \"clover\" (Rabbit), or \"campers\" (Octothorpe). Create one object from\n",
    "#each and print what it eats.\n",
    "\n",
    "class Bear:\n",
    "    def eats(self):\n",
    "        print(\"berries\")\n",
    "\n",
    "class Rabbit:\n",
    "    def eats(self):\n",
    "        print(\"clover\")\n",
    "        \n",
    "class Octothorpe:\n",
    "    def eats(self):\n",
    "        print(\"campers\")\n",
    "    \n",
    "    \n",
    "x=Bear()\n",
    "x.eats()"
   ]
  },
  {
   "cell_type": "code",
   "execution_count": 20,
   "id": "9b953605",
   "metadata": {},
   "outputs": [
    {
     "name": "stdout",
     "output_type": "stream",
     "text": [
      "clover\n"
     ]
    }
   ],
   "source": [
    "y= Rabbit()\n",
    "y.eats()"
   ]
  },
  {
   "cell_type": "code",
   "execution_count": 21,
   "id": "3d763084",
   "metadata": {},
   "outputs": [
    {
     "name": "stdout",
     "output_type": "stream",
     "text": [
      "campers\n"
     ]
    }
   ],
   "source": [
    "z=Octothorpe()\n",
    "z.eats()"
   ]
  },
  {
   "cell_type": "code",
   "execution_count": 6,
   "id": "89cd16d9",
   "metadata": {},
   "outputs": [
    {
     "name": "stdout",
     "output_type": "stream",
     "text": [
      "disintegrates\n",
      "crush\n",
      "ring\n"
     ]
    }
   ],
   "source": [
    "#10. Define these classes: Laser, Claw, and SmartPhone. Each has only one method: does(). This\n",
    "#returns \"disintegrate\" (Laser), \"crush\" (Claw), or \"ring\" (SmartPhone). Then, define the class Robot that\n",
    "#has one instance (object) of each of these. Define a does() method for the Robot that prints what its\n",
    "#component objects do.\n",
    "\n",
    "class Laser:\n",
    "    def does(self):\n",
    "        return \"disintegrates\"\n",
    "    \n",
    "class Claw:\n",
    "    def does(self):\n",
    "        return \"crush\"\n",
    "\n",
    "class SmartPhone:\n",
    "    def does(self):\n",
    "        return \"ring\"\n",
    "    \n",
    "class Robot(Laser,Claw,SmartPhone):\n",
    "    def does(self):\n",
    "        print(Laser.does(self))\n",
    "        print(Claw.does(self))\n",
    "        print(SmartPhone.does(self))\n",
    "    \n",
    "x=Robot()\n",
    "x.does()"
   ]
  }
 ],
 "metadata": {
  "kernelspec": {
   "display_name": "Python 3 (ipykernel)",
   "language": "python",
   "name": "python3"
  },
  "language_info": {
   "codemirror_mode": {
    "name": "ipython",
    "version": 3
   },
   "file_extension": ".py",
   "mimetype": "text/x-python",
   "name": "python",
   "nbconvert_exporter": "python",
   "pygments_lexer": "ipython3",
   "version": "3.9.7"
  }
 },
 "nbformat": 4,
 "nbformat_minor": 5
}
