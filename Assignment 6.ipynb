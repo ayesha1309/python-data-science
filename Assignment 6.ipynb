{
 "cells": [
  {
   "cell_type": "code",
   "execution_count": 1,
   "id": "5b4ae75a",
   "metadata": {},
   "outputs": [],
   "source": [
    "#1. What are escape characters and how do you use them?\n",
    "\n",
    "#An escape character is a backslash \\ followed by the character you want to insert. \n",
    "#These are used to insert special meaning to the statement or code\n",
    "\n",
    "#Examples for the escape characters are \\n,\\t."
   ]
  },
  {
   "cell_type": "code",
   "execution_count": 2,
   "id": "3c12e33d",
   "metadata": {},
   "outputs": [],
   "source": [
    "#2. What do the escape characters n and t stand for?\n",
    "\n",
    "#Escape characters with n stands for the insertion of newline.\n",
    "#Escape characters with t stands for the insertion of tab space."
   ]
  },
  {
   "cell_type": "code",
   "execution_count": 3,
   "id": "321fdfa7",
   "metadata": {},
   "outputs": [
    {
     "name": "stdout",
     "output_type": "stream",
     "text": [
      "Ayesha\\Zakir\n"
     ]
    }
   ],
   "source": [
    "#3. What is the way to include backslash characters in a string?\n",
    "\n",
    "#To include the baclslash characters in the string we should be using the double slash.\n",
    "\n",
    "#Example:\n",
    "\n",
    "print(\"Ayesha\\\\Zakir\")"
   ]
  },
  {
   "cell_type": "code",
   "execution_count": 4,
   "id": "6720063f",
   "metadata": {},
   "outputs": [
    {
     "name": "stdout",
     "output_type": "stream",
     "text": [
      "Howl's Moving Castle\n"
     ]
    }
   ],
   "source": [
    "#4. The string \"Howl's Moving Castle\"; is a correct value. Why isn\"t the single quote character in the\n",
    "#word Howl's not escaped a problem?\n",
    "\n",
    "print(\"Howl's Moving Castle\")\n",
    "\n",
    "#In the above statement the \"\" mean the string is enclosed. So all the single characters are also printed."
   ]
  },
  {
   "cell_type": "code",
   "execution_count": 5,
   "id": "76ea34bf",
   "metadata": {},
   "outputs": [
    {
     "name": "stdout",
     "output_type": "stream",
     "text": [
      "Howl's Moving Castle\n"
     ]
    }
   ],
   "source": [
    "print(\"Howl\\'s Moving Castle\")"
   ]
  },
  {
   "cell_type": "code",
   "execution_count": 6,
   "id": "fb3749d2",
   "metadata": {},
   "outputs": [],
   "source": [
    "#both the above outputs are same. \n",
    "#using the escape characters for the single or double quotes inside the string is not a problem"
   ]
  },
  {
   "cell_type": "code",
   "execution_count": 9,
   "id": "c894cc4b",
   "metadata": {},
   "outputs": [
    {
     "name": "stdout",
     "output_type": "stream",
     "text": [
      "Ayesha\n",
      "zakir\n",
      "pythoncourse\n"
     ]
    }
   ],
   "source": [
    "#5. How do you write a string of newlines if you don't want to use the n character?\n",
    "\n",
    "print(\"Ayesha\")\n",
    "print(\"zakir\")\n",
    "print(\"pythoncourse\")\n",
    "\n",
    "#Using different print statements can insert the string of newlines without using \\n characters. \n",
    "#\\n has been used behind the scenes for every print statement."
   ]
  },
  {
   "cell_type": "code",
   "execution_count": 11,
   "id": "270eec9a",
   "metadata": {},
   "outputs": [
    {
     "data": {
      "text/plain": [
       "'e'"
      ]
     },
     "execution_count": 11,
     "metadata": {},
     "output_type": "execute_result"
    }
   ],
   "source": [
    "#6. What are the values of the given expressions?\n",
    "\n",
    "'Hello, world!'[1]"
   ]
  },
  {
   "cell_type": "code",
   "execution_count": 12,
   "id": "7f9e2c94",
   "metadata": {},
   "outputs": [
    {
     "data": {
      "text/plain": [
       "'Hello'"
      ]
     },
     "execution_count": 12,
     "metadata": {},
     "output_type": "execute_result"
    }
   ],
   "source": [
    "'Hello, world!'[0:5]\n"
   ]
  },
  {
   "cell_type": "code",
   "execution_count": 13,
   "id": "f95c2e29",
   "metadata": {},
   "outputs": [
    {
     "data": {
      "text/plain": [
       "'Hello'"
      ]
     },
     "execution_count": 13,
     "metadata": {},
     "output_type": "execute_result"
    }
   ],
   "source": [
    "'Hello, world!'[:5]"
   ]
  },
  {
   "cell_type": "code",
   "execution_count": 14,
   "id": "14ed509f",
   "metadata": {},
   "outputs": [
    {
     "data": {
      "text/plain": [
       "'lo, world!'"
      ]
     },
     "execution_count": 14,
     "metadata": {},
     "output_type": "execute_result"
    }
   ],
   "source": [
    "'Hello, world!'[3:]"
   ]
  },
  {
   "cell_type": "code",
   "execution_count": 16,
   "id": "dc1d5a87",
   "metadata": {},
   "outputs": [
    {
     "name": "stdout",
     "output_type": "stream",
     "text": [
      "Object `expressions` not found.\n"
     ]
    },
    {
     "data": {
      "text/plain": [
       "'HELLO'"
      ]
     },
     "execution_count": 16,
     "metadata": {},
     "output_type": "execute_result"
    }
   ],
   "source": [
    "7. What are the values of the following expressions?\n",
    "\n",
    "'Hello'.upper()\n"
   ]
  },
  {
   "cell_type": "code",
   "execution_count": 18,
   "id": "cd3eed14",
   "metadata": {},
   "outputs": [
    {
     "data": {
      "text/plain": [
       "True"
      ]
     },
     "execution_count": 18,
     "metadata": {},
     "output_type": "execute_result"
    }
   ],
   "source": [
    "'Hello'.upper().isupper()\n"
   ]
  },
  {
   "cell_type": "code",
   "execution_count": 19,
   "id": "a6d7b798",
   "metadata": {},
   "outputs": [
    {
     "data": {
      "text/plain": [
       "'hello'"
      ]
     },
     "execution_count": 19,
     "metadata": {},
     "output_type": "execute_result"
    }
   ],
   "source": [
    "'Hello'.upper().lower()"
   ]
  },
  {
   "cell_type": "code",
   "execution_count": 22,
   "id": "5f3b4f47",
   "metadata": {},
   "outputs": [
    {
     "name": "stdout",
     "output_type": "stream",
     "text": [
      "Object `expressions` not found.\n"
     ]
    },
    {
     "data": {
      "text/plain": [
       "['Remember,', 'remember,', 'the', 'fifth', 'of', 'July.']"
      ]
     },
     "execution_count": 22,
     "metadata": {},
     "output_type": "execute_result"
    }
   ],
   "source": [
    "8. What are the values of the following expressions?\n",
    "\n",
    "'Remember, remember, the fifth of July.'.split()"
   ]
  },
  {
   "cell_type": "code",
   "execution_count": 25,
   "id": "44df1e58",
   "metadata": {},
   "outputs": [
    {
     "data": {
      "text/plain": [
       "'There_can_only_one.'"
      ]
     },
     "execution_count": 25,
     "metadata": {},
     "output_type": "execute_result"
    }
   ],
   "source": [
    "'_'.join('There can only one.'.split())"
   ]
  },
  {
   "cell_type": "code",
   "execution_count": 27,
   "id": "43330bb4",
   "metadata": {},
   "outputs": [
    {
     "data": {
      "text/plain": [
       "' I love to learn python'"
      ]
     },
     "execution_count": 27,
     "metadata": {},
     "output_type": "execute_result"
    }
   ],
   "source": [
    "#9. What are the methods for right-justifying, left-justifying, \n",
    "#and centering a string?\n",
    "\n",
    "#  right-justifying\n",
    "\n",
    "str =\" I love to learn python\"\n",
    "str"
   ]
  },
  {
   "cell_type": "code",
   "execution_count": 32,
   "id": "3f23416f",
   "metadata": {},
   "outputs": [
    {
     "name": "stdout",
     "output_type": "stream",
     "text": [
      "## I love to learn python\n"
     ]
    }
   ],
   "source": [
    "print (str.rjust(25,'#'))\n",
    "\n",
    "#builtin function is used"
   ]
  },
  {
   "cell_type": "code",
   "execution_count": 33,
   "id": "c956980c",
   "metadata": {},
   "outputs": [
    {
     "name": "stdout",
     "output_type": "stream",
     "text": [
      " I love to learn python*****************\n"
     ]
    }
   ],
   "source": [
    "print (str.ljust(40,'*'))\n",
    "\n",
    "#left justifying"
   ]
  },
  {
   "cell_type": "code",
   "execution_count": 34,
   "id": "04994a25",
   "metadata": {},
   "outputs": [
    {
     "name": "stdout",
     "output_type": "stream",
     "text": [
      "******** I love to learn python*********\n"
     ]
    }
   ],
   "source": [
    "print (str.center(40,'*'))\n",
    "\n",
    "#centre justifying"
   ]
  },
  {
   "cell_type": "code",
   "execution_count": 36,
   "id": "98605e47",
   "metadata": {},
   "outputs": [
    {
     "name": "stdout",
     "output_type": "stream",
     "text": [
      "      This is a cat    \n"
     ]
    }
   ],
   "source": [
    "#10. What is the best way to remove whitespace characters from the start or end?\n",
    "\n",
    "# The methods to remove the white space characters we can us  the built in functions.\n",
    "\n",
    "\n",
    "#strip() function to remove white spaces on the both the ends.\n",
    "\n",
    "l = \"      This is a cat    \"\n",
    "print (l)"
   ]
  },
  {
   "cell_type": "code",
   "execution_count": 37,
   "id": "8f936a4c",
   "metadata": {},
   "outputs": [
    {
     "name": "stdout",
     "output_type": "stream",
     "text": [
      "This is a cat\n"
     ]
    }
   ],
   "source": [
    "l1 = l.strip()\n",
    "print (l1)"
   ]
  },
  {
   "cell_type": "code",
   "execution_count": 40,
   "id": "d95747ce",
   "metadata": {},
   "outputs": [
    {
     "name": "stdout",
     "output_type": "stream",
     "text": [
      "      This is a cat    \n",
      "This is a cat    \n"
     ]
    }
   ],
   "source": [
    "l\n",
    "print(l)\n",
    "l2 = l.lstrip()\n",
    "print(l2)"
   ]
  },
  {
   "cell_type": "code",
   "execution_count": 41,
   "id": "e08f4932",
   "metadata": {},
   "outputs": [
    {
     "name": "stdout",
     "output_type": "stream",
     "text": [
      "      This is a cat    \n",
      "      This is a cat\n"
     ]
    }
   ],
   "source": [
    "l\n",
    "print (l)\n",
    "l3 = l.rstrip() \n",
    "print(l3)"
   ]
  },
  {
   "cell_type": "code",
   "execution_count": null,
   "id": "75d728c6",
   "metadata": {},
   "outputs": [],
   "source": []
  }
 ],
 "metadata": {
  "kernelspec": {
   "display_name": "Python 3 (ipykernel)",
   "language": "python",
   "name": "python3"
  },
  "language_info": {
   "codemirror_mode": {
    "name": "ipython",
    "version": 3
   },
   "file_extension": ".py",
   "mimetype": "text/x-python",
   "name": "python",
   "nbconvert_exporter": "python",
   "pygments_lexer": "ipython3",
   "version": "3.9.7"
  }
 },
 "nbformat": 4,
 "nbformat_minor": 5
}
