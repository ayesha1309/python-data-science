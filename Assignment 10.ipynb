{
 "cells": [
  {
   "cell_type": "code",
   "execution_count": 1,
   "id": "56d3c3c0",
   "metadata": {},
   "outputs": [],
   "source": [
    "#1. How do you distinguish between shutil.copy() and shutil.copytree()?\n",
    "\n",
    "#Shutil module in Python provides many functions of high-level operations on files and collections of files. \n",
    "#It comes under Python’s standard utility modules. \n",
    "#This module helps in automating process of copying and removal of files and directories.\n",
    "\n",
    "#shutil.copytree() method recursively copies an entire directory tree rooted at source (src) to the destination directory. \n",
    "#The destination directory, named by (dst) must not already exist. It will be created during copying.\n",
    "\n",
    "#shutil.copy() method in Python is used to copy the content of source file to destination file or directory. \n",
    "#It also preserves the file’s permission mode but other metadata of the file like the file’s creation and \n",
    "#modification times is not preserved.Source must represent a file but destination can be a file or a directory. \n",
    "#If the destination is a directory then the file will be copied into destination using the base filename from source. \n",
    "#Also, destination must be writable. \n",
    "#If destination is a file and already exists then it will be replaced with the source file otherwise a new file will be created.\n",
    " "
   ]
  },
  {
   "cell_type": "code",
   "execution_count": null,
   "id": "90207040",
   "metadata": {},
   "outputs": [],
   "source": [
    "#2. What function is used to rename files??\n",
    "\n",
    "#You can use os module's rename method. For example, you want to rename a file from a.txt to b.txt with \n",
    "#these files present in your current directory,\n",
    "\n",
    ">>> import os\n",
    ">>> os.rename('a.txt', 'b.txt')\n",
    "\n",
    "#You can also use the shutil (or shell utilities) module. Calling shutil.move(source, destination) \n",
    "#will move the file or folder at the path source to the path destination and will return a string of the \n",
    "#absolute path of the new location.\n",
    "\n",
    "For example\n",
    ">>> import shutil\n",
    ">>> shutil.move('a.txt', 'b.txt')\n",
    "If you have the files in different directories, then specify the absolute path for both methods."
   ]
  },
  {
   "cell_type": "code",
   "execution_count": 3,
   "id": "c9478dde",
   "metadata": {},
   "outputs": [],
   "source": [
    "#3. What is the difference between the delete functions in the send2trash and shutil modules?\n",
    "\n",
    "#Send2Trash is a small package that sends files to the Trash (or Recycle Bin) natively and on all platforms.\n",
    "#Deleting a file or folder\n",
    "#The send2trash() function accepts the location of the file or folder to be deleted.\n",
    "\n",
    "#import send2trash\n",
    "  \n",
    "#send2trash.send2trash(\"/location/to/file\")\n",
    "#The process of deleting a directory is same as above. If the directory contains files or other folders, those are also deleted. A TrashPermissionError exception is raised, \n",
    "#in case a file could not be deleted due to permission error or any other unexpected reason.\n",
    "\n",
    "\n",
    "#shutil.rmtree() is used to delete an entire directory tree, path must point to a directory \n",
    "#(but not a symbolic link to a directory).\n",
    " "
   ]
  },
  {
   "cell_type": "code",
   "execution_count": null,
   "id": "34aae340",
   "metadata": {},
   "outputs": [],
   "source": [
    "#4.ZipFile objects have a close() method just like File objects’ close() method. \n",
    "#What ZipFile method is equivalent to File objects’ open() method?\n",
    "\n",
    "#To work on zip files using python, we will use an inbuilt python module called zipfile.\n",
    "#class zipfile.ZipFile(file, mode='r', compression=ZIP_STORED, allowZip64=True, compresslevel=None, *, strict_timestamps=True)¶\n",
    "\n",
    "#ZipFile.open(name, mode='r', pwd=None, *, force_zip64=False)\n",
    "#Access a member of the archive as a binary file-like object. name can be either the name of a file within the archive or a \n",
    "#ZipInfo object. The mode parameter, if included, must be 'r' (the default) or 'w'. \n",
    "#pwd is the password used to decrypt encrypted ZIP files.\n",
    "\n",
    "\n",
    "\n",
    "\"\"\"A file object allows us to use, access and manipulate all the user accessible files.\n",
    "One can read and write any such files.\n",
    "When a file operation fails for an I/O-related reason, the exception IOError is raised. \n",
    "This includes situations where the operation is not defined for some reason, \n",
    "like seek() on a tty device or writing a file opened for reading.\n",
    "\n",
    "Files have the following methods:\n",
    "\n",
    "open(): Opens a file in given access mode.\n",
    "open(file_address, access_mode) \n",
    "Examples of accessing a file: A file can be opened with a built-in function called open().\n",
    "This function takes in the file’s address and the access_mode and returns a file object.\n",
    "There are different types of access_modes:\n",
    "\n",
    "r: Opens a file for reading only\n",
    "r+: Opens a file for both reading and writing\n",
    "w: Opens a file for writing only\n",
    "w+: Open a file for writing and reading.\n",
    "a: Opens a file for appending\n",
    "a+: Opens a file for both appending and reading\n",
    "When you add 'b' to the access modes you can read the file in binary format rather than the default text format. \n",
    "It is used when the file to be accessed is not in text.\"\"\""
   ]
  },
  {
   "cell_type": "code",
   "execution_count": 5,
   "id": "24eb6e32",
   "metadata": {},
   "outputs": [
    {
     "name": "stdout",
     "output_type": "stream",
     "text": [
      "Requirement already satisfied: pytest-shutil in c:\\users\\amdza\\anaconda3\\lib\\site-packages (1.7.0)\n",
      "Requirement already satisfied: six in c:\\users\\amdza\\anaconda3\\lib\\site-packages (from pytest-shutil) (1.16.0)\n",
      "Requirement already satisfied: path.py in c:\\users\\amdza\\anaconda3\\lib\\site-packages (from pytest-shutil) (12.5.0)\n",
      "Requirement already satisfied: termcolor in c:\\users\\amdza\\anaconda3\\lib\\site-packages (from pytest-shutil) (1.1.0)\n",
      "Requirement already satisfied: mock in c:\\users\\amdza\\anaconda3\\lib\\site-packages (from pytest-shutil) (4.0.3)\n",
      "Requirement already satisfied: contextlib2 in c:\\users\\amdza\\anaconda3\\lib\\site-packages (from pytest-shutil) (0.6.0.post1)\n",
      "Requirement already satisfied: pytest in c:\\users\\amdza\\anaconda3\\lib\\site-packages (from pytest-shutil) (6.2.4)\n",
      "Requirement already satisfied: execnet in c:\\users\\amdza\\anaconda3\\lib\\site-packages (from pytest-shutil) (1.9.0)\n",
      "Requirement already satisfied: path in c:\\users\\amdza\\anaconda3\\lib\\site-packages (from path.py->pytest-shutil) (16.0.0)\n",
      "Requirement already satisfied: attrs>=19.2.0 in c:\\users\\amdza\\anaconda3\\lib\\site-packages (from pytest->pytest-shutil) (21.2.0)\n",
      "Requirement already satisfied: iniconfig in c:\\users\\amdza\\anaconda3\\lib\\site-packages (from pytest->pytest-shutil) (1.1.1)\n",
      "Requirement already satisfied: packaging in c:\\users\\amdza\\anaconda3\\lib\\site-packages (from pytest->pytest-shutil) (21.0)\n",
      "Requirement already satisfied: pluggy<1.0.0a1,>=0.12 in c:\\users\\amdza\\anaconda3\\lib\\site-packages (from pytest->pytest-shutil) (0.13.1)\n",
      "Requirement already satisfied: py>=1.8.2 in c:\\users\\amdza\\anaconda3\\lib\\site-packages (from pytest->pytest-shutil) (1.10.0)\n",
      "Requirement already satisfied: toml in c:\\users\\amdza\\anaconda3\\lib\\site-packages (from pytest->pytest-shutil) (0.10.2)\n",
      "Requirement already satisfied: atomicwrites>=1.0 in c:\\users\\amdza\\anaconda3\\lib\\site-packages (from pytest->pytest-shutil) (1.4.0)\n",
      "Requirement already satisfied: colorama in c:\\users\\amdza\\anaconda3\\lib\\site-packages (from pytest->pytest-shutil) (0.4.4)\n",
      "Requirement already satisfied: pyparsing>=2.0.2 in c:\\users\\amdza\\anaconda3\\lib\\site-packages (from packaging->pytest->pytest-shutil) (3.0.4)\n"
     ]
    }
   ],
   "source": [
    "#5. Create a programme that searches a folder tree for files with a certain file extension (such as .pdf\n",
    "#or .jpg). Copy these files from whatever location they are in to a new folder.\n",
    "\n",
    "!pip install pytest-shutil\n"
   ]
  },
  {
   "cell_type": "code",
   "execution_count": 1,
   "id": "3b22a3e9",
   "metadata": {},
   "outputs": [
    {
     "name": "stdout",
     "output_type": "stream",
     "text": [
      "Looking in C:\\Users\\amdza\\abc for files with extensions of .ipynb\n",
      "Coping C:\\Users\\amdza\\abc\\Assignment17.ipynb to C:\\Users\\amdza\\def\n",
      "Coping C:\\Users\\amdza\\abc\\Exception handling class 1.ipynb to C:\\Users\\amdza\\def\n",
      "Coping C:\\Users\\amdza\\abc\\Exception handling class 2 (1).ipynb to C:\\Users\\amdza\\def\n",
      "Coping C:\\Users\\amdza\\abc\\file sysetm.ipynb to C:\\Users\\amdza\\def\n",
      "Coping C:\\Users\\amdza\\abc\\for loops while loop.ipynb to C:\\Users\\amdza\\def\n",
      "Coping C:\\Users\\amdza\\abc\\Function and holiday task.ipynb to C:\\Users\\amdza\\def\n",
      "Coping C:\\Users\\amdza\\abc\\Function continued (2).ipynb to C:\\Users\\amdza\\def\n",
      "Coping C:\\Users\\amdza\\abc\\functions homework for practice.ipynb to C:\\Users\\amdza\\def\n",
      "Coping C:\\Users\\amdza\\abc\\functions-23 dec class.ipynb to C:\\Users\\amdza\\def\n"
     ]
    }
   ],
   "source": [
    "\n",
    "import os\n",
    "import shutil\n",
    "\n",
    "def selectiveCopy(folder, extensions, destFolder):\n",
    "\tfolder = os.path.abspath(folder)\n",
    "\tdestFolder = os.path.abspath(destFolder)\n",
    "#abspath() function returns the pathname to a path passed as a parameter.\n",
    "\tprint('Looking in', folder, 'for files with extensions of', ', '.join(extensions))\n",
    "\tfor foldername, subfolders, filenames in os.walk(folder):\n",
    "#OS.walk() generate the file names in a directory tree by walking the tree either top-down or bottom-up\n",
    "\t\tfor filename in filenames:\n",
    "\t\t\tname, extension = os.path.splitext(filename)\n",
    "#os.path.splitext() method in Python is used to split the path name into a pair root and ext. \n",
    "#Here, ext stands for extension and has the extension portion of the specified path while root is everything except ext part.\n",
    "\t\t\tif extension in extensions:\n",
    "\t\t\t\tfileAbsPath = foldername + os.path.sep + filename\n",
    "#os.path.sep or os.sep returns the character used by the operating system to separate pathname components.\n",
    "\t\t\t\tprint('Coping', fileAbsPath, 'to', destFolder)\n",
    "\t\t\t\tshutil.copy(fileAbsPath, destFolder)\n",
    "\n",
    "extensions = ['.ipynb']\n",
    "folder = 'abc'\n",
    "destFolder = 'def'\n",
    "selectiveCopy(folder, extensions, destFolder)\n"
   ]
  }
 ],
 "metadata": {
  "kernelspec": {
   "display_name": "Python 3 (ipykernel)",
   "language": "python",
   "name": "python3"
  },
  "language_info": {
   "codemirror_mode": {
    "name": "ipython",
    "version": 3
   },
   "file_extension": ".py",
   "mimetype": "text/x-python",
   "name": "python",
   "nbconvert_exporter": "python",
   "pygments_lexer": "ipython3",
   "version": "3.9.7"
  }
 },
 "nbformat": 4,
 "nbformat_minor": 5
}
