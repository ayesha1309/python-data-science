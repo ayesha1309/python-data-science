{
 "cells": [
  {
   "cell_type": "code",
   "execution_count": 13,
   "id": "657be5e2",
   "metadata": {},
   "outputs": [],
   "source": [
    "#1.To what does a relative path refer?\n",
    "\n",
    "# A relative path points to a location that is relative to a current directory. \n",
    "#Relative paths make use of two special symbols, a dot (.) and a double-dot (..), \n",
    "#which translate into the current directory and the parent directory.\n",
    "\n",
    "\n",
    "#The OS module in Python provides functions for interacting with the operating system. \n",
    "#The os.path module is a sub-module of the OS module in Python used for common path name manipulation.\n",
    "\n",
    "#A relative path depicts the location of a file or folder is relative to the current working directory."
   ]
  },
  {
   "cell_type": "code",
   "execution_count": 4,
   "id": "57d2d4f0",
   "metadata": {},
   "outputs": [],
   "source": [
    "#2.What does an absolute path start with your operating system?\n",
    "\n",
    "#An absolute path is a path that describes the location of a file or folder regardless of the current working directory;\n",
    "#in fact, it is relative to the root directory.\n",
    "\n",
    "#Absolute file paths start with a leading forward slash and describe how to access a given file or directory, \n",
    "#starting from the root of the file system."
   ]
  },
  {
   "cell_type": "code",
   "execution_count": 6,
   "id": "e5b38718",
   "metadata": {},
   "outputs": [
    {
     "data": {
      "text/plain": [
       "'C:\\\\Users\\\\amdza'"
      ]
     },
     "execution_count": 6,
     "metadata": {},
     "output_type": "execute_result"
    }
   ],
   "source": [
    "#3. What do the functions os.getcwd() and os.chdir() do?\n",
    "\n",
    "#os. getcwd() method tells us the location of current working directory (CWD).\n",
    "import os\n",
    "os.getcwd()\n",
    "\n",
    "#os.chdir() method in Python used to change the current working directory to specified path. \n",
    "#It takes only a single argument as new directory path.\n"
   ]
  },
  {
   "cell_type": "code",
   "execution_count": 8,
   "id": "21dd86bd",
   "metadata": {},
   "outputs": [],
   "source": [
    "#4. What are the . and .. folders?\n",
    "\n",
    "#Relative paths make use of two special symbols, a dot (.) and a double-dot (..), \n",
    "#which translate into the current directory and the parent directory."
   ]
  },
  {
   "cell_type": "code",
   "execution_count": 9,
   "id": "d06fb9f7",
   "metadata": {},
   "outputs": [],
   "source": [
    "#5. In C:\\bacon\\eggs\\spam.txt, which part is the dir name, and which part is the base name?\n",
    "\n",
    "#In C:\\bacon\\eggs\\spam.txt,dir name is \\bacon\\eggs (head of the path is returned for dirname)\n",
    "   # base name is spam.txt(tail of the path is returned for basename)"
   ]
  },
  {
   "cell_type": "markdown",
   "id": "2839fcd9",
   "metadata": {},
   "source": [
    "#6. What are the three “mode” arguments that can be passed to the open() function?\n",
    "\n",
    "#open(file, mode)\n",
    "\n",
    "\"\"\"file\tThe path and name of the file\n",
    "mode\tA string, define which mode you want to open the file in:\n",
    "    \n",
    "\"r\" - Read - Default value. Opens a file for reading, error if the file does not exist\n",
    "\n",
    "\"a\" - Append - Opens a file for appending, creates the file if it does not exist\n",
    "\n",
    "\"w\" - Write - Opens a file for writing, creates the file if it does not exist\n",
    "\n",
    "\"x\" - Create - Creates the specified file, returns an error if the file exist\"\"\""
   ]
  },
  {
   "cell_type": "code",
   "execution_count": 11,
   "id": "9d71932f",
   "metadata": {},
   "outputs": [],
   "source": [
    "#7. What happens if an existing file is opened in write mode?\n",
    "\n",
    "#if an existing file is opened in write mode : Opens a file for writing, creates the file if it does not exist\n"
   ]
  },
  {
   "cell_type": "markdown",
   "id": "09c9ee11",
   "metadata": {},
   "source": [
    "#8. How do you tell the difference between read() and readlines()?\n",
    "\n",
    "\"\"\"If you have a file (test.txt) like so:\n",
    "\n",
    "first line\n",
    "second line\n",
    "third line\n",
    "\n",
    "Then this code:\n",
    "\n",
    "open(\"test.txt\", \"r\") as file:\n",
    "    line = file.readline()\n",
    "    print(line)\n",
    "Will produce this output:\n",
    "\n",
    "first line\n",
    "\n",
    "That's because readline just reads the next line.\n",
    "\n",
    "If you use this code instead:\n",
    "\n",
    "with open(\"test.txt\", \"r\") as file:\n",
    "    content = file.read()\n",
    "    print(content)\n",
    "    \n",
    "Output:\n",
    "\n",
    "first line\n",
    "second line\n",
    "third line\n",
    "\n",
    "read() reads the entire contents of the file into a string. \n",
    "readlines() which returns a list of lines (strings):\"\"\"\n"
   ]
  },
  {
   "cell_type": "code",
   "execution_count": 12,
   "id": "4e5625af",
   "metadata": {},
   "outputs": [],
   "source": [
    "#9. What data structure does a shelf value resemble?\n",
    "\n",
    "# A shelf value resembles a dictionary value; it has keys and values, \n",
    "#along with keys() and values() methods that work similarly to the dictionary methods of the same names."
   ]
  }
 ],
 "metadata": {
  "kernelspec": {
   "display_name": "Python 3 (ipykernel)",
   "language": "python",
   "name": "python3"
  },
  "language_info": {
   "codemirror_mode": {
    "name": "ipython",
    "version": 3
   },
   "file_extension": ".py",
   "mimetype": "text/x-python",
   "name": "python",
   "nbconvert_exporter": "python",
   "pygments_lexer": "ipython3",
   "version": "3.9.7"
  }
 },
 "nbformat": 4,
 "nbformat_minor": 5
}
