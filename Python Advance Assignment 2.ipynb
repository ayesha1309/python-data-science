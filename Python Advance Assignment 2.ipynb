{
 "cells": [
  {
   "cell_type": "code",
   "execution_count": 3,
   "id": "58617212",
   "metadata": {},
   "outputs": [],
   "source": [
    "#Q1. What is the relationship between classes and modules?\n",
    "\n",
    "#Classess:\n",
    "    #Classes in python act as a blueprint based on which objects are created.For any object, \n",
    "    #When we want to define its functionalities, we include that inside the class. \n",
    "    \n",
    "#Modules:\n",
    "    #Modules in Python are files with a .py extension using which we can reuse elements inside that file. \n",
    "    #When we create a python program,the program may contain inside it functions, variables, and even classes.\n",
    "    \n",
    "    #If we want to reuse the same piece of function code or the same class,rewriting it would make our code \n",
    "    #redundant and repetitive.Instead, we can import that entire file as a module into another program."
   ]
  },
  {
   "cell_type": "code",
   "execution_count": 6,
   "id": "bd2cb49a",
   "metadata": {},
   "outputs": [
    {
     "data": {
      "text/plain": [
       "'This would create second object of Employee class'"
      ]
     },
     "execution_count": 6,
     "metadata": {},
     "output_type": "execute_result"
    }
   ],
   "source": [
    "#Q2. How do you make instances and classes?\n",
    "\n",
    "#The class statement creates a new class definition. The name of the class immediately follows the keyword class \n",
    "#followed by a colon as follows −\n",
    "\n",
    "class ClassName:\n",
    "   'Optional class documentation string'\n",
    "   #class_suite\n",
    "\n",
    "#The class has a documentation string, which can be accessed via ClassName.__doc__.\n",
    "\n",
    "#The class_suite consists of all the component statements defining class members, data attributes and functions.\n",
    "\n",
    "#To create instances of a class, you call the class using class name and pass in whatever arguments its __init__ method accepts.\n",
    "\n",
    "\"This would create first object of Employee class\"\n",
    "#emp1 = Employee(\"Zara\", 2000)\n",
    "\"This would create second object of Employee class\"\n",
    "#emp2 = Employee(\"Manni\", 5000)"
   ]
  },
  {
   "cell_type": "code",
   "execution_count": 7,
   "id": "f871fe31",
   "metadata": {},
   "outputs": [
    {
     "name": "stdout",
     "output_type": "stream",
     "text": [
      "3.14159\n",
      "3.14159\n"
     ]
    }
   ],
   "source": [
    "#Q3. Where and how should be class attributes created?\n",
    "\n",
    "#Python also supports class attributes. The class attributes don’t associate with any specific instance of the class.\n",
    "#But they’re shared by all instances of the class.\n",
    "#To define a class attribute, you place it outside of the __init__() method. \n",
    "\n",
    "class Circle:\n",
    "    pi = 3.14159 # class attribute here is pi\n",
    "\n",
    "    def __init__(self, radius):\n",
    "        self.radius = radius\n",
    "\n",
    "    def area(self):\n",
    "        return self.pi * self.radius**2\n",
    "\n",
    "    def circumference(self):\n",
    "        return 2 * self.pi * self.radius\n",
    "\n",
    "#After that, you can access the class attribute via instances of the class or via the class name:\n",
    "\n",
    "#object_name.class_attribute\n",
    "#class_name.class_attribute\n",
    "\n",
    "c = Circle(10)\n",
    "print(c.pi)\n",
    "print(Circle.pi)"
   ]
  },
  {
   "cell_type": "code",
   "execution_count": 8,
   "id": "dd7d679c",
   "metadata": {},
   "outputs": [],
   "source": [
    "#Q4. Where and how are instance attributes created?\n",
    "\n",
    "#The Circle class has two attributes pi and radius. It also has two methods that calculate the area \n",
    "#and circumference of a circle.\n",
    "\n",
    "class Circle:\n",
    "    def __init__(self, radius):\n",
    "        self.pi = 3.14159 #instance attributes\n",
    "        self.radius = radius #instance attributes\n",
    "\n",
    "    def area(self):\n",
    "        return self.pi * self.radius**2\n",
    "\n",
    "    def circumference(self):\n",
    "        return 2*self.pi * self.radius\n",
    "\n",
    "#Both pi and radius are called instance attributes. In other words, they belong to a specific instance of the Circle class. \n",
    "#If you change the attributes of an instance, it won’t affect other instances."
   ]
  },
  {
   "cell_type": "code",
   "execution_count": 10,
   "id": "0fcc9cd6",
   "metadata": {},
   "outputs": [
    {
     "name": "stdout",
     "output_type": "stream",
     "text": [
      "fruit is apple\n",
      "color is red\n",
      "fruit is grapes\n",
      "color is green\n"
     ]
    }
   ],
   "source": [
    "#Q5. What does the term \"self\" in a Python class mean?\n",
    "\n",
    "#The self is used to represent the instance of the class. With this keyword, you can access the attributes \n",
    "#and methods of the class in python. It binds the attributes with the given arguments. \n",
    "#The reason why we use self is that Python does not use the ‘@’ syntax to refer to instance attributes. \n",
    "\n",
    "#In Python, we have methods that make the instance to be passed automatically, but not received automatically.\n",
    "\n",
    "#Example:\n",
    "\n",
    "class food():\n",
    " \n",
    "    def __init__(self, fruit, color):\n",
    "        self.fruit = fruit\n",
    "        self.color = color\n",
    " \n",
    "    def show(self):\n",
    "        print(\"fruit is\", self.fruit)\n",
    "        print(\"color is\", self.color )\n",
    " \n",
    "apple = food(\"apple\", \"red\")\n",
    "grapes = food(\"grapes\", \"green\")\n",
    " \n",
    "apple.show()\n",
    "grapes.show()\n",
    " "
   ]
  },
  {
   "cell_type": "code",
   "execution_count": 12,
   "id": "1d171eef",
   "metadata": {},
   "outputs": [
    {
     "ename": "TypeError",
     "evalue": "unsupported operand type(s) for +: 'Point' and 'Point'",
     "output_type": "error",
     "traceback": [
      "\u001b[1;31m---------------------------------------------------------------------------\u001b[0m",
      "\u001b[1;31mTypeError\u001b[0m                                 Traceback (most recent call last)",
      "\u001b[1;32m~\\AppData\\Local\\Temp/ipykernel_18452/698974736.py\u001b[0m in \u001b[0;36m<module>\u001b[1;34m\u001b[0m\n\u001b[0;32m     14\u001b[0m \u001b[0mp1\u001b[0m \u001b[1;33m=\u001b[0m \u001b[0mPoint\u001b[0m\u001b[1;33m(\u001b[0m\u001b[1;36m1\u001b[0m\u001b[1;33m,\u001b[0m \u001b[1;36m2\u001b[0m\u001b[1;33m)\u001b[0m\u001b[1;33m\u001b[0m\u001b[1;33m\u001b[0m\u001b[0m\n\u001b[0;32m     15\u001b[0m \u001b[0mp2\u001b[0m \u001b[1;33m=\u001b[0m \u001b[0mPoint\u001b[0m\u001b[1;33m(\u001b[0m\u001b[1;36m2\u001b[0m\u001b[1;33m,\u001b[0m \u001b[1;36m3\u001b[0m\u001b[1;33m)\u001b[0m\u001b[1;33m\u001b[0m\u001b[1;33m\u001b[0m\u001b[0m\n\u001b[1;32m---> 16\u001b[1;33m \u001b[0mprint\u001b[0m\u001b[1;33m(\u001b[0m\u001b[0mp1\u001b[0m\u001b[1;33m+\u001b[0m\u001b[0mp2\u001b[0m\u001b[1;33m)\u001b[0m\u001b[1;33m\u001b[0m\u001b[1;33m\u001b[0m\u001b[0m\n\u001b[0m\u001b[0;32m     17\u001b[0m \u001b[1;33m\u001b[0m\u001b[0m\n\u001b[0;32m     18\u001b[0m \u001b[1;31m#To overload the + operator, we will need to implement __add__() function in the class.\u001b[0m\u001b[1;33m\u001b[0m\u001b[1;33m\u001b[0m\u001b[0m\n",
      "\u001b[1;31mTypeError\u001b[0m: unsupported operand type(s) for +: 'Point' and 'Point'"
     ]
    }
   ],
   "source": [
    "#Q6. How does a Python class handle operator overloading?\n",
    "\n",
    "#Python operators work for built-in classes. But the same operator behaves differently with different types. \n",
    "#For example, the + operator will perform arithmetic addition on two numbers, merge two lists, or concatenate two strings.\n",
    "\n",
    "#This feature in Python that allows the same operator to have different meaning according to the context is called \n",
    "#operator overloading.\n",
    "class Point:\n",
    "    def __init__(self, x=0, y=0):\n",
    "        self.x = x\n",
    "        self.y = y\n",
    "\n",
    "\n",
    "p1 = Point(1, 2)\n",
    "p2 = Point(2, 3)\n",
    "print(p1+p2)\n",
    "\n",
    "#Here, we can see that a TypeError was raised, since Python didn't know how to add two Point objects together."
   ]
  },
  {
   "cell_type": "code",
   "execution_count": 13,
   "id": "5ad3f244",
   "metadata": {},
   "outputs": [],
   "source": [
    "#To overload the + operator, we will need to implement __add__() function in the class.\n",
    "\n",
    "class Point:\n",
    "    def __init__(self, x=0, y=0):\n",
    "        self.x = x\n",
    "        self.y = y\n",
    "\n",
    "    def __str__(self):\n",
    "        return \"({0},{1})\".format(self.x, self.y)\n",
    "\n",
    "    def __add__(self, other):\n",
    "        x = self.x + other.x\n",
    "        y = self.y + other.y\n",
    "        return Point(x, y)"
   ]
  },
  {
   "cell_type": "code",
   "execution_count": 14,
   "id": "72ae344f",
   "metadata": {},
   "outputs": [
    {
     "name": "stdout",
     "output_type": "stream",
     "text": [
      "(3,5)\n"
     ]
    }
   ],
   "source": [
    "p1 = Point(1, 2)\n",
    "p2 = Point(2, 3)\n",
    "\n",
    "print(p1+p2)"
   ]
  },
  {
   "cell_type": "code",
   "execution_count": 15,
   "id": "490c7952",
   "metadata": {},
   "outputs": [],
   "source": [
    "#Q7. When do you consider allowing operator overloading of your classes?\n",
    "\n",
    "#Consider that we have two objects which are a physical representation of a class (user-defined data type) and we have\n",
    "#to add two objects with binary ‘+’ operator it throws an error, because compiler don’t know how to add two objects. \n",
    "#So we define a method for an operator and that process is called operator overloading. \n",
    "#We can overload all existing operators but we can’t create a new operator. \n",
    "#To perform operator overloading, Python provides some special function or magic function that is automatically invoked \n",
    "#when it is associated with that particular operator. For example, when we use + operator, the magic \n",
    "#method __add__ is automatically invoked in which the operation for + operator is defined.\n",
    "\n",
    "#the example of the same is implemented above\n"
   ]
  },
  {
   "cell_type": "code",
   "execution_count": 16,
   "id": "dbb83131",
   "metadata": {},
   "outputs": [],
   "source": [
    "#Q8. What is the most popular form of operator overloading?\n",
    "\n",
    "#Operator overloading is the process of using an operator in different ways depending on the operands. \n",
    "#You can change the way an operator in Python works on different data-types.\n",
    "\n",
    "#A very popular and convenient example is the Addition (+) operator.\n",
    "#Operators in Python work for built-in classes, like int, str, list, etc. \n",
    "#But you can extend their operability such that they work on objects of user-defined classes too."
   ]
  },
  {
   "cell_type": "code",
   "execution_count": null,
   "id": "65ec85a9",
   "metadata": {},
   "outputs": [],
   "source": [
    "#Q9. What are the two most important concepts to grasp in order to comprehend Python OOP code?\n",
    "\n",
    "#Everything in Python is an object and every object has a type. These types are declared and defined using classes. \n",
    "#Thus, classes can be considered as the heart of OOP.\n",
    "\n",
    "#Both inheritance and polymorphism are key ingredients for designing robust, flexible, and easy-to-maintain software. \n",
    "\n",
    "#It is important to note that inheritance does not mean copying a class. We can partially inherit from a parent (or base class).\n",
    "#Python also allows for adding new attributes as well as modifying the existing ones. \n",
    "#Thus, inheritance comes with a great deal of flexibility.\n",
    "\n",
    "#Although the name of the method is the same, it behaves differently for different type of objects. \n",
    "#This is an example of polymorphism.\n",
    "\n",
    "#Polymorphism allows for leveraging the same interface for different underlying operations. "
   ]
  }
 ],
 "metadata": {
  "kernelspec": {
   "display_name": "Python 3 (ipykernel)",
   "language": "python",
   "name": "python3"
  },
  "language_info": {
   "codemirror_mode": {
    "name": "ipython",
    "version": 3
   },
   "file_extension": ".py",
   "mimetype": "text/x-python",
   "name": "python",
   "nbconvert_exporter": "python",
   "pygments_lexer": "ipython3",
   "version": "3.9.7"
  }
 },
 "nbformat": 4,
 "nbformat_minor": 5
}
