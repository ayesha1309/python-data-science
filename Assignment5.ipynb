{
 "cells": [
  {
   "cell_type": "code",
   "execution_count": 11,
   "id": "5862adcb",
   "metadata": {},
   "outputs": [
    {
     "data": {
      "text/plain": [
       "dict"
      ]
     },
     "execution_count": 11,
     "metadata": {},
     "output_type": "execute_result"
    }
   ],
   "source": [
    "#1. What does an empty dictionary's code look like?\n",
    "\n",
    "#empty dictionary code looks like this.\n",
    "\n",
    "dict ={}\n",
    "type (dict)"
   ]
  },
  {
   "cell_type": "code",
   "execution_count": 13,
   "id": "e58cb032",
   "metadata": {},
   "outputs": [
    {
     "data": {
      "text/plain": [
       "42"
      ]
     },
     "execution_count": 13,
     "metadata": {},
     "output_type": "execute_result"
    }
   ],
   "source": [
    "#2. What is the value of a dictionary value with the key 'foo' and the value 42?\n",
    "\n",
    "dict ={'foo':42}\n",
    "dict['foo']"
   ]
  },
  {
   "cell_type": "code",
   "execution_count": 14,
   "id": "b5173dde",
   "metadata": {},
   "outputs": [],
   "source": [
    "#3. What is the most significant distinction between a dictionary and a list?\n",
    "\n",
    "#A dictionary is always a set of objects enclosed between the brackets {}. \n",
    "#All the objects in this are stored with a key and a value assigned to it.\n",
    "#The objects stored in this are always in the form like{'key': value}\n",
    "\n",
    "\n",
    "#A list is always a set of objects enclosed between the brackets[]. \n",
    "#All the objects here does not a have key to access them."
   ]
  },
  {
   "cell_type": "code",
   "execution_count": 15,
   "id": "927de86f",
   "metadata": {},
   "outputs": [
    {
     "ename": "KeyError",
     "evalue": "'foo'",
     "output_type": "error",
     "traceback": [
      "\u001b[1;31m---------------------------------------------------------------------------\u001b[0m",
      "\u001b[1;31mKeyError\u001b[0m                                  Traceback (most recent call last)",
      "\u001b[1;32m~\\AppData\\Local\\Temp/ipykernel_12776/1930208493.py\u001b[0m in \u001b[0;36m<module>\u001b[1;34m\u001b[0m\n\u001b[0;32m      2\u001b[0m \u001b[1;33m\u001b[0m\u001b[0m\n\u001b[0;32m      3\u001b[0m \u001b[0mspam\u001b[0m\u001b[1;33m=\u001b[0m\u001b[1;33m{\u001b[0m\u001b[1;34m'bar'\u001b[0m\u001b[1;33m:\u001b[0m\u001b[1;36m100\u001b[0m\u001b[1;33m}\u001b[0m\u001b[1;33m\u001b[0m\u001b[1;33m\u001b[0m\u001b[0m\n\u001b[1;32m----> 4\u001b[1;33m \u001b[0mspam\u001b[0m\u001b[1;33m[\u001b[0m\u001b[1;34m'foo'\u001b[0m\u001b[1;33m]\u001b[0m\u001b[1;33m\u001b[0m\u001b[1;33m\u001b[0m\u001b[0m\n\u001b[0m",
      "\u001b[1;31mKeyError\u001b[0m: 'foo'"
     ]
    }
   ],
   "source": [
    "#4. What happens if you try to access spam['foo] if spam is {'bar': 100}?\n",
    "\n",
    "spam={'bar':100}\n",
    "spam['foo']\n",
    "\n",
    "\n",
    "#key error : means the key : 'foo' is not all designed in the spam."
   ]
  },
  {
   "cell_type": "code",
   "execution_count": 22,
   "id": "889f721e",
   "metadata": {},
   "outputs": [
    {
     "data": {
      "text/plain": [
       "dict_keys(['cat', 'a'])"
      ]
     },
     "execution_count": 22,
     "metadata": {},
     "output_type": "execute_result"
    }
   ],
   "source": [
    "#5. If a dictionary is stored in spam, what is the difference between the expressions 'cat' in spam and 'cat' in spam.keys()?\n",
    "\n",
    "spam = {'cat':100,'a':'cat'}\n",
    "\n",
    "#In the above dictionary spam, the first object is a key value 'cat' and assigned with value 100 \n",
    "#In the above dictionary spam, the second object is a key value 'a' and assigned with value 'cat'\n",
    "\n",
    "spam.keys()\n"
   ]
  },
  {
   "cell_type": "code",
   "execution_count": 21,
   "id": "8830a2c3",
   "metadata": {},
   "outputs": [
    {
     "data": {
      "text/plain": [
       "'cat'"
      ]
     },
     "execution_count": 21,
     "metadata": {},
     "output_type": "execute_result"
    }
   ],
   "source": [
    "spam['a']"
   ]
  },
  {
   "cell_type": "code",
   "execution_count": 23,
   "id": "3a3cb4c0",
   "metadata": {},
   "outputs": [
    {
     "data": {
      "text/plain": [
       "dict_values([100, 'cat'])"
      ]
     },
     "execution_count": 23,
     "metadata": {},
     "output_type": "execute_result"
    }
   ],
   "source": [
    "#6. If a dictionary is stored in spam, what is the difference between the expressions 'cat' in spam and 'cat' in spam.values()?\n",
    "\n",
    "spam = {'cat':100,'a':'cat'}\n",
    "\n",
    "#In the above dictionary spam, the first object is a key value 'cat' and assigned with value 100 \n",
    "#In the above dictionary spam, the second object is a key value 'a' and assigned with value 'cat'\n",
    "\n",
    "spam.values()"
   ]
  },
  {
   "cell_type": "code",
   "execution_count": 39,
   "id": "bd0566e9",
   "metadata": {},
   "outputs": [
    {
     "data": {
      "text/plain": [
       "{'cat': 100, 'a': 'cat', 'color': 'black', 'c': 'df'}"
      ]
     },
     "execution_count": 39,
     "metadata": {},
     "output_type": "execute_result"
    }
   ],
   "source": [
    "#7. What is a shortcut for the following code?\n",
    "\n",
    "\n",
    "#the following is the code to add objects to the dictionary\n",
    "\n",
    "if 'color' not in spam:\n",
    "    spam['color'] = 'black'\n",
    "spam\n",
    "\n",
    "#shortcut for the above code is\n",
    "\n",
    "\n",
    "spam.update({'c':'df'})\n",
    "spam"
   ]
  },
  {
   "cell_type": "code",
   "execution_count": 44,
   "id": "dc650da0",
   "metadata": {},
   "outputs": [
    {
     "data": {
      "text/plain": [
       "'pretty print'"
      ]
     },
     "execution_count": 44,
     "metadata": {},
     "output_type": "execute_result"
    }
   ],
   "source": [
    "#8. How do you \"pretty print\" dictionary values using which module and function?\n",
    "\n",
    "d={'a':'pretty print','d':12,'c':436}\n",
    "d.get('a')\n"
   ]
  }
 ],
 "metadata": {
  "kernelspec": {
   "display_name": "Python 3 (ipykernel)",
   "language": "python",
   "name": "python3"
  },
  "language_info": {
   "codemirror_mode": {
    "name": "ipython",
    "version": 3
   },
   "file_extension": ".py",
   "mimetype": "text/x-python",
   "name": "python",
   "nbconvert_exporter": "python",
   "pygments_lexer": "ipython3",
   "version": "3.9.7"
  }
 },
 "nbformat": 4,
 "nbformat_minor": 5
}
