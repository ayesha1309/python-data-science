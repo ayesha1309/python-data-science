{
 "cells": [
  {
   "cell_type": "code",
   "execution_count": 7,
   "id": "02b6842d",
   "metadata": {},
   "outputs": [
    {
     "name": "stdout",
     "output_type": "stream",
     "text": [
      "2\n"
     ]
    }
   ],
   "source": [
    "\"\"\"1. Write a function that takes a list of lists and returns the value of all of the\n",
    "symbols in it, where each symbol adds or takes something from the total\n",
    "score. Symbol values:\n",
    "# = 5\n",
    "O = 3\n",
    "X = 1\n",
    "! = -1\n",
    "!! = -3\n",
    "!!! = -5\n",
    "A list of lists containing 2 #s, a O, and a !!! would equal (0 + 5 + 5 + 3 - 5) 8.\n",
    "If the final score is negative, return 0 (e.g. 3 #s, 3 !!s, 2 !!!s and a X would be\n",
    "(0 + 5 + 5 + 5 - 3 - 3 - 3 - 5 - 5 + 1) -3, so return 0.\n",
    "Examples\n",
    "check_score([[\"#\", \"!\"],[\"!!\", \"X\"]]) ➞ 2\n",
    "check_score([[\"!!!\", \"O\", \"!],['X', '#', '!!!'],['!!', 'X', 'O']]) ➞ -1\"\"\"\n",
    "\n",
    "def check_score(a):\n",
    "    \n",
    "    symbol_values = {'#':5, 'O' : 3, 'X' : 1, '!' : -1, '!!': -3, '!!!' : -5}\n",
    "   \n",
    "    l1 = []\n",
    "    sum1 = 0\n",
    "    for i in a:\n",
    "        for j in i:\n",
    "            if j in symbol_values:\n",
    "                l1.append(symbol_values[j])\n",
    "    for num in l1:\n",
    "        sum1+=num\n",
    "    print(sum1)\n",
    "    \n",
    "check_score([[\"#\", \"!\"],[\"!!\", \"X\"]])"
   ]
  },
  {
   "cell_type": "code",
   "execution_count": 6,
   "id": "bec97f46",
   "metadata": {},
   "outputs": [
    {
     "name": "stdout",
     "output_type": "stream",
     "text": [
      "-1\n"
     ]
    }
   ],
   "source": [
    "check_score([[\"!!!\", \"O\", \"!\"],['X', '#', '!!!'],['!!', 'X', 'O']]) "
   ]
  },
  {
   "cell_type": "code",
   "execution_count": 8,
   "id": "33e2a110",
   "metadata": {},
   "outputs": [],
   "source": [
    "\"\"\"2. Create a function that takes a variable number of arguments, each\n",
    "argument representing the number of items in a group, and returns the\n",
    "number of permutations (combinations) of items that you could get by taking\n",
    "one item from each group.\n",
    "Examples\n",
    "combinations(2, 3) ➞ 6\n",
    "combinations(3, 7, 4) ➞ 84\n",
    "combinations(2, 3, 4, 5) ➞ 120\"\"\"\n",
    "\n",
    "def combinations(*args):\n",
    "    prod = 1\n",
    "    for i in args:\n",
    "        prod*=i\n",
    "    print(prod)"
   ]
  },
  {
   "cell_type": "code",
   "execution_count": 9,
   "id": "48127d56",
   "metadata": {},
   "outputs": [
    {
     "name": "stdout",
     "output_type": "stream",
     "text": [
      "6\n"
     ]
    }
   ],
   "source": [
    "combinations(2, 3)"
   ]
  },
  {
   "cell_type": "code",
   "execution_count": 10,
   "id": "a0dbef12",
   "metadata": {},
   "outputs": [
    {
     "name": "stdout",
     "output_type": "stream",
     "text": [
      "84\n"
     ]
    }
   ],
   "source": [
    "combinations(3, 7, 4)"
   ]
  },
  {
   "cell_type": "code",
   "execution_count": 11,
   "id": "2579f52d",
   "metadata": {},
   "outputs": [
    {
     "name": "stdout",
     "output_type": "stream",
     "text": [
      "120\n"
     ]
    }
   ],
   "source": [
    "combinations(2, 3, 4, 5)"
   ]
  },
  {
   "cell_type": "code",
   "execution_count": 12,
   "id": "c6f61d53",
   "metadata": {},
   "outputs": [
    {
     "name": "stdout",
     "output_type": "stream",
     "text": [
      ".-...--...-.....--.-......-.-...-...-.--..\n"
     ]
    }
   ],
   "source": [
    "\"\"\"3. Create a function that takes a string as an argument and returns the Morsecode equivalent.\n",
    "\n",
    "Examples\n",
    "encode_morse(\"EDABBIT CHALLENGE\") ➞ \". -.. .- -... -... .. - -.-. .... .- .-.. .-... -. --. .\"\n",
    "encode_morse(\"HELP ME !\") ➞ \".... . .-.. .--. -- . -.-.--\"\n",
    "\n",
    "This dictionary can be used for coding:\n",
    "char_to_dots = { 'A': '.-', 'B': '-...', 'C': '-.-.', 'D': '-..', 'E': '.', 'F': '..-.', 'G': '--.', \n",
    "                'H': '....', 'I': '..', 'J': '.---', 'K': '-.-', 'L': '.-..', 'M': '--', 'N': '-.', \n",
    "                'O': '---', 'P': '.--.', 'Q': '--.-', 'R': '.-.', 'S': '...', 'T': '-', 'U': '..-', \n",
    "                'V': '...-', 'W': '.--', 'X': '-..-', 'Y': '-.--', 'Z': '--..', '': '', '0': '-----', \n",
    "                '1': '.----', '2': '..---', '3': '...--', '4': '....-', '5': '.....', '6': '-....', \n",
    "                '7': '--...', '8': '---..', '9': '----.', '&': '.-...', \"'\": '.----.', '@': '.--.-.', \n",
    "                ')': '-.--.-', '(': '-.--.', ':': '---...', ',': '--..--', '=': '-...-', '!': '-.-.--',\n",
    "                '.': '.-.-.-', '-': '-....-', '+': '.-.-.', '\"': '.-..-.', '?': '..--..', '/': '-..-.' }\"\"\"\n",
    "\n",
    "def encode_morse(a):\n",
    "    \n",
    "    char_to_dots = { 'A': '.-', 'B': '-...', 'C': '-.-.', 'D': '-..', 'E': '.', 'F': '..-.', 'G': '--.', \n",
    "                'H': '....', 'I': '..', 'J': '.---', 'K': '-.-', 'L': '.-..', 'M': '--', 'N': '-.', \n",
    "                'O': '---', 'P': '.--.', 'Q': '--.-', 'R': '.-.', 'S': '...', 'T': '-', 'U': '..-', \n",
    "                'V': '...-', 'W': '.--', 'X': '-..-', 'Y': '-.--', 'Z': '--..', '': '', '0': '-----', \n",
    "                '1': '.----', '2': '..---', '3': '...--', '4': '....-', '5': '.....', '6': '-....', \n",
    "                '7': '--...', '8': '---..', '9': '----.', '&': '.-...', \"'\": '.----.', '@': '.--.-.', \n",
    "                ')': '-.--.-', '(': '-.--.', ':': '---...', ',': '--..--', '=': '-...-', '!': '-.-.--',\n",
    "                '.': '.-.-.-', '-': '-....-', '+': '.-.-.', '\"': '.-..-.', '?': '..--..', '/': '-..-.' }\n",
    "   \n",
    "    b = []\n",
    "    for j in a:\n",
    "        for i in char_to_dots.keys():\n",
    "            if j == i:\n",
    "                x = char_to_dots.get(i)\n",
    "                b.append(x)\n",
    "    c = ''.join(b)\n",
    "    print(c) \n",
    "    \n",
    "encode_morse(\"EDABBIT CHALLENGE\")     "
   ]
  },
  {
   "cell_type": "code",
   "execution_count": 13,
   "id": "813feb22",
   "metadata": {
    "scrolled": true
   },
   "outputs": [
    {
     "name": "stdout",
     "output_type": "stream",
     "text": [
      ".-...--...-.....--.-......-.-...-...-.--..\n"
     ]
    }
   ],
   "source": [
    "encode_morse(\"EDABBIT CHALLENGE\")"
   ]
  },
  {
   "cell_type": "code",
   "execution_count": 14,
   "id": "e7feb672",
   "metadata": {},
   "outputs": [],
   "source": [
    "\"\"\"4. Write a function that takes a number and returns True if it's a prime; False otherwise. \n",
    "The number can be 2^64-1 (2 to the power of 63, not XOR). With the standard technique it would be O(2^64-1), \n",
    "which is much too large for the 10 second time limit.\n",
    "\n",
    "Examples\n",
    "\n",
    "prime(7) ➞ True\n",
    "\n",
    "prime(56963) ➞ True\n",
    "\n",
    "prime(5151512515524) ➞ False\"\"\"\n",
    "\n",
    "def prime(a):\n",
    "\n",
    "    #a = 5151512515524\n",
    "    l1 = []\n",
    "    for i in range(1, a+1):\n",
    "        if (a%i) == 0:\n",
    "            l1.append(i)\n",
    "            if len(l1)>4:\n",
    "                break\n",
    "    if len(l1)>2:\n",
    "        print(False)\n",
    "    else:\n",
    "        print(True)    "
   ]
  },
  {
   "cell_type": "code",
   "execution_count": 15,
   "id": "f9018a26",
   "metadata": {},
   "outputs": [
    {
     "name": "stdout",
     "output_type": "stream",
     "text": [
      "True\n"
     ]
    }
   ],
   "source": [
    "prime(7)"
   ]
  },
  {
   "cell_type": "code",
   "execution_count": 16,
   "id": "ace32348",
   "metadata": {},
   "outputs": [
    {
     "name": "stdout",
     "output_type": "stream",
     "text": [
      "True\n"
     ]
    }
   ],
   "source": [
    "prime(56963)"
   ]
  },
  {
   "cell_type": "code",
   "execution_count": 17,
   "id": "5362715c",
   "metadata": {},
   "outputs": [
    {
     "name": "stdout",
     "output_type": "stream",
     "text": [
      "False\n"
     ]
    }
   ],
   "source": [
    "prime(5151512515524)"
   ]
  },
  {
   "cell_type": "code",
   "execution_count": 18,
   "id": "8aa8623c",
   "metadata": {},
   "outputs": [],
   "source": [
    "\"\"\"5. Create a function that converts a word to a bitstring and then to a boolean list based on the following criteria:\n",
    "Locate the position of the letter in the English alphabet (from 1 to 26).\n",
    "\n",
    "Odd positions will be represented as 1 and 0 otherwise.\n",
    "Convert the represented positions to boolean values, 1 for True and 0 for False.\n",
    "Store the conversions into an array.\n",
    "\n",
    "Examples\n",
    "\n",
    "to_boolean_list(\"deep\") ➞ [False, True, True, False]\n",
    "\n",
    "deep converts to 0110\n",
    "\n",
    "d is the 4th alphabet - 0\n",
    "\n",
    "e is the 5th alphabet - 1\n",
    "\n",
    "e is the 5th alphabet - 1\n",
    "\n",
    "p is the 16th alphabet - 0\n",
    "\n",
    "to_boolean_list(\"loves\") ➞ [False, True, False, True, True]\n",
    "\n",
    "to_boolean_list(\"tesh\") ➞ [False, True, True, False]\"\"\"\n",
    "\n",
    "def to_boolean_list(a) :\n",
    "    \n",
    "    alphabets = { \"a\":1,'b':0,'c':1,\"d\":0,\"e\":1,\"f\":0,\"g\":1,\"h\":0,\"i\":1,\"j\":0,\"k\":1,\"l\":0,'m':1,\"n\":0,\n",
    "                  \"o\":1,\"p\":0,\"q\":1,\"r\":0,\"s\":1,\"t\":0,\"u\":1,\"v\":0,\"w\":1,\"x\":0,\"y\":1,\"z\":0 }\n",
    "\n",
    "    #a = \"deep\"\n",
    "    x = []\n",
    "    for i in a:\n",
    "        for j in alphabets.keys():\n",
    "            if i == j:\n",
    "                d = alphabets.get(j)\n",
    "                x.append(d)\n",
    "    l1 = []            \n",
    "    for i in x:\n",
    "        if i == 1:\n",
    "            l1.append(True)\n",
    "        else:\n",
    "            l1.append(False)\n",
    "    print(l1)"
   ]
  },
  {
   "cell_type": "code",
   "execution_count": 20,
   "id": "546e60c0",
   "metadata": {},
   "outputs": [
    {
     "name": "stdout",
     "output_type": "stream",
     "text": [
      "[False, True, True, False]\n"
     ]
    }
   ],
   "source": [
    "to_boolean_list(\"deep\")"
   ]
  },
  {
   "cell_type": "code",
   "execution_count": 21,
   "id": "4853fa4b",
   "metadata": {},
   "outputs": [
    {
     "name": "stdout",
     "output_type": "stream",
     "text": [
      "[False, True, False, True, True]\n"
     ]
    }
   ],
   "source": [
    "to_boolean_list(\"loves\")"
   ]
  },
  {
   "cell_type": "code",
   "execution_count": 22,
   "id": "2eb2e386",
   "metadata": {},
   "outputs": [
    {
     "name": "stdout",
     "output_type": "stream",
     "text": [
      "[False, True, True, False]\n"
     ]
    }
   ],
   "source": [
    "to_boolean_list(\"tesh\")"
   ]
  }
 ],
 "metadata": {
  "kernelspec": {
   "display_name": "Python 3 (ipykernel)",
   "language": "python",
   "name": "python3"
  },
  "language_info": {
   "codemirror_mode": {
    "name": "ipython",
    "version": 3
   },
   "file_extension": ".py",
   "mimetype": "text/x-python",
   "name": "python",
   "nbconvert_exporter": "python",
   "pygments_lexer": "ipython3",
   "version": "3.9.7"
  }
 },
 "nbformat": 4,
 "nbformat_minor": 5
}
