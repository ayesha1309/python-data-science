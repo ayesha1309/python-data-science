{
 "cells": [
  {
   "cell_type": "code",
   "execution_count": 2,
   "id": "53170046",
   "metadata": {},
   "outputs": [
    {
     "name": "stdout",
     "output_type": "stream",
     "text": [
      "[1, 2]\n",
      "[1, 0, 15]\n",
      "[1, 2, 123]\n"
     ]
    }
   ],
   "source": [
    "\"\"\"Question 1\n",
    "Create a function that takes a list of non-negative integers and strings and return a new list\n",
    "without the strings.\n",
    "Examples\n",
    "filter_list([1, 2, \"a\", \"b\"]) ➞ [1, 2]\n",
    "filter_list([1, \"a\", \"b\", 0, 15]) ➞ [1, 0, 15]\n",
    "filter_list([1, 2, \"aasf\", \"1\", \"123\", 123]) ➞ [1, 2, 123]\"\"\"\n",
    "\n",
    "l = [1,2,'a','b']\n",
    "l1= [1, \"a\", \"b\", 0, 15]\n",
    "l2= [1, 2, \"aasf\", \"1\", \"123\", 123]\n",
    "\n",
    "def filter_list(l):\n",
    "    new_list = []\n",
    "    for x in l:\n",
    "        if type(x) == int:\n",
    "            new_list.append(x)\n",
    "    return new_list\n",
    "\n",
    "print(filter_list(l))\n",
    "print(filter_list(l1))\n",
    "print(filter_list(l2))"
   ]
  },
  {
   "cell_type": "code",
   "execution_count": 6,
   "id": "77114d5d",
   "metadata": {},
   "outputs": [
    {
     "data": {
      "text/plain": [
       "'DLROw OLLEh'"
      ]
     },
     "execution_count": 6,
     "metadata": {},
     "output_type": "execute_result"
    }
   ],
   "source": [
    "\"\"\"Question 2\n",
    "The \"Reverse\" takes a string as input and returns that string in reverse order, with the opposite case.\n",
    "\n",
    "Examples\n",
    "reverse(\"Hello World\") ➞ \"DLROw OLLEh\"\n",
    "reverse(\"ReVeRsE\") ➞ \"eSrEvEr\"\n",
    "reverse(\"Radar\") ➞ \"RADAr\" \"\"\"\n",
    "\n",
    "def reverse(text):\n",
    "    result = \"\"\n",
    "    for i in text:\n",
    "        result = i + result\n",
    "        final = result.swapcase()\n",
    "    return final\n",
    "\n",
    "reverse(\"Hello World\")"
   ]
  },
  {
   "cell_type": "code",
   "execution_count": 7,
   "id": "e4ce3ad0",
   "metadata": {},
   "outputs": [
    {
     "data": {
      "text/plain": [
       "'RADAr'"
      ]
     },
     "execution_count": 7,
     "metadata": {},
     "output_type": "execute_result"
    }
   ],
   "source": [
    "reverse(\"Radar\")"
   ]
  },
  {
   "cell_type": "code",
   "execution_count": 8,
   "id": "781ac45e",
   "metadata": {},
   "outputs": [
    {
     "data": {
      "text/plain": [
       "'eSrEvEr'"
      ]
     },
     "execution_count": 8,
     "metadata": {},
     "output_type": "execute_result"
    }
   ],
   "source": [
    "reverse(\"ReVeRsE\")"
   ]
  },
  {
   "cell_type": "code",
   "execution_count": 12,
   "id": "7d6fe490",
   "metadata": {},
   "outputs": [
    {
     "name": "stdout",
     "output_type": "stream",
     "text": [
      "1\n",
      "6\n",
      "2 3 4 5\n"
     ]
    }
   ],
   "source": [
    "\"\"\" Question 3\n",
    "\n",
    "You can assign variables from lists like this:\n",
    "lst = [1, 2, 3, 4, 5, 6]\n",
    "first = lst[0]\n",
    "middle = lst[1:-1]\n",
    "last = lst[-1]\n",
    "\n",
    "print(first) ➞ outputs 1\n",
    "print(middle) ➞ outputs [2, 3, 4, 5]\n",
    "print(last) ➞ outputs 6\n",
    "\n",
    "With Python 3, you can assign variables from lists in a much more succinct way. Create\n",
    "variables first, middle and last from the given list using destructuring assignment\n",
    "\n",
    "(check the Resources tab for some examples), where:\n",
    "first ➞ 1\n",
    "middle ➞ [2, 3, 4, 5]\n",
    "last ➞ 6\n",
    "\n",
    "Your task is to unpack the list write your code here into three variables, being first,\n",
    "middle, and last, with middle being everything in between the first and last element. Then\n",
    "print all three variables.\"\"\"\n",
    "\n",
    "lst = [1, 2, 3, 4, 5, 6]\n",
    "first,*others,last =lst\n",
    "print(first)\n",
    "print(last)\n",
    "middle= print(*others)"
   ]
  },
  {
   "cell_type": "code",
   "execution_count": 13,
   "id": "f6f19d92",
   "metadata": {},
   "outputs": [
    {
     "name": "stdout",
     "output_type": "stream",
     "text": [
      "Enter a number: 5\n",
      "The factorial of 5 is 120\n"
     ]
    }
   ],
   "source": [
    "\"\"\"Question 4\n",
    "\n",
    "Write a function that calculates the factorial of a number recursively.\n",
    "\n",
    "Examples\n",
    "factorial(5) ➞ 120\n",
    "factorial(3) ➞ 6\n",
    "factorial(1) ➞ 1\n",
    "factorial(0) ➞ 1\"\"\"\n",
    "\n",
    "def factorial(n):  \n",
    "   if n == 1:  \n",
    "       return n  \n",
    "   else:  \n",
    "       return n*factorial(n-1)  \n",
    "\n",
    "# take input from the user  \n",
    "num = int(input(\"Enter a number: \"))  \n",
    "# check is the number is negative  \n",
    "if num < 0:  \n",
    "   print(\"Sorry, factorial does not exist for negative numbers\")  \n",
    "elif num == 0:  \n",
    "   print(\"The factorial of 0 is 1\")  \n",
    "else:  \n",
    "   print(\"The factorial of\",num,\"is\",factorial(num))  "
   ]
  },
  {
   "cell_type": "code",
   "execution_count": 14,
   "id": "f3948cdb",
   "metadata": {},
   "outputs": [
    {
     "data": {
      "text/plain": [
       "6"
      ]
     },
     "execution_count": 14,
     "metadata": {},
     "output_type": "execute_result"
    }
   ],
   "source": [
    "factorial(3)"
   ]
  },
  {
   "cell_type": "code",
   "execution_count": 15,
   "id": "9233bb0e",
   "metadata": {},
   "outputs": [
    {
     "data": {
      "text/plain": [
       "1"
      ]
     },
     "execution_count": 15,
     "metadata": {},
     "output_type": "execute_result"
    }
   ],
   "source": [
    "factorial(1)"
   ]
  },
  {
   "cell_type": "code",
   "execution_count": 1,
   "id": "aefff562",
   "metadata": {},
   "outputs": [
    {
     "name": "stdout",
     "output_type": "stream",
     "text": [
      "Enter a number: 0\n",
      "The factorial of 0 is 1\n"
     ]
    }
   ],
   "source": [
    "def factorial(n):  \n",
    "   if n == 1:  \n",
    "       return n  \n",
    "   else:  \n",
    "       return n*factorial(n-1)  \n",
    "\n",
    "# take input from the user  \n",
    "num = int(input(\"Enter a number: \"))  \n",
    "# check is the number is negative  \n",
    "if num < 0:  \n",
    "   print(\"Sorry, factorial does not exist for negative numbers\")  \n",
    "elif num == 0:  \n",
    "   print(\"The factorial of 0 is 1\")  \n",
    "else:  \n",
    "   print(\"The factorial of\",num,\"is\",factorial(num))  "
   ]
  },
  {
   "cell_type": "code",
   "execution_count": 9,
   "id": "362e9cbe",
   "metadata": {},
   "outputs": [
    {
     "name": "stdout",
     "output_type": "stream",
     "text": [
      "The original list is : [1, 3, 2, 4, 4, 1]\n",
      "The modified element moved list is : [3, 2, 4, 4, 1, 1]\n"
     ]
    }
   ],
   "source": [
    "\"\"\"Question 5\n",
    "\n",
    "Write a function that moves all elements of one type to the end of the list.\n",
    "\n",
    "Examples\n",
    "move_to_end([1, 3, 2, 4, 4, 1], 1) ➞ [3, 2, 4, 4, 1, 1]\n",
    "# Move all the 1s to the end of the array.\n",
    "\n",
    "move_to_end([7, 8, 9, 1, 2, 3, 4], 9) ➞ [7, 8, 1, 2, 3, 4, 9]\n",
    "move_to_end([\"a\", \"a\", \"a\", \"b\"], \"a\") ➞ [\"b\", \"a\", \"a\", \"a\"]\"\"\"\n",
    "\n",
    "# Python3 code to demonstrate  \n",
    "# moving element to end \n",
    "# using sort() + key = (__eq__)\n",
    "  \n",
    "# initializing list\n",
    "test_list = [1, 3, 2, 4, 4, 1]\n",
    "  \n",
    "# printing original list \n",
    "print (\"The original list is : \" + str(test_list))\n",
    "  \n",
    "# using sort() + key = (__eq__)\n",
    "# moving element to end \n",
    "def move_to_end(lst,n):\n",
    "    lst.sort(key = n.__eq__)\n",
    "    return lst\n",
    "  \n",
    "# printing result\n",
    "move_to_end(test_list,1)\n",
    "print (\"The modified element moved list is : \" + str(test_list))\n"
   ]
  },
  {
   "cell_type": "code",
   "execution_count": 10,
   "id": "2844a903",
   "metadata": {},
   "outputs": [
    {
     "name": "stdout",
     "output_type": "stream",
     "text": [
      "The original list is : ['a', 'a', 'a', 'b']\n",
      "The modified element moved list is : ['b', 'a', 'a', 'a']\n"
     ]
    }
   ],
   "source": [
    "# Python3 code to demonstrate  \n",
    "# moving element to end \n",
    "# using sort() + key = (__eq__)\n",
    "  \n",
    "# initializing list\n",
    "test_list = [\"a\", \"a\", \"a\", \"b\"]\n",
    "  \n",
    "# printing original list \n",
    "print (\"The original list is : \" + str(test_list))\n",
    "  \n",
    "# using sort() + key = (__eq__)\n",
    "# moving element to end \n",
    "def move_to_end(lst,n):\n",
    "    lst.sort(key = n.__eq__)\n",
    "    return lst\n",
    "  \n",
    "# printing result\n",
    "move_to_end(test_list,\"a\")\n",
    "print (\"The modified element moved list is : \" + str(test_list))"
   ]
  },
  {
   "cell_type": "code",
   "execution_count": 11,
   "id": "a870876c",
   "metadata": {},
   "outputs": [
    {
     "name": "stdout",
     "output_type": "stream",
     "text": [
      "The original list is : [7, 8, 9, 1, 2, 3, 4]\n",
      "The modified element moved list is : [7, 8, 1, 2, 3, 4, 9]\n"
     ]
    }
   ],
   "source": [
    "# initializing list\n",
    "test_list =[7, 8, 9, 1, 2, 3, 4] \n",
    "  \n",
    "# printing original list \n",
    "print (\"The original list is : \" + str(test_list))\n",
    "  \n",
    "# using sort() + key = (__eq__)\n",
    "# moving element to end \n",
    "def move_to_end(lst,n):\n",
    "    lst.sort(key = n.__eq__)\n",
    "    return lst\n",
    "  \n",
    "# printing result\n",
    "move_to_end(test_list,9)\n",
    "print (\"The modified element moved list is : \" + str(test_list))"
   ]
  }
 ],
 "metadata": {
  "kernelspec": {
   "display_name": "Python 3 (ipykernel)",
   "language": "python",
   "name": "python3"
  },
  "language_info": {
   "codemirror_mode": {
    "name": "ipython",
    "version": 3
   },
   "file_extension": ".py",
   "mimetype": "text/x-python",
   "name": "python",
   "nbconvert_exporter": "python",
   "pygments_lexer": "ipython3",
   "version": "3.9.7"
  }
 },
 "nbformat": 4,
 "nbformat_minor": 5
}
