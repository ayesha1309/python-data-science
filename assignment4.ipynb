{
 "cells": [
  {
   "cell_type": "markdown",
   "id": "ec38f091",
   "metadata": {},
   "source": [
    "1. What exactly is []?\n",
    " [] is used to represent the list elements.\n"
   ]
  },
  {
   "cell_type": "code",
   "execution_count": 63,
   "id": "41e5acae",
   "metadata": {},
   "outputs": [
    {
     "data": {
      "text/plain": [
       "[2, 4, 'hello', 6, 8, 10]"
      ]
     },
     "execution_count": 63,
     "metadata": {},
     "output_type": "execute_result"
    }
   ],
   "source": [
    "#2. In a list of values stored in a variable called spam, how would you assign the value \"hello\"; as the \n",
    "#third value? (Assume [2, 4, 6, 8, 10] are in spam.)\n",
    "\n",
    "spam=[2,4,6,8,10]\n",
    "spam.insert(2,\"hello\")\n",
    "spam"
   ]
  },
  {
   "cell_type": "code",
   "execution_count": 8,
   "id": "05268885",
   "metadata": {},
   "outputs": [
    {
     "data": {
      "text/plain": [
       "'d'"
      ]
     },
     "execution_count": 8,
     "metadata": {},
     "output_type": "execute_result"
    }
   ],
   "source": [
    "#Let's pretend the spam includes the list ['a','b','c','d'] for the next three queries.\n",
    "#3. What is the value of spam[int(int('3' * 2) / 11)]?\n",
    "\n",
    "spam=['a','b','c','d']\n",
    "spam[int(int('3'*2)/11)]"
   ]
  },
  {
   "cell_type": "code",
   "execution_count": 10,
   "id": "4c3d09ca",
   "metadata": {},
   "outputs": [
    {
     "data": {
      "text/plain": [
       "'d'"
      ]
     },
     "execution_count": 10,
     "metadata": {},
     "output_type": "execute_result"
    }
   ],
   "source": [
    "#4. What is the value of spam[-1]?\n",
    "a=spam[-1]\n",
    "a"
   ]
  },
  {
   "cell_type": "code",
   "execution_count": 11,
   "id": "3064ddf3",
   "metadata": {},
   "outputs": [
    {
     "data": {
      "text/plain": [
       "['a', 'b']"
      ]
     },
     "execution_count": 11,
     "metadata": {},
     "output_type": "execute_result"
    }
   ],
   "source": [
    "#5. What is the value of spam[:2]?\n",
    "b=spam[:2]\n",
    "b"
   ]
  },
  {
   "cell_type": "code",
   "execution_count": 15,
   "id": "944ab269",
   "metadata": {},
   "outputs": [
    {
     "data": {
      "text/plain": [
       "1"
      ]
     },
     "execution_count": 15,
     "metadata": {},
     "output_type": "execute_result"
    }
   ],
   "source": [
    "#Lets pretend bacon has the list [3.14, 'cat' ,11, 'cat', True] for the next three questions.\n",
    "#6. What is the value of bacon.index(\"cat\")?\n",
    "\n",
    "bacon=[3.14, 'cat' ,11, 'cat', True]\n",
    "c=bacon.index('cat')\n",
    "c"
   ]
  },
  {
   "cell_type": "code",
   "execution_count": 16,
   "id": "db22415a",
   "metadata": {},
   "outputs": [
    {
     "data": {
      "text/plain": [
       "[3.14, 'cat', 11, 'cat', True, 99]"
      ]
     },
     "execution_count": 16,
     "metadata": {},
     "output_type": "execute_result"
    }
   ],
   "source": [
    "#7. How does bacon.append(99) change the look of the list value in bacon?\n",
    "\n",
    "bacon=[3.14, 'cat' ,11, 'cat', True]\n",
    "bacon.append(99)\n",
    "bacon"
   ]
  },
  {
   "cell_type": "code",
   "execution_count": 17,
   "id": "2dab0c52",
   "metadata": {},
   "outputs": [
    {
     "data": {
      "text/plain": [
       "[3.14, 11, 'cat', True]"
      ]
     },
     "execution_count": 17,
     "metadata": {},
     "output_type": "execute_result"
    }
   ],
   "source": [
    "#8. How does bacon.remove('cat') change the look of the list in bacon?\n",
    "\n",
    "bacon=[3.14, 'cat' ,11, 'cat', True]\n",
    "bacon.remove('cat')\n",
    "bacon"
   ]
  },
  {
   "cell_type": "code",
   "execution_count": 20,
   "id": "4743fc71",
   "metadata": {},
   "outputs": [
    {
     "data": {
      "text/plain": [
       "[1, 2, 3, 4, 5, 6, 7, 8, 9, 10]"
      ]
     },
     "execution_count": 20,
     "metadata": {},
     "output_type": "execute_result"
    }
   ],
   "source": [
    "#9. What are the list concatenation and list replication operators?\n",
    "\n",
    "#list concatenation is done using operators +. This operator helps to join the list and make a single new list.\n",
    "\n",
    "l1=[1,2,3,4,5]\n",
    "l2=[6,7,8,9,10]\n",
    "l3 = l1+l2\n",
    "l3\n",
    "\n"
   ]
  },
  {
   "cell_type": "code",
   "execution_count": 22,
   "id": "54b5ff02",
   "metadata": {},
   "outputs": [
    {
     "data": {
      "text/plain": [
       "[1, 2, 3, 1, 2, 3]"
      ]
     },
     "execution_count": 22,
     "metadata": {},
     "output_type": "execute_result"
    }
   ],
   "source": [
    "#9. list replication operator creates the multiple concatenated copies of the list. The operator used is *.\n",
    "\n",
    "l1=[1,2,3]\n",
    "l2 = l1*2\n",
    "l2"
   ]
  },
  {
   "cell_type": "code",
   "execution_count": 24,
   "id": "331d072f",
   "metadata": {},
   "outputs": [
    {
     "data": {
      "text/plain": [
       "[1, 2, 3, 4]"
      ]
     },
     "execution_count": 24,
     "metadata": {},
     "output_type": "execute_result"
    }
   ],
   "source": [
    "#10. What is difference between the list methods append() and insert()?\n",
    "\n",
    "#The list method append() function only adds the elements to the end of the list.\n",
    "\n",
    "l1=[1,2,3]\n",
    "l1.append(4)\n",
    "l1"
   ]
  },
  {
   "cell_type": "code",
   "execution_count": 26,
   "id": "9f895769",
   "metadata": {},
   "outputs": [
    {
     "data": {
      "text/plain": [
       "[1, 2, 'ash', 3, 'zk', 4]"
      ]
     },
     "execution_count": 26,
     "metadata": {},
     "output_type": "execute_result"
    }
   ],
   "source": [
    "#The list method insert() function can add the elements to the list only with 2 arguments as input. \n",
    "#One is position of the element and its value being mentioned.\n",
    "\n",
    "l1=[1,2,3,4]\n",
    "l1.insert(2,\"ash\")\n",
    "l1.insert(4,\"zk\")\n",
    "l1"
   ]
  },
  {
   "cell_type": "code",
   "execution_count": 28,
   "id": "5f4d3d48",
   "metadata": {},
   "outputs": [
    {
     "data": {
      "text/plain": [
       "['cat', 45, 12.2]"
      ]
     },
     "execution_count": 28,
     "metadata": {},
     "output_type": "execute_result"
    }
   ],
   "source": [
    "#11. What are the two methods for removing items from a list?\n",
    "\n",
    "l1=[\"cat\",23,45,12.2]\n",
    "l1.remove(23) #it removes the specified element in the list\n",
    "l1"
   ]
  },
  {
   "cell_type": "code",
   "execution_count": 32,
   "id": "a6029d1c",
   "metadata": {},
   "outputs": [
    {
     "data": {
      "text/plain": [
       "[45]"
      ]
     },
     "execution_count": 32,
     "metadata": {},
     "output_type": "execute_result"
    }
   ],
   "source": [
    "l1=[\"cat\",45,12.2]\n",
    "l1.pop() \n",
    "l1.pop(0) #it removes the last element in the list even if the elements is not passed as argument, position of the element is passed as arguement\n",
    "l1"
   ]
  },
  {
   "cell_type": "code",
   "execution_count": 45,
   "id": "0b0b32bb",
   "metadata": {},
   "outputs": [
    {
     "data": {
      "text/plain": [
       "[223, 5234, 224, 'wrw']"
      ]
     },
     "execution_count": 45,
     "metadata": {},
     "output_type": "execute_result"
    }
   ],
   "source": [
    "#12. Describe how list values and string values are identical.\n",
    "\n",
    "#list values\n",
    "\n",
    "l1= [223,5234,224,'wrw']\n",
    "l1[0:4]"
   ]
  },
  {
   "cell_type": "code",
   "execution_count": 46,
   "id": "d59518f7",
   "metadata": {},
   "outputs": [
    {
     "data": {
      "text/plain": [
       "'strw'"
      ]
     },
     "execution_count": 46,
     "metadata": {},
     "output_type": "execute_result"
    }
   ],
   "source": [
    "#string values\n",
    "\n",
    "a=\"strw\"\n",
    "a[0:4]"
   ]
  },
  {
   "cell_type": "code",
   "execution_count": 48,
   "id": "34bd67eb",
   "metadata": {},
   "outputs": [],
   "source": [
    "#Both above examples show that the string values and list values are identical."
   ]
  },
  {
   "cell_type": "code",
   "execution_count": null,
   "id": "6a531f81",
   "metadata": {},
   "outputs": [],
   "source": [
    "#13. What's the difference between tuples and lists?\n",
    "\n",
    "#tuples is also like a list. It is enclosed in the brackets(). It is immutable collection. We cannot reassign the elements here.\n",
    "#tuples are fixed size collections.\n",
    "\n",
    "a= (1,2,3)  #tuple\n",
    "\n",
    "#lists are a collection of data enclosed in[].list is a mutable collection.\n",
    "\n",
    "a=[1,2,3]  #list"
   ]
  },
  {
   "cell_type": "code",
   "execution_count": 52,
   "id": "9b4b6d9f",
   "metadata": {},
   "outputs": [
    {
     "name": "stdout",
     "output_type": "stream",
     "text": [
      "the type of 42 <class 'int'>\n"
     ]
    }
   ],
   "source": [
    "#14. How do you type a tuple value that only contains the integer 42?\n",
    "\n",
    "t =(42)\n",
    "print(\"the type of 42\",type(t))"
   ]
  },
  {
   "cell_type": "code",
   "execution_count": 54,
   "id": "2758cbbc",
   "metadata": {},
   "outputs": [
    {
     "data": {
      "text/plain": [
       "(1, 2, 3)"
      ]
     },
     "execution_count": 54,
     "metadata": {},
     "output_type": "execute_result"
    }
   ],
   "source": [
    "#15. How do you get a list values tuple form? How do you get a tuple values list form?\n",
    "\n",
    "#List values tuple form\n",
    "\n",
    "l=[1,2,3]\n",
    "t= tuple(l)\n",
    "t"
   ]
  },
  {
   "cell_type": "code",
   "execution_count": 55,
   "id": "90496c85",
   "metadata": {},
   "outputs": [
    {
     "data": {
      "text/plain": [
       "[1, 2, 3]"
      ]
     },
     "execution_count": 55,
     "metadata": {},
     "output_type": "execute_result"
    }
   ],
   "source": [
    "#tuple values list form\n",
    "\n",
    "t=(1,2,3)\n",
    "l= list(t)\n",
    "l"
   ]
  },
  {
   "cell_type": "code",
   "execution_count": 57,
   "id": "0a702cff",
   "metadata": {},
   "outputs": [],
   "source": [
    "#16. Variables that \"contain\" list values are not necessarily lists themselves. Instead, what do they contain?\n",
    "\n",
    "variable =\"contain\"\n",
    "\n",
    "#Above statement is a declaration of a string \"contain\" assigned to the variable name variable."
   ]
  },
  {
   "cell_type": "code",
   "execution_count": 62,
   "id": "f69b842a",
   "metadata": {},
   "outputs": [
    {
     "data": {
      "text/plain": [
       "[1, 2, 3, 4, 5]"
      ]
     },
     "execution_count": 62,
     "metadata": {},
     "output_type": "execute_result"
    }
   ],
   "source": [
    "#17. How do you distinguish between copy.copy() and copy.deepcopy?\n",
    "\n",
    "import copy\n",
    "l = [1,2,3,4,5]\n",
    "l1 = copy.copy(l)\n",
    "l1\n"
   ]
  },
  {
   "cell_type": "code",
   "execution_count": 61,
   "id": "67b7bd06",
   "metadata": {},
   "outputs": [
    {
     "data": {
      "text/plain": [
       "[1, 2, 3, 4, 5]"
      ]
     },
     "execution_count": 61,
     "metadata": {},
     "output_type": "execute_result"
    }
   ],
   "source": [
    "import copy\n",
    "l =[1,2,3,4,5]\n",
    "l2 = copy.deepcopy(l)\n",
    "l2"
   ]
  },
  {
   "cell_type": "code",
   "execution_count": null,
   "id": "fe7c0062",
   "metadata": {},
   "outputs": [],
   "source": [
    "#A copy constructs a new compound object and then (to the extent possible) inserts \n",
    "#references into it to the objects found in the original.\n",
    "\n",
    "\n",
    "#A deep copy constructs a new compound object and then, recursively, \n",
    "#inserts copies into it of the objects found in the original."
   ]
  }
 ],
 "metadata": {
  "kernelspec": {
   "display_name": "Python 3 (ipykernel)",
   "language": "python",
   "name": "python3"
  },
  "language_info": {
   "codemirror_mode": {
    "name": "ipython",
    "version": 3
   },
   "file_extension": ".py",
   "mimetype": "text/x-python",
   "name": "python",
   "nbconvert_exporter": "python",
   "pygments_lexer": "ipython3",
   "version": "3.9.7"
  }
 },
 "nbformat": 4,
 "nbformat_minor": 5
}
