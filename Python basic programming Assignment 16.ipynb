{
 "cells": [
  {
   "cell_type": "code",
   "execution_count": 2,
   "id": "ea31bcdd",
   "metadata": {},
   "outputs": [
    {
     "name": "stdout",
     "output_type": "stream",
     "text": [
      "in... in... incredible?\n",
      "en... en... enthusiastic?\n",
      "ou... ou... outstanding?\n"
     ]
    }
   ],
   "source": [
    "\"\"\"Question1. \n",
    "\n",
    "Write a function that stutters a word as if someone is struggling to read it. The\n",
    "first two letters are repeated twice with an ellipsis ... and space after each, and then the\n",
    "word is pronounced with a question mark ?.\n",
    "Examples\n",
    "stutter(\"incredible\") ➞ \"in... in... incredible?\"\n",
    "stutter(\"enthusiastic\") ➞ \"en... en... enthusiastic?\"\n",
    "stutter(\"outstanding\") ➞ \"ou... ou... outstanding?\"\n",
    "\n",
    "Hint :- Assume all input is in lower case and at least two characters long.\"\"\"\n",
    "\n",
    "def stutter(word):\n",
    "    s = word[:2]\n",
    "    return (2 * (s + '... ')) + word + '?'\n",
    "\n",
    "\n",
    "print(stutter(\"incredible\"))\n",
    "print(stutter(\"enthusiastic\"))\n",
    "print(stutter(\"outstanding\"))"
   ]
  },
  {
   "cell_type": "code",
   "execution_count": 5,
   "id": "ad0cad1b",
   "metadata": {},
   "outputs": [
    {
     "name": "stdout",
     "output_type": "stream",
     "text": [
      "degree = 57.295827908797776\n",
      "degree = 1145.9165581759555\n",
      "degree = 2864.7913954398887\n"
     ]
    }
   ],
   "source": [
    "\"\"\"Question 2.\n",
    "Create a function that takes an angle in radians and returns the corresponding\n",
    "angle in degrees rounded to one decimal place.\n",
    "\n",
    "Examples\n",
    "radians_to_degrees(1) ➞ 57.3\n",
    "radians_to_degrees(20) ➞ 1145.9\n",
    "radians_to_degrees(50) ➞ 2864.8\"\"\"\n",
    "\n",
    "# Python code to convert radian to degree\n",
    " \n",
    "# Function for conversion\n",
    "def Convert(radian):\n",
    "    pi = 3.14159\n",
    "    # Simply used the formula\n",
    "    degree = radian * (180/pi)\n",
    "    return degree\n",
    " \n",
    "# Driver Code\n",
    "radian = 1\n",
    "print(\"degree =\",(Convert(radian)))\n",
    "radian2 =20\n",
    "print(\"degree =\",(Convert(radian2)))\n",
    "radian3=50\n",
    "print(\"degree =\",(Convert(radian3)))"
   ]
  },
  {
   "cell_type": "code",
   "execution_count": 15,
   "id": "3fb9dcce",
   "metadata": {},
   "outputs": [
    {
     "name": "stdout",
     "output_type": "stream",
     "text": [
      "5 is curzon number,its True\n",
      "33 is a multiple of 11\n",
      "14 is curzon number,its True\n",
      "16385 is a multiple of 29\n",
      "10 is not a curzon number,its False\n",
      "1025 is not a multiple of 21\n"
     ]
    }
   ],
   "source": [
    "\"\"\"Question 3. In this challenge, establish if a given integer num is a Curzon number. If 1 plus\n",
    "2 elevated to num is exactly divisible by 1 plus 2 multiplied by num, then num is a Curzon\n",
    "number.\n",
    "Given a non-negative integer num, implement a function that returns True if num is a Curzon\n",
    "number, or False otherwise.\n",
    "Examples\n",
    "is_curzon(5) ➞ True\n",
    "# 2 ** 5 + 1 = 33\n",
    "# 2 * 5 + 1 = 11\n",
    "# 33 is a multiple of 11\n",
    "is_curzon(10) ➞ False\n",
    "# 2 ** 10 + 1 = 1025\n",
    "# 2 * 10 + 1 = 21\n",
    "# 1025 is not a multiple of 21\n",
    "is_curzon(14) ➞ True\n",
    "# 2 ** 14 + 1 = 16385\n",
    "# 2 * 14 + 1 = 29\n",
    "# 16385 is a multiple of 29\"\"\"\n",
    "\n",
    "#A number N is said to be a Curzon Number if 2^N+ 1 is divisible by 2*N + 1.\n",
    "\n",
    "# Python3 implementation of the approach\n",
    " \n",
    "# Function to check if a number\n",
    "# is a Curzon number or not\n",
    "def is_curzon(N):\n",
    " \n",
    "    powerTerm, productTerm = 0, 0\n",
    " \n",
    "    # Find 2^N + 1\n",
    "    powerTerm = pow(2, N) + 1\n",
    " \n",
    "    # Find 2*N + 1\n",
    "    productTerm = 2 * N + 1\n",
    " \n",
    "    # Check for divisibility\n",
    "    if (powerTerm % productTerm == 0):\n",
    "        print(N,\"is curzon number,its True\")\n",
    "        print(powerTerm,\"is a multiple of\",productTerm)\n",
    "    else:\n",
    "        print(N,\"is not a curzon number,its False\")\n",
    "        print(powerTerm,\"is not a multiple of\",productTerm)\n",
    "        \n",
    "\n",
    "is_curzon(5)\n",
    "\n",
    "is_curzon(14)\n",
    "\n",
    "is_curzon(10)\n",
    "\n"
   ]
  },
  {
   "cell_type": "code",
   "execution_count": 26,
   "id": "8b4f7cb8",
   "metadata": {},
   "outputs": [
    {
     "name": "stdout",
     "output_type": "stream",
     "text": [
      "Area of hexagon with side 1 is 2.6\n",
      "Area of the hexagon with side 2 is 10.4\n",
      "Area of the hexagon with side 3 is 23.4\n"
     ]
    }
   ],
   "source": [
    "\"\"\"Question 4.\n",
    "Given the side length x find the area of a hexagon.\n",
    "\n",
    "Examples\n",
    "area_of_hexagon(1) ➞ 2.6\n",
    "area_of_hexagon(2) ➞ 10.4\n",
    "area_of_hexagon(3) ➞ 23.4\"\"\"\n",
    "\n",
    "# Python3 program to find area of a Hexagon\n",
    "import math\n",
    " \n",
    "# Function for calculating area of the hexagon.\n",
    "def area_of_hexagon(s):\n",
    "     \n",
    "    return ((3 * math.sqrt(3) * (s * s)) / 2);\n",
    "     \n",
    "# Driver code    \n",
    "if __name__ == \"__main__\" :\n",
    "    print(\"Area of hexagon with side 1 is\",\"{0:.1f}\".format(area_of_hexagon(1)))\n",
    "    print(\"Area of the hexagon with side 2 is\",\"{0:.1f}\".format(area_of_hexagon(2)))\n",
    "    print(\"Area of the hexagon with side 3 is\",\"{0:.1f}\".format(area_of_hexagon(3)))"
   ]
  },
  {
   "cell_type": "code",
   "execution_count": null,
   "id": "3e0c1fb5",
   "metadata": {},
   "outputs": [],
   "source": [
    "\"\"\"\n",
    "Question 5. \n",
    "\n",
    "Create a function that returns a base-2 (binary) representation of a base-10(decimal) string number. \n",
    "\n",
    "To convert is simple: ((2) means base-2 and (10) means base-10)\n",
    "010101001(2) = 1 + 8 + 32 + 128.\n",
    "Going from right to left, the value of the most right bit is 1, now from that every bit to the left\n",
    "will be x2 the value, value of an 8 bit binary numbers are (256, 128, 64, 32, 16, 8, 4, 2, 1).\n",
    "\n",
    "Examples\n",
    "\n",
    "binary(1) ➞ \"1\"\n",
    "# 1*1 = 1\n",
    "binary(5) ➞ \"101\"\n",
    "# 1*1 + 1*4 = 5\n",
    "binary(10) ➞ \"1010\"\n",
    "# 1*2 + 1*8 = 10\"\"\"\n"
   ]
  },
  {
   "cell_type": "code",
   "execution_count": 41,
   "id": "5b6c9eb1",
   "metadata": {},
   "outputs": [
    {
     "name": "stdout",
     "output_type": "stream",
     "text": [
      "Requirement already satisfied: pythonds in c:\\users\\amdza\\anaconda3\\lib\\site-packages (1.2.1)\n"
     ]
    }
   ],
   "source": [
    "!pip install pythonds"
   ]
  },
  {
   "cell_type": "code",
   "execution_count": 42,
   "id": "d98e22bb",
   "metadata": {},
   "outputs": [
    {
     "name": "stdout",
     "output_type": "stream",
     "text": [
      "1\n",
      "101\n",
      "1010\n"
     ]
    }
   ],
   "source": [
    "from pythonds.basic import Stack\n",
    "\n",
    "#convert base (10) to base(2)\n",
    "\n",
    "def binary(decNumber):\n",
    "    remstack = Stack()\n",
    "\n",
    "    while decNumber > 0:\n",
    "        rem = decNumber % 2\n",
    "        remstack.push(rem)\n",
    "        decNumber = decNumber // 2\n",
    "\n",
    "    binString = \"\"\n",
    "    while not remstack.isEmpty():\n",
    "        binString = binString + str(remstack.pop())\n",
    "\n",
    "    return binString\n",
    "\n",
    "print(binary(1))\n",
    "print(binary(5))\n",
    "print(binary(10))\n"
   ]
  },
  {
   "cell_type": "code",
   "execution_count": 45,
   "id": "61a73476",
   "metadata": {},
   "outputs": [
    {
     "name": "stdout",
     "output_type": "stream",
     "text": [
      "5\n"
     ]
    }
   ],
   "source": [
    "#convert base (2) to base(10)\n",
    "\n",
    "b_string =\"101\"\n",
    "integer_conversion = 0   # Variable to keep the track of sum, this will be our decimal representation\n",
    "for idx,val in enumerate(b_string[::-1]):   # Iterate from right to left\n",
    "    if ((int(val) & 1 ) == 1):              # Only set bits(1s) add any value to the final sum, hence checking for set bit\n",
    "        integer_conversion = 1*(1<<idx)+integer_conversion # Add the product to the sum\n",
    "print(integer_conversion)  # Report the decimal representation."
   ]
  }
 ],
 "metadata": {
  "kernelspec": {
   "display_name": "Python 3 (ipykernel)",
   "language": "python",
   "name": "python3"
  },
  "language_info": {
   "codemirror_mode": {
    "name": "ipython",
    "version": 3
   },
   "file_extension": ".py",
   "mimetype": "text/x-python",
   "name": "python",
   "nbconvert_exporter": "python",
   "pygments_lexer": "ipython3",
   "version": "3.9.7"
  }
 },
 "nbformat": 4,
 "nbformat_minor": 5
}
