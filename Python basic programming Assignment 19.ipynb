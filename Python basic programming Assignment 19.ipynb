{
 "cells": [
  {
   "cell_type": "code",
   "execution_count": 15,
   "id": "5ef2b601",
   "metadata": {},
   "outputs": [
    {
     "data": {
      "text/plain": [
       "'11223344!!__  '"
      ]
     },
     "execution_count": 15,
     "metadata": {},
     "output_type": "execute_result"
    }
   ],
   "source": [
    "\"\"\"Question1\n",
    "\n",
    "Create a function that takes a string and returns a string in which each character is repeated\n",
    "once.\n",
    "\n",
    "Examples\n",
    "double_char(\"String\") ➞ \"SSttrriinngg\"\n",
    "double_char(\"Hello World!\") ➞ \"HHeelllloo WWoorrlldd!!\"\n",
    "double_char(\"1234!_ \") ➞ \"11223344!!__\" \"\"\"\n",
    "\n",
    "def double_char(s):\n",
    "    out = []\n",
    "    for i in s:\n",
    "        out.append(i+\"\"+i)\n",
    "    return \"\".join(out)\n",
    "#The join() method takes all items in an iterable and joins them into one string.A string must be specified as the separator.\n",
    "\n",
    "double_char(\"1234!_ \")"
   ]
  },
  {
   "cell_type": "code",
   "execution_count": 16,
   "id": "d2f6f36c",
   "metadata": {},
   "outputs": [
    {
     "data": {
      "text/plain": [
       "'HHeelllloo  WWoorrlldd!!'"
      ]
     },
     "execution_count": 16,
     "metadata": {},
     "output_type": "execute_result"
    }
   ],
   "source": [
    "double_char(\"Hello World!\")"
   ]
  },
  {
   "cell_type": "code",
   "execution_count": 17,
   "id": "3bcc2f7c",
   "metadata": {},
   "outputs": [
    {
     "data": {
      "text/plain": [
       "'ssttrriinngg'"
      ]
     },
     "execution_count": 17,
     "metadata": {},
     "output_type": "execute_result"
    }
   ],
   "source": [
    "double_char(\"string\")"
   ]
  },
  {
   "cell_type": "code",
   "execution_count": 18,
   "id": "aa840c2a",
   "metadata": {},
   "outputs": [
    {
     "name": "stdout",
     "output_type": "stream",
     "text": [
      "False\n",
      "True\n",
      "boolean expected\n",
      "boolean expected\n"
     ]
    }
   ],
   "source": [
    "\"\"\"Question2\n",
    "Create a function that reverses a boolean value and returns the string \"boolean expected\"\n",
    "if another variable type is given.\n",
    "\n",
    "Examples\n",
    "reverse(True) ➞ False\n",
    "reverse(False) ➞ True\n",
    "reverse(0) ➞ \"boolean expected\"\n",
    "reverse(None) ➞ \"boolean expected\" \"\"\"\n",
    "\n",
    "def reverse(arg=None):\n",
    "    return not arg if type(arg) == bool else \"boolean expected\"\n",
    "\n",
    "print(reverse(True)) # False\n",
    "print(reverse(False)) # True\n",
    "print(reverse(0)) # \"boolean expected\"\n",
    "print(reverse(None)) # \"boolean expected\"\n",
    "\n",
    "\n"
   ]
  },
  {
   "cell_type": "code",
   "execution_count": 22,
   "id": "9d183016",
   "metadata": {},
   "outputs": [
    {
     "name": "stdout",
     "output_type": "stream",
     "text": [
      "\n",
      "\n",
      "How many folds? 21\n",
      "21 folds, thickness = 1048.58 m\n"
     ]
    }
   ],
   "source": [
    "\"\"\"Question3\n",
    "\n",
    "\n",
    "Examples\n",
    "\n",
    "num_layers(1) ➞ \"0.001m\"\n",
    "# Paper folded once is 1mm (equal to 0.001m)\n",
    "num_layers(4) ➞ \"0.008m\"\n",
    "# Paper folded 4 times is 8mm (equal to 0.008m)\n",
    "num_layers(21) ➞ \"1048.576m\"\n",
    "# Paper folded 21 times is 1048576mm (equal to 1048.576m)\"\"\"\n",
    "\n",
    "def fold(num_folds, thickness=0.5):\n",
    "    \"\"\"Simulate folding a sheet of paper in half.\n",
    "    ``num_folds`` is the number of times we'll fold the paper in half.\n",
    "    ``thickness`` is the the thickness of a sheet of paper (in millimeters).\n",
    "    \"\"\"\n",
    "    for i in range(1, num_folds + 1):\n",
    "        thickness = thickness * 2\n",
    "         # convert to meters\n",
    "        t = thickness / 1000.0\n",
    "        units = 'm'\n",
    "    fmt_string = '{n} folds, thickness = {thickness:G} {units}'\n",
    "    print(fmt_string.format(n=i, thickness=t, units=units))\n",
    "\n",
    "\n",
    "if __name__ == \"__main__\":\n",
    "    n = int(input(\"\\n\\nHow many folds? \"))\n",
    "    fold(n)"
   ]
  },
  {
   "cell_type": "code",
   "execution_count": 23,
   "id": "d5a14c4c",
   "metadata": {},
   "outputs": [
    {
     "name": "stdout",
     "output_type": "stream",
     "text": [
      "\n",
      "\n",
      "How many folds? 1\n",
      "1 folds, thickness = 0.001 m\n"
     ]
    }
   ],
   "source": [
    "def fold(num_folds, thickness=0.5):\n",
    "    \"\"\"Simulate folding a sheet of paper in half.\n",
    "    ``num_folds`` is the number of times we'll fold the paper in half.\n",
    "    ``thickness`` is the the thickness of a sheet of paper (in millimeters).\n",
    "    \"\"\"\n",
    "    for i in range(1, num_folds + 1):\n",
    "        thickness = thickness * 2\n",
    "         # convert to meters\n",
    "        t = thickness / 1000.0\n",
    "        units = 'm'\n",
    "    fmt_string = '{n} folds, thickness = {thickness:G} {units}'\n",
    "    print(fmt_string.format(n=i, thickness=t, units=units))\n",
    "\n",
    "\n",
    "if __name__ == \"__main__\":\n",
    "    n = int(input(\"\\n\\nHow many folds? \"))\n",
    "    fold(n)"
   ]
  },
  {
   "cell_type": "code",
   "execution_count": 24,
   "id": "1c9e5848",
   "metadata": {},
   "outputs": [
    {
     "name": "stdout",
     "output_type": "stream",
     "text": [
      "\n",
      "\n",
      "How many folds? 4\n",
      "4 folds, thickness = 0.008 m\n"
     ]
    }
   ],
   "source": [
    "def fold(num_folds, thickness=0.5):\n",
    "    \"\"\"Simulate folding a sheet of paper in half.\n",
    "    ``num_folds`` is the number of times we'll fold the paper in half.\n",
    "    ``thickness`` is the the thickness of a sheet of paper (in millimeters).\n",
    "    \"\"\"\n",
    "    for i in range(1, num_folds + 1):\n",
    "        thickness = thickness * 2\n",
    "         # convert to meters\n",
    "        t = thickness / 1000.0\n",
    "        units = 'm'\n",
    "    fmt_string = '{n} folds, thickness = {thickness:G} {units}'\n",
    "    print(fmt_string.format(n=i, thickness=t, units=units))\n",
    "\n",
    "\n",
    "if __name__ == \"__main__\":\n",
    "    n = int(input(\"\\n\\nHow many folds? \"))\n",
    "    fold(n)"
   ]
  },
  {
   "cell_type": "code",
   "execution_count": 28,
   "id": "c2e6eea6",
   "metadata": {},
   "outputs": [
    {
     "data": {
      "text/plain": [
       "[1, 3, 5]"
      ]
     },
     "execution_count": 28,
     "metadata": {},
     "output_type": "execute_result"
    }
   ],
   "source": [
    "\"\"\"Question4\n",
    "\n",
    "Create a function that takes a single string as argument and returns an ordered list containing\n",
    "the indices of all capital letters in the string.\n",
    "Examples\n",
    "index_of_caps(\"eDaBiT\") ➞ [1, 3, 5]\n",
    "index_of_caps(\"eQuINoX\") ➞ [1, 3, 4, 6]\n",
    "index_of_caps(\"determine\") ➞ []\n",
    "index_of_caps(\"STRIKE\") ➞ [0, 1, 2, 3, 4, 5]\n",
    "index_of_caps(\"sUn\") ➞ [1] \"\"\"\n",
    "\n",
    "# Python3 code to demonstrate working of Uppercase Indices    \n",
    "# Uppercase check using isupper()\n",
    "# enumerate() gets indices\n",
    "\n",
    "def index_of_caps(str):\n",
    "    res = [idx for idx, chr in enumerate(str) if chr.isupper()]\n",
    "    return res\n",
    "\n",
    "\n",
    "test_str = \"eDaBiT\"\n",
    "index_of_caps(test_str)"
   ]
  },
  {
   "cell_type": "code",
   "execution_count": 29,
   "id": "291bea1b",
   "metadata": {},
   "outputs": [
    {
     "data": {
      "text/plain": [
       "[1, 3, 4, 6]"
      ]
     },
     "execution_count": 29,
     "metadata": {},
     "output_type": "execute_result"
    }
   ],
   "source": [
    "index_of_caps(\"eQuINoX\")"
   ]
  },
  {
   "cell_type": "code",
   "execution_count": 30,
   "id": "842b3b23",
   "metadata": {},
   "outputs": [
    {
     "data": {
      "text/plain": [
       "[]"
      ]
     },
     "execution_count": 30,
     "metadata": {},
     "output_type": "execute_result"
    }
   ],
   "source": [
    "index_of_caps(\"determine\")"
   ]
  },
  {
   "cell_type": "code",
   "execution_count": 31,
   "id": "7291ded9",
   "metadata": {},
   "outputs": [
    {
     "data": {
      "text/plain": [
       "[0, 1, 2, 3, 4, 5]"
      ]
     },
     "execution_count": 31,
     "metadata": {},
     "output_type": "execute_result"
    }
   ],
   "source": [
    "index_of_caps(\"STRIKE\") "
   ]
  },
  {
   "cell_type": "code",
   "execution_count": 32,
   "id": "6656ae01",
   "metadata": {},
   "outputs": [
    {
     "data": {
      "text/plain": [
       "[1]"
      ]
     },
     "execution_count": 32,
     "metadata": {},
     "output_type": "execute_result"
    }
   ],
   "source": [
    "index_of_caps(\"sUn\")"
   ]
  },
  {
   "cell_type": "code",
   "execution_count": 42,
   "id": "2329b050",
   "metadata": {},
   "outputs": [
    {
     "data": {
      "text/plain": [
       "[2, 4, 6, 8]"
      ]
     },
     "execution_count": 42,
     "metadata": {},
     "output_type": "execute_result"
    }
   ],
   "source": [
    "\"\"\"Question5\n",
    "\n",
    "Using list comprehensions, create a function that finds all even numbers from 1 to the given\n",
    "number.\n",
    "Examples\n",
    "find_even_nums(8) ➞ [2, 4, 6, 8]\n",
    "find_even_nums(4) ➞ [2, 4]\n",
    "find_even_nums(2) ➞ [2]\"\"\"\n",
    "\n",
    "# Python program to print even Numbers in a List\n",
    "\n",
    "# using list comprehension\n",
    "def find_even_nums(n):\n",
    "    even_list = [ x for x in range(1,n+1) if x % 2 == 0]\n",
    "    return even_list\n",
    "\n",
    "find_even_nums(8)"
   ]
  },
  {
   "cell_type": "code",
   "execution_count": 43,
   "id": "af277b9d",
   "metadata": {},
   "outputs": [
    {
     "data": {
      "text/plain": [
       "[2, 4]"
      ]
     },
     "execution_count": 43,
     "metadata": {},
     "output_type": "execute_result"
    }
   ],
   "source": [
    "find_even_nums(4)"
   ]
  },
  {
   "cell_type": "code",
   "execution_count": 44,
   "id": "6b5517b0",
   "metadata": {},
   "outputs": [
    {
     "data": {
      "text/plain": [
       "[2]"
      ]
     },
     "execution_count": 44,
     "metadata": {},
     "output_type": "execute_result"
    }
   ],
   "source": [
    "find_even_nums(2)"
   ]
  }
 ],
 "metadata": {
  "kernelspec": {
   "display_name": "Python 3 (ipykernel)",
   "language": "python",
   "name": "python3"
  },
  "language_info": {
   "codemirror_mode": {
    "name": "ipython",
    "version": 3
   },
   "file_extension": ".py",
   "mimetype": "text/x-python",
   "name": "python",
   "nbconvert_exporter": "python",
   "pygments_lexer": "ipython3",
   "version": "3.9.7"
  }
 },
 "nbformat": 4,
 "nbformat_minor": 5
}
