{
 "cells": [
  {
   "cell_type": "code",
   "execution_count": 1,
   "id": "f3e4c484",
   "metadata": {},
   "outputs": [
    {
     "name": "stdout",
     "output_type": "stream",
     "text": [
      "The original dictionary is : {'gfg': [5, 6, 7, 8], 'is': [10, 11, 7, 5], 'best': [6, 12, 10, 8], 'for': [1, 2, 5]}\n",
      "The unique values list is : [1, 2, 5, 6, 7, 8, 10, 11, 12]\n"
     ]
    }
   ],
   "source": [
    "#1.Write a Python program to Extract Unique values dictionary values?\n",
    "\n",
    "# Python3 code to demonstrate working of Extract Unique values dictionary values\n",
    "# Using set comprehension + values() + sorted()\n",
    " \n",
    "# initializing dictionary\n",
    "test_dict = {'gfg' : [5, 6, 7, 8],\n",
    "             'is' : [10, 11, 7, 5],\n",
    "             'best' : [6, 12, 10, 8],\n",
    "             'for' : [1, 2, 5]}\n",
    " \n",
    "# printing original dictionary\n",
    "print(\"The original dictionary is : \" + str(test_dict))\n",
    " \n",
    "# Extract Unique values dictionary values\n",
    "# Using set comprehension + values() + sorted()\n",
    "res = list(sorted({ele for val in test_dict.values() for ele in val}))\n",
    " \n",
    "# printing result\n",
    "print(\"The unique values list is : \" + str(res))"
   ]
  },
  {
   "cell_type": "code",
   "execution_count": 2,
   "id": "7c27e060",
   "metadata": {},
   "outputs": [
    {
     "name": "stdout",
     "output_type": "stream",
     "text": [
      "Sum : 600\n"
     ]
    }
   ],
   "source": [
    "#2.Write a Python program to find the sum of all items in a dictionary?\n",
    "\n",
    "# Python3 Program to find sum of\n",
    "# all items in a Dictionary\n",
    " \n",
    "# Function to print sum\n",
    " \n",
    " \n",
    "def returnSum(myDict):\n",
    " \n",
    "    list = []\n",
    "    for i in myDict:\n",
    "        list.append(myDict[i])\n",
    "    final = sum(list)\n",
    " \n",
    "    return final\n",
    " \n",
    " \n",
    "# Driver Function\n",
    "dict = {'a': 100, 'b': 200, 'c': 300}\n",
    "print(\"Sum :\", returnSum(dict))"
   ]
  },
  {
   "cell_type": "code",
   "execution_count": 3,
   "id": "8f7fca3c",
   "metadata": {},
   "outputs": [
    {
     "name": "stdout",
     "output_type": "stream",
     "text": [
      "{1: 'a', 2: 'c', 4: 'd'}\n"
     ]
    }
   ],
   "source": [
    "#3.Write a Python program to Merging two Dictionaries?\n",
    "\n",
    "#Note: If there are two keys with the same name, the merged dictionary contains the value of the latter key.\n",
    "\n",
    "dict_1 = {1: 'a', 2: 'b'}\n",
    "dict_2 = {2: 'c', 4: 'd'}\n",
    "\n",
    "print(dict_1 | dict_2)\n",
    "\n",
    "#In Python 3.9 and later versions, the | operator can be used to merge dictionaries."
   ]
  },
  {
   "cell_type": "code",
   "execution_count": 20,
   "id": "273fabfb",
   "metadata": {},
   "outputs": [
    {
     "name": "stdout",
     "output_type": "stream",
     "text": [
      "The original dictionary is : {'month': [1, 2, 3], 'name': ['Jan', 'Feb', 'March']}\n",
      "Flattened dictionary : {1: 'Jan', 2: 'Feb', 3: 'March'}\n"
     ]
    }
   ],
   "source": [
    "#4.Write a Python program to convert key-values list to flat dictionary?\n",
    "\n",
    "# Python3 code to demonstrate working of\n",
    "# Convert key-values list to flat dictionary\n",
    "# initializing dictionary\n",
    "test_dict = {'month' : [1, 2, 3],\n",
    "            'name' : ['Jan', 'Feb', 'March']}\n",
    " \n",
    "# printing original dictionary\n",
    "print(\"The original dictionary is : \" + str(test_dict))\n",
    " \n",
    "# Convert key-values list to flat dictionary\n",
    "x=list(test_dict.values())\n",
    "a=x[0]\n",
    "b=x[1]\n",
    "d= {} #declaring an empty dictionary\n",
    "for i in range(0,len(a)):\n",
    "    d[a[i]]=b[i]\n",
    "# printing result\n",
    "print(\"Flattened dictionary : \" + str(d))"
   ]
  },
  {
   "cell_type": "code",
   "execution_count": 25,
   "id": "e5de7878",
   "metadata": {},
   "outputs": [
    {
     "name": "stdout",
     "output_type": "stream",
     "text": [
      "Resultant Dictionary : OrderedDict([('manjeet', '3'), ('akshat', '1'), ('nikhil', '2')])\n"
     ]
    }
   ],
   "source": [
    "#5.Write a Python program to insertion at the beginning in OrderedDict?\n",
    "\n",
    "#An OrderedDict is a dict that remembers the order in that keys were first inserted. \n",
    "#If a new entry overwrites an existing entry, the original insertion position is left unchanged. \n",
    "#Deleting an entry and reinserting it will move it to the end. \n",
    "\n",
    "# Python code to demonstrate insertion of items in beginning of ordered dict\n",
    "from collections import OrderedDict\n",
    " \n",
    "# initialising ordered_dict\n",
    "iniordered_dict = OrderedDict([('akshat', '1'), ('nikhil', '2')])\n",
    " \n",
    "# inserting items in starting of dict\n",
    "iniordered_dict.update({'manjeet':'3'})\n",
    "#update() method updates the dictionary with the elements from another dictionary object or from an iterable of key/value pairs.\n",
    "iniordered_dict.move_to_end('manjeet', last = False)\n",
    "#If the last is True then this method would move an existing key of the dictionary in the end \n",
    "#otherwise it would move an existing key of the dictionary in the beginning\n",
    " \n",
    "# print result\n",
    "print (\"Resultant Dictionary : \"+str(iniordered_dict))"
   ]
  },
  {
   "cell_type": "code",
   "execution_count": 27,
   "id": "51218181",
   "metadata": {},
   "outputs": [
    {
     "name": "stdout",
     "output_type": "stream",
     "text": [
      "true\n"
     ]
    }
   ],
   "source": [
    "#6.Write a Python program to check order of character in string using OrderedDict()?\n",
    "\n",
    "# Function to check if string follows order of characters defined by a pattern \n",
    "\n",
    "from collections import OrderedDict   \n",
    "def checkOrder(input, pattern): \n",
    "      \n",
    "    # create empty OrderedDict \n",
    "    # output will be like {'a': None,'b': None, 'c': None} \n",
    "    dict = OrderedDict.fromkeys(input)\n",
    "    #The fromkeys() method returns a dictionary with the specified keys and the specified value.\n",
    "  \n",
    "    # traverse generated OrderedDict parallel with \n",
    "    # pattern string to check if order of characters are same or not \n",
    "    ptrlen = 0\n",
    "    for key,value in dict.items(): \n",
    "        if (key == pattern[ptrlen]): \n",
    "            ptrlen = ptrlen + 1\n",
    "          \n",
    "        # check if we have traverse complete pattern string \n",
    "        if (ptrlen == (len(pattern))): \n",
    "            return 'true'\n",
    "  \n",
    "    # if we come out from for loop that means order was mismatched \n",
    "    return 'false'\n",
    "  \n",
    "# Driver program \n",
    "if __name__ == \"__main__\": \n",
    "    input = 'engineers rock'\n",
    "    pattern = 'er'\n",
    "    print (checkOrder(input,pattern)) \n",
    "\n"
   ]
  },
  {
   "cell_type": "code",
   "execution_count": 28,
   "id": "8f0afe48",
   "metadata": {},
   "outputs": [
    {
     "name": "stdout",
     "output_type": "stream",
     "text": [
      "false\n"
     ]
    }
   ],
   "source": [
    "# Function to check if string follows order of characters defined by a pattern \n",
    "\n",
    "from collections import OrderedDict   \n",
    "def checkOrder(input, pattern): \n",
    "      \n",
    "    # create empty OrderedDict \n",
    "    # output will be like {'a': None,'b': None, 'c': None} \n",
    "    dict = OrderedDict.fromkeys(input)\n",
    "    #The fromkeys() method returns a dictionary with the specified keys and the specified value.\n",
    "  \n",
    "    # traverse generated OrderedDict parallel with \n",
    "    # pattern string to check if order of characters are same or not \n",
    "    ptrlen = 0\n",
    "    for key,value in dict.items(): \n",
    "        if (key == pattern[ptrlen]): \n",
    "            ptrlen = ptrlen + 1\n",
    "          \n",
    "        # check if we have traverse complete pattern string \n",
    "        if (ptrlen == (len(pattern))): \n",
    "            return 'true'\n",
    "  \n",
    "    # if we come out from for loop that means order was mismatched \n",
    "    return 'false'\n",
    "  \n",
    "# Driver program \n",
    "if __name__ == \"__main__\": \n",
    "    input = 'engineers rock'\n",
    "    pattern = 'ks'\n",
    "    print (checkOrder(input,pattern))"
   ]
  },
  {
   "cell_type": "code",
   "execution_count": 41,
   "id": "5ade3ead",
   "metadata": {},
   "outputs": [
    {
     "name": "stdout",
     "output_type": "stream",
     "text": [
      "Sorted dictionary is :\n",
      "[('10', 'ravi'), ('15', 'sanjeev'), ('2', 'yash'), ('32', 'suraj'), ('9', 'rajnish')]\n"
     ]
    }
   ],
   "source": [
    "#7.Write a Python program to sort Python Dictionaries by Key or Value?\n",
    "\n",
    "#Example 1: Sort the dictionary by values:\n",
    "\n",
    "import operator\n",
    "dict2 = {'ravi': '10', 'rajnish': '9',\n",
    "        'sanjeev': '15', 'yash': '2', 'suraj': '32'}\n",
    " \n",
    "# Sorting dictionary\n",
    "sorted_dict = sorted([(value,key)\n",
    " for (key, value) in dict2.items()])\n",
    " \n",
    "# Print sorted dictionary\n",
    "print(\"Sorted dictionary is :\")\n",
    "print(sorted_dict)"
   ]
  },
  {
   "cell_type": "code",
   "execution_count": 30,
   "id": "03987bb9",
   "metadata": {},
   "outputs": [
    {
     "name": "stdout",
     "output_type": "stream",
     "text": [
      "OrderedDict([('rajnish', '9'), ('ravi', '10'), ('sanjeev', '15'), ('suraj', '32'), ('yash', '2')])\n"
     ]
    }
   ],
   "source": [
    "#Examples 2: Sort the dictionary by key :\n",
    "\n",
    "# Creates a sorted dictionary (sorted by key)\n",
    "from collections import OrderedDict\n",
    " \n",
    "dict = {'ravi': '10', 'rajnish': '9',\n",
    "        'sanjeev': '15', 'yash': '2', 'suraj': '32'}\n",
    "dict1 = OrderedDict(sorted(dict.items()))\n",
    "print(dict1)"
   ]
  }
 ],
 "metadata": {
  "kernelspec": {
   "display_name": "Python 3 (ipykernel)",
   "language": "python",
   "name": "python3"
  },
  "language_info": {
   "codemirror_mode": {
    "name": "ipython",
    "version": 3
   },
   "file_extension": ".py",
   "mimetype": "text/x-python",
   "name": "python",
   "nbconvert_exporter": "python",
   "pygments_lexer": "ipython3",
   "version": "3.9.7"
  }
 },
 "nbformat": 4,
 "nbformat_minor": 5
}
