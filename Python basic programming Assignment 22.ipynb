{
 "cells": [
  {
   "cell_type": "code",
   "execution_count": 7,
   "id": "9886144b",
   "metadata": {},
   "outputs": [
    {
     "data": {
      "text/plain": [
       "[3, 6, 9]"
      ]
     },
     "execution_count": 7,
     "metadata": {},
     "output_type": "execute_result"
    }
   ],
   "source": [
    "\"\"\"Question1\n",
    "\n",
    "Create a function that takes three parameters where:\n",
    " x is the start of the range (inclusive).\n",
    " y is the end of the range (inclusive).\n",
    " n is the divisor to be checked against.\n",
    "\n",
    "Return an ordered list with numbers in the range that are divisible by the third parameter n.\n",
    "Return an empty list if there are no numbers that are divisible by n.\n",
    "Examples\n",
    "\n",
    "list_operation(1, 10, 3) ➞ [3, 6, 9]\n",
    "list_operation(7, 9, 2) ➞ [8]\n",
    "list_operation(15, 20, 7) ➞ [] \"\"\"\n",
    "\n",
    "def list_operation(x,y,n): #declaring the function\n",
    "    result=[] #create an empty list to store result\n",
    "    for i in range(x,y): #run the loop for given range starting from x till y\n",
    "        if i%n==0: #check for every number\n",
    "            result.append(i) # append the numbers which are divisible\n",
    "    return result #return the list\n",
    "\n",
    "list_operation(1, 10, 3)"
   ]
  },
  {
   "cell_type": "code",
   "execution_count": 8,
   "id": "3e889ad6",
   "metadata": {},
   "outputs": [
    {
     "data": {
      "text/plain": [
       "[8]"
      ]
     },
     "execution_count": 8,
     "metadata": {},
     "output_type": "execute_result"
    }
   ],
   "source": [
    "list_operation(7, 9, 2)"
   ]
  },
  {
   "cell_type": "code",
   "execution_count": 9,
   "id": "42c3b183",
   "metadata": {},
   "outputs": [
    {
     "data": {
      "text/plain": [
       "[]"
      ]
     },
     "execution_count": 9,
     "metadata": {},
     "output_type": "execute_result"
    }
   ],
   "source": [
    "list_operation(15, 20, 7)"
   ]
  },
  {
   "cell_type": "code",
   "execution_count": 58,
   "id": "313c390a",
   "metadata": {},
   "outputs": [],
   "source": [
    "\"\"\"\n",
    "Question2\n",
    "Create a function that takes in two lists and returns True if the second list follows the first list\n",
    "by one element, and False otherwise. In other words, determine if the second list is the first\n",
    "list shifted to the right by 1.\n",
    "\n",
    "Examples\n",
    "simon_says([1, 2], [5, 1]) ➞ True\n",
    "simon_says([1, 2], [5, 5]) ➞ False\n",
    "simon_says([1, 2, 3, 4, 5], [0, 1, 2, 3, 4]) ➞ True\n",
    "simon_says([1, 2, 3, 4, 5], [5, 5, 1, 2, 3]) ➞ False\n",
    "\n",
    "Notes\n",
    " Both input lists will be of the same length, and will have a minimum length of 2.\n",
    " The values of the 0-indexed element in the second list and the n-1th indexed element\n",
    "in the first list do not matter.\"\"\"\n",
    "\n",
    "  \n",
    "def simon_says(list1, list2):\n",
    "    #declaring the function\n",
    "    result = False \n",
    "    #declare the variable by setting it to false\n",
    "    if len(list1)==len(list2):\n",
    "        # compare if both the list are of same length\n",
    "        if  list1[0]==list2[1]:\n",
    "            #compare the first element of list2 is equal to second element of list2\n",
    "            x=list1.pop() \n",
    "            #remove last element from list1\n",
    "            y=list2.pop(0) \n",
    "            #remove first element from list2\n",
    "            if list1==list2:\n",
    "                #compare uodated lists\n",
    "                result = True\n",
    "    return result\n",
    "        \n",
    "    \n",
    "    \n",
    "                      "
   ]
  },
  {
   "cell_type": "code",
   "execution_count": 59,
   "id": "b9d7678b",
   "metadata": {},
   "outputs": [
    {
     "data": {
      "text/plain": [
       "True"
      ]
     },
     "execution_count": 59,
     "metadata": {},
     "output_type": "execute_result"
    }
   ],
   "source": [
    "simon_says([1, 2, 3, 4, 5], [0, 1, 2, 3, 4])"
   ]
  },
  {
   "cell_type": "code",
   "execution_count": 60,
   "id": "26088160",
   "metadata": {},
   "outputs": [
    {
     "data": {
      "text/plain": [
       "True"
      ]
     },
     "execution_count": 60,
     "metadata": {},
     "output_type": "execute_result"
    }
   ],
   "source": [
    "simon_says([1, 2], [5, 1]) "
   ]
  },
  {
   "cell_type": "code",
   "execution_count": 61,
   "id": "0318a6ed",
   "metadata": {},
   "outputs": [
    {
     "data": {
      "text/plain": [
       "False"
      ]
     },
     "execution_count": 61,
     "metadata": {},
     "output_type": "execute_result"
    }
   ],
   "source": [
    "simon_says([1, 2, 3, 4, 5], [5, 5, 1, 2, 3])"
   ]
  },
  {
   "cell_type": "code",
   "execution_count": 62,
   "id": "719ea6a4",
   "metadata": {},
   "outputs": [
    {
     "data": {
      "text/plain": [
       "False"
      ]
     },
     "execution_count": 62,
     "metadata": {},
     "output_type": "execute_result"
    }
   ],
   "source": [
    "simon_says([1, 2], [5, 5])"
   ]
  },
  {
   "cell_type": "code",
   "execution_count": 69,
   "id": "57f35e19",
   "metadata": {},
   "outputs": [
    {
     "data": {
      "text/plain": [
       "'AMS'"
      ]
     },
     "execution_count": 69,
     "metadata": {},
     "output_type": "execute_result"
    }
   ],
   "source": [
    "\"\"\"Question3\n",
    "\n",
    "A group of friends have decided to start a secret society. The name will be the first letter of\n",
    "each of their names, sorted in alphabetical order.\n",
    "\n",
    "Create a function that takes in a list of names and returns the name of the secret society.\n",
    "\n",
    "Examples\n",
    "society_name([\"Adam\", \"Sarah\", \"Malcolm\"]) ➞ \"AMS\"\n",
    "society_name([\"Harry\", \"Newt\", \"Luna\", \"Cho\"]) ➞ \"CHLN\"\n",
    "society_name([\"Phoebe\", \"Chandler\", \"Rachel\", \"Ross\", \"Monica\", \"Joey'])\"\"\"\n",
    "\n",
    "def society_name(list1):\n",
    "    x=[]\n",
    "    #declaring the function\n",
    "    x=sorted(list1)\n",
    "    y=[]\n",
    "    y = [i[0] for i in x]  \n",
    "    z=''.join(y)\n",
    "    return z\n",
    "\n",
    "society_name([\"Adam\", \"Sarah\", \"Malcolm\"])"
   ]
  },
  {
   "cell_type": "code",
   "execution_count": 70,
   "id": "dcd98388",
   "metadata": {},
   "outputs": [
    {
     "data": {
      "text/plain": [
       "'CHLN'"
      ]
     },
     "execution_count": 70,
     "metadata": {},
     "output_type": "execute_result"
    }
   ],
   "source": [
    "society_name([\"Harry\", \"Newt\", \"Luna\", \"Cho\"])"
   ]
  },
  {
   "cell_type": "code",
   "execution_count": 72,
   "id": "9ebd6a9a",
   "metadata": {},
   "outputs": [
    {
     "data": {
      "text/plain": [
       "'CJMPRR'"
      ]
     },
     "execution_count": 72,
     "metadata": {},
     "output_type": "execute_result"
    }
   ],
   "source": [
    "society_name([\"Phoebe\", \"Chandler\", \"Rachel\", \"Ross\", \"Monica\", \"Joey\"])"
   ]
  },
  {
   "cell_type": "code",
   "execution_count": 73,
   "id": "240c7ce3",
   "metadata": {},
   "outputs": [
    {
     "data": {
      "text/plain": [
       "True"
      ]
     },
     "execution_count": 73,
     "metadata": {},
     "output_type": "execute_result"
    }
   ],
   "source": [
    "\"\"\"Question4\n",
    "An isogram is a word that has no duplicate letters. Create a function that takes a string and\n",
    "returns either True or False depending on whether or not it's an \"isogram\".\n",
    "Examples\n",
    "is_isogram(\"Algorism\") ➞ True\n",
    "is_isogram(\"PasSword\") ➞ False\n",
    "# Not case sensitive.\n",
    "is_isogram(\"Consecutive\") ➞ False\n",
    "\n",
    "Notes\n",
    " Ignore letter case (should not be case sensitive).\n",
    " All test cases contain valid one word strings.\"\"\"\n",
    "\n",
    "# Python program to check if a word is isogram or not\n",
    "def is_isogram(word):\n",
    " \n",
    "    # Convert the word or sentence in lower case letters.\n",
    "    clean_word = word.lower()\n",
    " \n",
    "    # Make an empty list to append unique letters\n",
    "    letter_list = []\n",
    " \n",
    "    for letter in clean_word:\n",
    " \n",
    "        # If letter is an alphabet then only check\n",
    "        if letter.isalpha():\n",
    "            if letter in letter_list:\n",
    "                return False\n",
    "            letter_list.append(letter)\n",
    " \n",
    "    return True\n",
    "\n",
    "is_isogram(\"Algorism\")"
   ]
  },
  {
   "cell_type": "code",
   "execution_count": 74,
   "id": "9e89fcef",
   "metadata": {},
   "outputs": [
    {
     "data": {
      "text/plain": [
       "False"
      ]
     },
     "execution_count": 74,
     "metadata": {},
     "output_type": "execute_result"
    }
   ],
   "source": [
    "is_isogram(\"Consecutive\")"
   ]
  },
  {
   "cell_type": "code",
   "execution_count": 75,
   "id": "65df3c50",
   "metadata": {},
   "outputs": [
    {
     "data": {
      "text/plain": [
       "False"
      ]
     },
     "execution_count": 75,
     "metadata": {},
     "output_type": "execute_result"
    }
   ],
   "source": [
    "is_isogram(\"PasSword\")"
   ]
  },
  {
   "cell_type": "code",
   "execution_count": 82,
   "id": "c72bc97a",
   "metadata": {},
   "outputs": [
    {
     "data": {
      "text/plain": [
       "True"
      ]
     },
     "execution_count": 82,
     "metadata": {},
     "output_type": "execute_result"
    }
   ],
   "source": [
    "\"\"\"Question5\n",
    "\n",
    "Create a function that takes a string and returns True or False, depending on whether the\n",
    "characters are in order or not.\n",
    "\n",
    "Examples\n",
    "is_in_order(\"abc\") ➞ True\n",
    "is_in_order(\"edabit\") ➞ False\n",
    "is_in_order(\"123\") ➞ True\n",
    "is_in_order(\"xyzz\") ➞ True \n",
    "Notes\n",
    "You don&#39;t have to handle empty strings.\"\"\"\n",
    "\n",
    "def is_in_order(word):\n",
    "    x= sorted(word)\n",
    "    y=''.join(x)\n",
    "    if word == y:\n",
    "        return True\n",
    "    else:\n",
    "        return False\n",
    "    \n",
    "is_in_order(\"abc\")"
   ]
  },
  {
   "cell_type": "code",
   "execution_count": 84,
   "id": "509bad64",
   "metadata": {},
   "outputs": [
    {
     "data": {
      "text/plain": [
       "False"
      ]
     },
     "execution_count": 84,
     "metadata": {},
     "output_type": "execute_result"
    }
   ],
   "source": [
    "is_in_order(\"edabit\")"
   ]
  },
  {
   "cell_type": "code",
   "execution_count": 85,
   "id": "b0b1b2e6",
   "metadata": {},
   "outputs": [
    {
     "data": {
      "text/plain": [
       "True"
      ]
     },
     "execution_count": 85,
     "metadata": {},
     "output_type": "execute_result"
    }
   ],
   "source": [
    "is_in_order(\"123\")"
   ]
  },
  {
   "cell_type": "code",
   "execution_count": 86,
   "id": "238bc7e1",
   "metadata": {},
   "outputs": [
    {
     "data": {
      "text/plain": [
       "True"
      ]
     },
     "execution_count": 86,
     "metadata": {},
     "output_type": "execute_result"
    }
   ],
   "source": [
    "is_in_order(\"xyzz\")"
   ]
  }
 ],
 "metadata": {
  "kernelspec": {
   "display_name": "Python 3 (ipykernel)",
   "language": "python",
   "name": "python3"
  },
  "language_info": {
   "codemirror_mode": {
    "name": "ipython",
    "version": 3
   },
   "file_extension": ".py",
   "mimetype": "text/x-python",
   "name": "python",
   "nbconvert_exporter": "python",
   "pygments_lexer": "ipython3",
   "version": "3.9.7"
  }
 },
 "nbformat": 4,
 "nbformat_minor": 5
}
