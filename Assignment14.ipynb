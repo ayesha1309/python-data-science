{
 "cells": [
  {
   "cell_type": "code",
   "execution_count": 2,
   "id": "ece8d4b2",
   "metadata": {},
   "outputs": [],
   "source": [
    "#1. What does RGBA stand for?\n",
    "\n",
    "#RGBA value is a group of numbers that specify the amount of red, green, blue, and alpha (or transparency) in a color."
   ]
  },
  {
   "cell_type": "code",
   "execution_count": 23,
   "id": "92661f3c",
   "metadata": {},
   "outputs": [
    {
     "name": "stdout",
     "output_type": "stream",
     "text": [
      "Requirement already satisfied: pillow in c:\\users\\amdza\\anaconda3\\lib\\site-packages (8.4.0)\n"
     ]
    }
   ],
   "source": [
    "#2.From the Pillow module, how do you get the RGBA value of any images?\n",
    "\n",
    "#Pillow is a third-party Python module for interacting with image files. \n",
    "#The module has several functions that make it easy to crop, resize, and edit the content of an image.\n",
    "\n",
    "!pip install pillow\n",
    "from PIL import Image\n",
    "\n",
    "#In Pillow, RGBA values are represented by a tuple of four integer values. \n",
    "\n",
    "x=Image.open('abc.png')\n",
    "pix_val = list(x.getdata())"
   ]
  },
  {
   "cell_type": "code",
   "execution_count": 13,
   "id": "11c95511",
   "metadata": {},
   "outputs": [],
   "source": [
    "#3.What is a box tuple, and how does it work?\n",
    "\n",
    "#Many of Pillow’s functions and methods take a box tuple argument. \n",
    "#This means Pillow is expecting a tuple of four integer coordinates that represent a rectangular region in an image. \n",
    "#The four integers are, in order, as follows:\n",
    "\n",
    "#Left The x-coordinate of the leftmost edge of the box.\n",
    "\n",
    "#Top The y-coordinate of the top edge of the box.\n",
    "\n",
    "#Right The x-coordinate of one pixel to the right of the rightmost edge of the box. \n",
    "#This integer must be greater than the left integer.\n",
    "\n",
    "#Bottom The y-coordinate of one pixel lower than the bottom edge of the box. \n",
    "#This integer must be greater than the top integer."
   ]
  },
  {
   "cell_type": "code",
   "execution_count": 14,
   "id": "230f1acc",
   "metadata": {},
   "outputs": [
    {
     "name": "stdout",
     "output_type": "stream",
     "text": [
      "The height of the image is:  1080\n",
      "The width of the image is:  1920\n"
     ]
    }
   ],
   "source": [
    "#4.Use your image and load in notebook then, How can you find out the width and height of an Image object?\n",
    "\n",
    "# import required module\n",
    "from PIL import Image\n",
    "  \n",
    "# get image\n",
    "filepath = \"abc.png\"\n",
    "img = Image.open(filepath)\n",
    "  \n",
    "# get width and height\n",
    "width = img.width\n",
    "height = img.height\n",
    "  \n",
    "# display width and height\n",
    "print(\"The height of the image is: \", height)\n",
    "print(\"The width of the image is: \", width)"
   ]
  },
  {
   "cell_type": "code",
   "execution_count": 16,
   "id": "e55843ae",
   "metadata": {},
   "outputs": [],
   "source": [
    "#5. What method would you call to get Image object for a 100×100 image, excluding the lower-left quarter of it?\n",
    "\n",
    "# import required module\n",
    "from PIL import Image\n",
    "\n",
    "# get image\n",
    "filepath = \"abc.png\"\n",
    "img = Image.open(filepath)\n",
    "\n",
    "#creates a new image and saved as im_crop.png\n",
    "im_crop = img.crop((60, 20, 400, 200))\n",
    "im_crop.save(\"crop.png\")"
   ]
  },
  {
   "cell_type": "code",
   "execution_count": 17,
   "id": "22b3aa63",
   "metadata": {},
   "outputs": [],
   "source": [
    "#6. After making changes to an Image object, how could you save it as an image file?\n",
    "\n",
    "#After making changes to an Image object, we could save it as an image file by using the imageobject.save(image name) function."
   ]
  },
  {
   "cell_type": "code",
   "execution_count": 18,
   "id": "221566b9",
   "metadata": {},
   "outputs": [],
   "source": [
    "#7. What module contains Pillow’s shape-drawing code?\n",
    "\n",
    "#The ‘ImageDraw’ module provides simple 2D graphics support for Image Object. \n",
    "#Generally, we use this module to create new images, annotate or retouch existing images \n",
    "#and to generate graphics on the fly for web use."
   ]
  },
  {
   "cell_type": "code",
   "execution_count": 22,
   "id": "a8916e66",
   "metadata": {},
   "outputs": [
    {
     "name": "stdout",
     "output_type": "stream",
     "text": [
      "Requirement already satisfied: pygame in c:\\users\\amdza\\anaconda3\\lib\\site-packages (2.1.2)\n"
     ]
    }
   ],
   "source": [
    "#8. Image objects do not have drawing methods. What kind of object does? How do you get this kind of object?\n",
    "\n",
    "#Image objects do not have drawing methods.Drawing objects are the ones created exclusively by using functions in the \n",
    "#module pygame.\n",
    "\n",
    "!pip install pygame\n",
    "import pygame"
   ]
  }
 ],
 "metadata": {
  "kernelspec": {
   "display_name": "Python 3 (ipykernel)",
   "language": "python",
   "name": "python3"
  },
  "language_info": {
   "codemirror_mode": {
    "name": "ipython",
    "version": 3
   },
   "file_extension": ".py",
   "mimetype": "text/x-python",
   "name": "python",
   "nbconvert_exporter": "python",
   "pygments_lexer": "ipython3",
   "version": "3.9.7"
  }
 },
 "nbformat": 4,
 "nbformat_minor": 5
}
