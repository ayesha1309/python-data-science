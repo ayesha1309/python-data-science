{
 "cells": [
  {
   "cell_type": "code",
   "execution_count": 2,
   "id": "ff8510e1",
   "metadata": {},
   "outputs": [],
   "source": [
    "#1.In what modes should the PdfFileReader() and PdfFileWriter() File objects will be opened?\n",
    "\n",
    "#The first step is to import the PyPDF2 module, \n",
    "\n",
    "#import PyPDF2\n",
    "\n",
    "#The next step is to create an object that holds the path of the pdf file. \n",
    "#We have provided one more argument i.e rb which means read binary.\n",
    "#The PdfFileWriter() or write() method takes a regular File object that has been opened in write-binary mode.\n"
   ]
  },
  {
   "cell_type": "code",
   "execution_count": 3,
   "id": "e49e380e",
   "metadata": {},
   "outputs": [],
   "source": [
    "#2.From a PdfFileReader object, how do you get a Page object for page 5?\n",
    "\n",
    "#First, import the PyPDF2 module. \n",
    "#The total number of pages in the document is stored in the numPages attribute of a PdfFileReader object. \n",
    "#The example PDF has 19 pages, but let’s extract text from only the page5.\n",
    "\n",
    "#To extract text from a page, you need to get a Page object, which represents a single page of a PDF, \n",
    "#from a PdfFileReader object. You can get a Page object by calling the getPage() method  on a PdfFileReader object and \n",
    "#passing it the page number of the page you’re interested in—in our case, 4.As the numbering of the pages starts from 0.\n"
   ]
  },
  {
   "cell_type": "code",
   "execution_count": 4,
   "id": "ae1856df",
   "metadata": {},
   "outputs": [],
   "source": [
    "#3. What PdfFileReader variable stores the number of pages in the PDF document?\n",
    "\n",
    "#The 'PdfFileReader()' is an inbuilt function from the package 'PyPDF2'. \n",
    "#PdfFileReader variable 'numPages' will count the page numbers from the given PDF file. "
   ]
  },
  {
   "cell_type": "code",
   "execution_count": 5,
   "id": "2bb2bccd",
   "metadata": {},
   "outputs": [],
   "source": [
    "#4. If a PdfFileReader object’s PDF is encrypted with the password swordfish, what must you do \n",
    "#before you can obtain Page objects from it?\n",
    "\n",
    "#Some PDF documents have an encryption feature that will keep them from being read until whoever is opening the document \n",
    "#provides a password. \n",
    "\n",
    "#Enter the following into the interactive shell with the PDF you downloaded, which has been encrypted with the password \n",
    "#swordfish:\n",
    "\n",
    "\"\"\"import PyPDF2\n",
    "pdfReader = PyPDF2.PdfFileReader(open('encrypted.pdf', 'rb'))\n",
    "pdfReader.isEncrypted \n",
    "#returns true if file is encrypted.\n",
    "\n",
    "pdfReader.decrypt('swordfish') \n",
    "#To read an encrypted PDF, call the decrypt() function and pass the password as a string\n",
    "pageObj = pdfReader.getPage(0)\n",
    "#After you call decrypt() with the correct password, you’ll see that calling getPage() no longer causes an error.\"\"\""
   ]
  },
  {
   "cell_type": "code",
   "execution_count": null,
   "id": "92120830",
   "metadata": {},
   "outputs": [],
   "source": [
    "#5. What methods do you use to rotate a page?\n",
    "\n",
    "#The pages of a PDF can also be rotated in 90-degree increments with the rotateClockwise() and rotateCounterClockwise() methods. \n",
    "#Pass one of the integers 90, 180, or 270 to these methods.\n",
    "\n",
    "\"\"\"import PyPDF2\n",
    "minutesFile = open('meetingminutes.pdf', 'rb')\n",
    "pdfReader = PyPDF2.PdfFileReader(minutesFile)\n",
    "page = pdfReader.getPage(0)\n",
    "#getPage(0) to select the first page of the PDF\n",
    "page.rotateClockwise(90)\n",
    "#we call rotateClockwise(90) on that page \n"
   ]
  },
  {
   "cell_type": "code",
   "execution_count": 1,
   "id": "f10369ac",
   "metadata": {},
   "outputs": [],
   "source": [
    "#6. What is the difference between a Run object and a Paragraph object?\n",
    "\n",
    "#Run object and Paragraph objects are both text related objects.\n",
    "#For Word documents, there are three types of styles: Paragraph styles can be applied to Paragraph objects, \n",
    "#character styles can be applied to Run objects, and linked styles can be applied to both kinds of objects. \n",
    "\n",
    "\n",
    "#When using a linked style for a Run object, you will need to add 'Char' to the end of its name. \n",
    "#For example, to set the Quote linked style for a Paragraph object, \n",
    "#you would use paragraphObj.style = 'Quote', \n",
    "#but for a Run object, you would use runObj.style = 'QuoteChar'."
   ]
  },
  {
   "cell_type": "code",
   "execution_count": 47,
   "id": "2f061dc5",
   "metadata": {},
   "outputs": [
    {
     "data": {
      "text/plain": [
       "[<docx.text.paragraph.Paragraph at 0x18ea4478d60>,\n",
       " <docx.text.paragraph.Paragraph at 0x18ea4478fa0>]"
      ]
     },
     "execution_count": 47,
     "metadata": {},
     "output_type": "execute_result"
    }
   ],
   "source": [
    "#7. How do you obtain a list of Paragraph objects for a Document object that’s stored in a variable named doc?\n",
    "\n",
    "#!pip install python-docx\n",
    "import docx\n",
    "doco = open(\"helloworld2.docx\", 'rb')\n",
    "doc = docx.Document(doco)\n",
    "\n",
    "doc.add_paragraph('Hello world and bye!')\n",
    "#doc.save('helloworld2.docx')\n",
    "#opens the document\n",
    "doc.paragraphs \n",
    "#By using doc.paragraphs,we are using paragraph objects for  the document object stored in variable doc"
   ]
  },
  {
   "cell_type": "code",
   "execution_count": 14,
   "id": "68644026",
   "metadata": {},
   "outputs": [],
   "source": [
    "#8. What type of object has bold, underline, italic, strike, and outline variables?\n",
    "\n",
    "#1. A paragraph holds all the block-level formatting, like indentation, line height, tabs, and so forth.\n",
    "#2. Character-level formatting, such as bold and italic, are applied at the run level. "
   ]
  },
  {
   "cell_type": "code",
   "execution_count": 18,
   "id": "6f1a82b6",
   "metadata": {},
   "outputs": [],
   "source": [
    "#9. What is the difference between False, True, and None for the bold variable?\n",
    "\n",
    "#Bold and italic are tri-state properties,meaning they can take the values True, False, and None. \n",
    "#True means the property is “on”, False means it is “off”. Conceptually, the None value means “inherit”."
   ]
  },
  {
   "cell_type": "code",
   "execution_count": 19,
   "id": "146303ef",
   "metadata": {},
   "outputs": [],
   "source": [
    "#10. How do you create a Document object for a new Word document?\n",
    "\n",
    "#python-docx allows you to create new documents as well as make changes to existing ones. \n",
    "\n",
    "#docx.Document(docx=None)[source]\n",
    "#The above statement,Return a Document object loaded from docx, where docx can be either a path to a .docx file (a string) \n",
    "#or a file-like object. If docx is missing or None, the built-in default document “template” is loaded."
   ]
  },
  {
   "cell_type": "code",
   "execution_count": 25,
   "id": "99a3a3af",
   "metadata": {},
   "outputs": [
    {
     "name": "stdout",
     "output_type": "stream",
     "text": [
      "Requirement already satisfied: python-docx in c:\\users\\amdza\\anaconda3\\lib\\site-packages (0.8.11)\n",
      "Requirement already satisfied: lxml>=2.3.2 in c:\\users\\amdza\\anaconda3\\lib\\site-packages (from python-docx) (4.6.3)\n"
     ]
    }
   ],
   "source": [
    "#11. How do you add a paragraph with the text 'Hello, there!' to a Document object stored in a variable named doc?\n",
    "\n",
    "!pip install python-docx\n",
    "import docx\n",
    "doc = docx.Document()\n",
    "# Creating paragraph with some content\n",
    "para = doc.add_paragraph( '''Hello,there!''')\n",
    "doc.save('hellothere.docx')\n"
   ]
  },
  {
   "cell_type": "code",
   "execution_count": 26,
   "id": "ce8e2ef4",
   "metadata": {},
   "outputs": [],
   "source": [
    "#12. What integers represent the levels of headings available in Word documents?\n",
    "\n",
    "#Python docx module allows user to manipulate docs by either manipulating the existing one or creating a new empty document \n",
    "#and manipulating it. It is a powerful tool as it helps you to manipulate the document to a very large extend. \n",
    "#To add a title or heading we will use the inbuilt .add_heading() method of the document object.\n",
    "\n",
    "#When the level is set to 0, the string is printed as the title of the document. For all other values it prints a heading. \n",
    "#The size of heading decreases as the level increases. If no level is set, by default its value is always 1.\n",
    "\n",
    "#approach:\n",
    "#1.Import module\n",
    "#2.Declare docx object\n",
    "#3.Use add_heading() with appropriate parameters to add heading\n",
    "#4.Save doc file."
   ]
  }
 ],
 "metadata": {
  "kernelspec": {
   "display_name": "Python 3 (ipykernel)",
   "language": "python",
   "name": "python3"
  },
  "language_info": {
   "codemirror_mode": {
    "name": "ipython",
    "version": 3
   },
   "file_extension": ".py",
   "mimetype": "text/x-python",
   "name": "python",
   "nbconvert_exporter": "python",
   "pygments_lexer": "ipython3",
   "version": "3.9.7"
  }
 },
 "nbformat": 4,
 "nbformat_minor": 5
}
