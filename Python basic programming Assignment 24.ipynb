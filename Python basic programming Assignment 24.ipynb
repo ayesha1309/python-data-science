{
 "cells": [
  {
   "cell_type": "code",
   "execution_count": 14,
   "id": "e49d4e4e",
   "metadata": {},
   "outputs": [
    {
     "data": {
      "text/plain": [
       "[1, 2, 3, 40]"
      ]
     },
     "execution_count": 14,
     "metadata": {},
     "output_type": "execute_result"
    }
   ],
   "source": [
    "\"\"\"Question1\n",
    "Create a function that takes an integer and returns a list from 1 to the given number, where:\n",
    "1. If the number can be divided evenly by 4, amplify it by 10 (i.e. return 10 times the\n",
    "number).\n",
    "2. If the number cannot be divided evenly by 4, simply return the number.\n",
    "Examples\n",
    "amplify(4) ➞ [1, 2, 3, 40]\n",
    "amplify(3) ➞ [1, 2, 3]\n",
    "amplify(25) ➞ [1, 2, 3, 40, 5, 6, 7, 80, 9, 10, 11, 120, 13, 14, 15, 160,\n",
    "17, 18, 19, 200, 21, 22, 23, 240, 25]\n",
    "Notes\n",
    " The given integer will always be equal to or greater than 1.\n",
    " Include the number (see example above).\n",
    " To perform this problem with its intended purpose, try doing it with list\n",
    "comprehensions. If that's too difficult, just solve the challenge any way you can.\"\"\"\n",
    "\n",
    "def amplify(num):\n",
    "    x= [item for item in range(1, num+1)] # generates a list of numbers till the given number\n",
    "    y=[] #empty list to store the result\n",
    "    for i in range(1,len(x)+1):#check for every number in the list\n",
    "        if i%4!=0:\n",
    "            y.append(i)# if not multiple of 4 then just add elements to the list\n",
    "        else:\n",
    "            y.append(i*10)#if multiple of 4 , then amplify 10 times\n",
    "    return y\n",
    "\n",
    "amplify(4)"
   ]
  },
  {
   "cell_type": "code",
   "execution_count": 15,
   "id": "b1fcf956",
   "metadata": {},
   "outputs": [
    {
     "data": {
      "text/plain": [
       "[1, 2, 3]"
      ]
     },
     "execution_count": 15,
     "metadata": {},
     "output_type": "execute_result"
    }
   ],
   "source": [
    "amplify(3)"
   ]
  },
  {
   "cell_type": "code",
   "execution_count": 16,
   "id": "8f310195",
   "metadata": {},
   "outputs": [
    {
     "data": {
      "text/plain": [
       "[1,\n",
       " 2,\n",
       " 3,\n",
       " 40,\n",
       " 5,\n",
       " 6,\n",
       " 7,\n",
       " 80,\n",
       " 9,\n",
       " 10,\n",
       " 11,\n",
       " 120,\n",
       " 13,\n",
       " 14,\n",
       " 15,\n",
       " 160,\n",
       " 17,\n",
       " 18,\n",
       " 19,\n",
       " 200,\n",
       " 21,\n",
       " 22,\n",
       " 23,\n",
       " 240,\n",
       " 25]"
      ]
     },
     "execution_count": 16,
     "metadata": {},
     "output_type": "execute_result"
    }
   ],
   "source": [
    "amplify(25) "
   ]
  },
  {
   "cell_type": "code",
   "execution_count": 44,
   "id": "b962bac5",
   "metadata": {},
   "outputs": [
    {
     "data": {
      "text/plain": [
       "0.77"
      ]
     },
     "execution_count": 44,
     "metadata": {},
     "output_type": "execute_result"
    }
   ],
   "source": [
    "\"\"\"Question2\n",
    "Create a function that takes a list of numbers and return the number that's unique.\n",
    "\n",
    "Examples\n",
    "unique([3, 3, 3, 7, 3, 3]) ➞ 7\n",
    "unique([0, 0, 0.77, 0, 0]) ➞ 0.77\n",
    "unique([0, 1, 1, 1, 1, 1, 1, 1]) ➞ 0\n",
    "\n",
    "Notes\n",
    "Test cases will always have exactly one unique number while all others are the same.\"\"\"\n",
    "from collections import defaultdict\n",
    "def unique(list1):\n",
    "    n=len(list1)\n",
    "    mp = defaultdict(lambda: 0)\n",
    " \n",
    "    # Insert all array elements in hash table\n",
    "    for i in range(n):\n",
    "        mp[list1[i]] += 1\n",
    " \n",
    "    # Traverse array again and return\n",
    "    # first element with count 1.\n",
    "    for i in range(n):\n",
    "        if mp[list1[i]] == 1:\n",
    "            return list1[i]\n",
    "    return -1\n",
    "\n",
    "unique([0, 0, 0.77, 0, 0])"
   ]
  },
  {
   "cell_type": "code",
   "execution_count": 45,
   "id": "87352de9",
   "metadata": {},
   "outputs": [
    {
     "data": {
      "text/plain": [
       "7"
      ]
     },
     "execution_count": 45,
     "metadata": {},
     "output_type": "execute_result"
    }
   ],
   "source": [
    "unique([3, 3, 3, 7, 3, 3])"
   ]
  },
  {
   "cell_type": "code",
   "execution_count": 46,
   "id": "314d5eab",
   "metadata": {},
   "outputs": [
    {
     "data": {
      "text/plain": [
       "0"
      ]
     },
     "execution_count": 46,
     "metadata": {},
     "output_type": "execute_result"
    }
   ],
   "source": [
    "unique([0, 1, 1, 1, 1, 1, 1, 1])"
   ]
  },
  {
   "cell_type": "code",
   "execution_count": 13,
   "id": "f5477d39",
   "metadata": {},
   "outputs": [
    {
     "name": "stdout",
     "output_type": "stream",
     "text": [
      "380.1327110843649\n",
      "when the area is rounded to nearest integer it is 380\n"
     ]
    }
   ],
   "source": [
    "\"\"\"Question3\n",
    "\n",
    "Your task is to create a Circle constructor that creates a circle with a radius provided by an\n",
    "argument. The circles constructed must have two getters getArea() (PIr^2) and\n",
    "getPerimeter() (2PI*r) which give both respective areas and perimeter (circumference).\n",
    "\n",
    "For help with this class, I have provided you with a Rectangle constructor which you can use\n",
    "as a base example.\n",
    "\n",
    "Examples\n",
    "circy = Circle(11)\n",
    "circy.getArea()\n",
    "# Should return 380.132711084365\n",
    "circy = Circle(4.44)\n",
    "circy.getPerimeter()\n",
    "# Should return 27.897342763877365\n",
    "Notes\n",
    "Round results up to the nearest integer.\"\"\"\n",
    "\n",
    "from math import pi\n",
    "class Circle:\n",
    "    def __init__(self,r):\n",
    "        self.r = r\n",
    "        \n",
    "    def getarea(self):\n",
    "        area = pi*self.r*self.r\n",
    "        print (area)\n",
    "        print(\"when the area is rounded to nearest integer it is\", round(area))\n",
    "    \n",
    "    \n",
    "    def getPerimeter(self):\n",
    "        Perimeter = 2*pi*self.r\n",
    "        print (Perimeter)\n",
    "        print(\"when the Perimeter is rounded to nearest integer it is\", round(Perimeter))\n",
    "    \n",
    "        \n",
    "    \n",
    "circy = Circle(11)\n",
    "circy.getarea()"
   ]
  },
  {
   "cell_type": "code",
   "execution_count": 14,
   "id": "7ced30fb",
   "metadata": {},
   "outputs": [
    {
     "name": "stdout",
     "output_type": "stream",
     "text": [
      "27.897342763877365\n",
      "when the Perimeter is rounded to nearest integer it is 28\n"
     ]
    }
   ],
   "source": [
    "circy = Circle(4.44)\n",
    "circy.getPerimeter()"
   ]
  },
  {
   "cell_type": "code",
   "execution_count": 52,
   "id": "e4f0eb52",
   "metadata": {},
   "outputs": [
    {
     "data": {
      "text/plain": [
       "['Apple', 'Google', 'Microsoft']"
      ]
     },
     "execution_count": 52,
     "metadata": {},
     "output_type": "execute_result"
    }
   ],
   "source": [
    "\"\"\"Question4\n",
    "\n",
    "Create a function that takes a list of strings and return a list, sorted from shortest to longest.\n",
    "Examples\n",
    "\n",
    "sort_by_length([\"Google\", \"Apple\", \"Microsoft\"])➞ [\"Apple\", \"Google\", \"Microsoft\"]\n",
    "sort_by_length([\"Leonardo\", \"Michelangelo\", \"Raphael\", \"Donatello\"])➞ [\"Raphael\", \"Leonardo\", \"Donatello\", \"Michelangelo\"]\n",
    "sort_by_length([\"Turing\",\"Einstein\", \"Jung\"])➞ [\"Jung\", \"Turing\", \"Einstein\"]\n",
    "\n",
    "Notes\n",
    "All test cases contain lists with strings of different lengths, so you won&#39;t have to deal with\n",
    "multiple strings of the same length.\"\"\"\n",
    "\n",
    "\n",
    "# Python code to sort a list by creating \n",
    "# another list Use of sorted()\n",
    "def sort_by_length(lst):\n",
    "    lst2 = sorted(lst, key=len)# a function to sort by specifying the criteria \n",
    "    return lst2\n",
    "\n",
    "sort_by_length([\"Google\", \"Apple\", \"Microsoft\"])"
   ]
  },
  {
   "cell_type": "code",
   "execution_count": 50,
   "id": "5726ff8e",
   "metadata": {},
   "outputs": [
    {
     "data": {
      "text/plain": [
       "['Raphael', 'Leonardo', 'Donatello', 'Michelangelo']"
      ]
     },
     "execution_count": 50,
     "metadata": {},
     "output_type": "execute_result"
    }
   ],
   "source": [
    "sort_by_length([\"Leonardo\", \"Michelangelo\", \"Raphael\", \"Donatello\"])"
   ]
  },
  {
   "cell_type": "code",
   "execution_count": 51,
   "id": "7ef44073",
   "metadata": {},
   "outputs": [
    {
     "data": {
      "text/plain": [
       "['Jung', 'Turing', 'Einstein']"
      ]
     },
     "execution_count": 51,
     "metadata": {},
     "output_type": "execute_result"
    }
   ],
   "source": [
    "sort_by_length([\"Turing\",\"Einstein\", \"Jung\"])"
   ]
  },
  {
   "cell_type": "code",
   "execution_count": 61,
   "id": "f3d07fcb",
   "metadata": {},
   "outputs": [
    {
     "data": {
      "text/plain": [
       "False"
      ]
     },
     "execution_count": 61,
     "metadata": {},
     "output_type": "execute_result"
    }
   ],
   "source": [
    "\"\"\"Question5\n",
    "\n",
    "Create a function that validates whether three given integers form a Pythagorean triplet. The\n",
    "sum of the squares of the two smallest integers must equal the square of the largest number to\n",
    "be validated.\n",
    "\n",
    "Examples\n",
    "is_triplet(3, 4, 5) ➞ True\n",
    "# 3² + 4² = 25\n",
    "# 5² = 25\n",
    "is_triplet(13, 5, 12) ➞ True\n",
    "# 5² + 12² = 169\n",
    "# 13² = 169\n",
    "is_triplet(1, 2, 3) ➞ False\n",
    "# 1² + 2² = 5\n",
    "# 3² = 9\n",
    "Notes\n",
    "Numbers may not be given in a sorted order.\"\"\"\n",
    "\n",
    "def is_triplet(a,b,c):\n",
    "    d= a*a\n",
    "    e= b*b\n",
    "    f= c*c\n",
    "    lst = []\n",
    "    lst.append(d)\n",
    "    lst.append(e)\n",
    "    lst.append(f)\n",
    "    lst.sort()\n",
    "    i=0\n",
    "    x= lst[i]+lst[i+1]\n",
    "    y=lst[i+2]\n",
    "    if x==y:\n",
    "        return True\n",
    "    else:\n",
    "        return False\n",
    "    \n",
    "\n",
    "is_triplet(1, 2, 3)"
   ]
  },
  {
   "cell_type": "code",
   "execution_count": 62,
   "id": "817de72b",
   "metadata": {},
   "outputs": [
    {
     "data": {
      "text/plain": [
       "True"
      ]
     },
     "execution_count": 62,
     "metadata": {},
     "output_type": "execute_result"
    }
   ],
   "source": [
    "is_triplet(13, 5, 12)"
   ]
  },
  {
   "cell_type": "code",
   "execution_count": 63,
   "id": "dc277022",
   "metadata": {},
   "outputs": [
    {
     "data": {
      "text/plain": [
       "True"
      ]
     },
     "execution_count": 63,
     "metadata": {},
     "output_type": "execute_result"
    }
   ],
   "source": [
    "is_triplet(3, 4, 5)"
   ]
  }
 ],
 "metadata": {
  "kernelspec": {
   "display_name": "Python 3 (ipykernel)",
   "language": "python",
   "name": "python3"
  },
  "language_info": {
   "codemirror_mode": {
    "name": "ipython",
    "version": 3
   },
   "file_extension": ".py",
   "mimetype": "text/x-python",
   "name": "python",
   "nbconvert_exporter": "python",
   "pygments_lexer": "ipython3",
   "version": "3.9.7"
  }
 },
 "nbformat": 4,
 "nbformat_minor": 5
}
