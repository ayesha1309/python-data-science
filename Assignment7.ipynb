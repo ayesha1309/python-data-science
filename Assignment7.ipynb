{
 "cells": [
  {
   "cell_type": "code",
   "execution_count": 10,
   "id": "6fac7a1b",
   "metadata": {},
   "outputs": [],
   "source": [
    "#1. What is the name of the feature responsible for generating Regex objects?\n",
    "\n",
    "#Regex objects are generated when we import the module re and use the functions and packages of the same module.\n",
    "\n",
    "#A regex is a sequence of characters that defines a search pattern, used mainly for performing find and \n",
    "#replace operations in search engines and text processors.\n",
    "\n",
    "#Python offers regex capabilities through the re module bundled as a part of the standard library.\n"
   ]
  },
  {
   "cell_type": "code",
   "execution_count": 11,
   "id": "76513255",
   "metadata": {},
   "outputs": [
    {
     "name": "stdout",
     "output_type": "stream",
     "text": [
      "Normal string: \n",
      "\t\tHello!\n",
      "\t\tHow are you?\n",
      "Raw string: \\n\\tHello!\\n\\tHow are you?\n"
     ]
    }
   ],
   "source": [
    "#2. Why do raw strings often appear in Regex objects?\n",
    "\n",
    "#The difference between a normal string and a raw string is that the normal string in print() function translates \n",
    "#escape characters(such as \\n, \\t etc.) if any, while those in a raw string are not translated.\n",
    "\n",
    "#Example\n",
    "\n",
    "import re\n",
    "str1 = \"\\n\\t\\tHello!\\n\\t\\tHow are you?\"\n",
    "print(\"Normal string:\", str1)\n",
    "str2 = r\"\\n\\tHello!\\n\\tHow are you?\"\n",
    "print(\"Raw string:\",str2) "
   ]
  },
  {
   "cell_type": "code",
   "execution_count": 15,
   "id": "533c89f0",
   "metadata": {},
   "outputs": [
    {
     "name": "stdout",
     "output_type": "stream",
     "text": [
      "None\n",
      "<re.Match object; span=(4, 8), match='rain'>\n"
     ]
    }
   ],
   "source": [
    "#3. What is the return value of the search() method?\n",
    "\n",
    "#The re.search() function searches for a specified pattern anywhere in the given string and \n",
    "#stops the search on the first occurrence.\n",
    "\n",
    "#search() function also returns the Match object with start and end attributes. \n",
    "#It also gives a group of characters of which the pattern is a part of.\n",
    "\n",
    "import re\n",
    "\n",
    "txt = \"The rain in Spain\"\n",
    "x = re.search(\"Portugal\", txt)\n",
    "print(x)\n",
    "y = re.search(\"rain\",txt)\n",
    "print(y)"
   ]
  },
  {
   "cell_type": "code",
   "execution_count": 33,
   "id": "ff901fee",
   "metadata": {},
   "outputs": [
    {
     "name": "stdout",
     "output_type": "stream",
     "text": [
      "Full match: I am a python learner\n"
     ]
    }
   ],
   "source": [
    "#4. From a Match item, how do you get the actual strings that match the pattern?\n",
    "\n",
    "\"\"\"From a Match item, we can get the actual strings that match the pattern, \n",
    "the following is a sample code used to achieve the same\"\"\"\n",
    "    \n",
    "\n",
    "# A Python program to demonstrate working of re.match(). Using match.group(0) always returns the complete matched group.\n",
    "\n",
    "import re \n",
    "\n",
    "regex = r\"(I am a python learner)\"\n",
    "\n",
    "match = re.search(regex, \" I love python.I am a student of ineuron.I have enrolled in fullstack data science program,I am a python learner\")\n",
    "if match != None:\n",
    "    print (\"Full match: %s\" % (match.group(0)))\n",
    "else:\n",
    "    print (\"The regex pattern does not match.\")\n",
    "    \n",
    "   \n",
    "    \n",
    "    \n"
   ]
  },
  {
   "cell_type": "code",
   "execution_count": 39,
   "id": "e0d9dc76",
   "metadata": {},
   "outputs": [
    {
     "data": {
      "text/plain": [
       "'123-324-4567'"
      ]
     },
     "execution_count": 39,
     "metadata": {},
     "output_type": "execute_result"
    }
   ],
   "source": [
    "#5. In the regex which created from the r\"(\\d\\d\\d)-(\\d\\d\\d-\\d\\d\\d\\d)\" what does group zero cover? Group 2? Group 1?\n",
    "\n",
    "import re\n",
    "var =re.compile(r'(\\d\\d\\d)-(\\d\\d\\d-\\d\\d\\d\\d)')\n",
    "#var contains the regex object\n",
    "\n",
    "m=var.search('my number is 123-324-4567')\n",
    "#Run search() on your object\n",
    "\n",
    "m.group(0) \n",
    "#group 0 covers the whole number stored in the var object\n"
   ]
  },
  {
   "cell_type": "code",
   "execution_count": 40,
   "id": "9ca67489",
   "metadata": {},
   "outputs": [
    {
     "data": {
      "text/plain": [
       "'123'"
      ]
     },
     "execution_count": 40,
     "metadata": {},
     "output_type": "execute_result"
    }
   ],
   "source": [
    "\n",
    "m.group(1)\n",
    "\n",
    "#group1 covers the first group of parentheses from left to right"
   ]
  },
  {
   "cell_type": "code",
   "execution_count": 41,
   "id": "f1d26008",
   "metadata": {},
   "outputs": [
    {
     "data": {
      "text/plain": [
       "'324-4567'"
      ]
     },
     "execution_count": 41,
     "metadata": {},
     "output_type": "execute_result"
    }
   ],
   "source": [
    "m.group(2)\n",
    "\n",
    "#group2 covers the second group of parentheses from left to right"
   ]
  },
  {
   "cell_type": "code",
   "execution_count": 47,
   "id": "6bc9784a",
   "metadata": {},
   "outputs": [
    {
     "data": {
      "text/plain": [
       "'functions()'"
      ]
     },
     "execution_count": 47,
     "metadata": {},
     "output_type": "execute_result"
    }
   ],
   "source": [
    "#6. In standard expression syntax, parentheses and intervals have distinct meanings. How can you tell\n",
    "#a regex that you want it to fit real parentheses and periods?\n",
    "\n",
    "#For a regex that wants to fit real parantheses and periods has to be enclosed with a \\in a regex expression.\n",
    "\n",
    "import re\n",
    "string = \"I love books.I love functions() in programming\"\n",
    "result= re.search(r'functions\\(\\)',string)\n",
    "result.group()"
   ]
  },
  {
   "cell_type": "code",
   "execution_count": 51,
   "id": "2d786bcf",
   "metadata": {},
   "outputs": [
    {
     "data": {
      "text/plain": [
       "'books.'"
      ]
     },
     "execution_count": 51,
     "metadata": {},
     "output_type": "execute_result"
    }
   ],
   "source": [
    "import re\n",
    "string = \"I love books.I love functions() in programming\"\n",
    "result= re.search(r'books[.]',string)\n",
    "result.group()"
   ]
  },
  {
   "cell_type": "code",
   "execution_count": 52,
   "id": "aabee431",
   "metadata": {},
   "outputs": [
    {
     "name": "stdout",
     "output_type": "stream",
     "text": [
      "['black', 'blue']\n"
     ]
    }
   ],
   "source": [
    "#7. The findall() method returns a string list or a list of string tuples. What causes it to return one of the two options?\n",
    "\n",
    "#If the pattern has one capturing group, the findall() function returns a list of strings that match the group.\n",
    "\n",
    "import re\n",
    "\n",
    "s = \"black, blue and brown\"\n",
    "\n",
    "#uses findall() to get a list of string from s \n",
    "pattern = r'bl\\w+' \n",
    "#variable pattern gets saved with bl as beginning letters and w+ means word characters followed by the same\n",
    "matches = re.findall(pattern,s)\n",
    "\n",
    "print(matches)"
   ]
  },
  {
   "cell_type": "code",
   "execution_count": 53,
   "id": "288fe35e",
   "metadata": {},
   "outputs": [
    {
     "name": "stdout",
     "output_type": "stream",
     "text": [
      "[('black', 'ack'), ('blue', 'ue')]\n"
     ]
    }
   ],
   "source": [
    "#If the pattern has multiple capturing groups, the findall() function returns the tuples of strings that match the groups.\n",
    "\n",
    "import re\n",
    "\n",
    "s = \"black, blue and brown\"\n",
    "#uses findall() to get a list of string from s \n",
    "pattern = r'(bl(\\w+))'\n",
    "#variable pattern gets saved \n",
    "#(\\w+) captures one or more word characters.\n",
    "#(bl(\\w+)) captures the whole match.\n",
    "matches = re.findall(pattern,s)\n",
    "print(matches)"
   ]
  },
  {
   "cell_type": "code",
   "execution_count": 54,
   "id": "0545c0f9",
   "metadata": {},
   "outputs": [
    {
     "name": "stdout",
     "output_type": "stream",
     "text": [
      "['falls']\n",
      "Yes, there is at least one match!\n"
     ]
    }
   ],
   "source": [
    "#8. In standard expressions, what does the | character mean?\n",
    "\n",
    "#In standard expressions, the | character mean either or\n",
    "\n",
    "import re\n",
    "\n",
    "txt = \"The rain in Spain falls mainly in the plain!\"\n",
    "\n",
    "#Check if the string contains either \"falls\" or \"stays\":\n",
    "\n",
    "x = re.findall(\"falls|stays\", txt)\n",
    "\n",
    "print(x)\n",
    "\n",
    "if x:\n",
    "  print(\"Yes, there is at least one match!\")\n",
    "else:\n",
    "  print(\"No match\")\n"
   ]
  },
  {
   "cell_type": "code",
   "execution_count": 2,
   "id": "a7735532",
   "metadata": {},
   "outputs": [],
   "source": [
    "#9. In regular expressions, what does the character stand for?\n",
    "\n",
    "#In regular expressions, a character class allows one to define a custom set of characters that are allowed in a match. \n",
    "#It is written by enclosing the allowed characters with square brackets e.g. [abc].\n",
    "#A negated character class denoted by [^…] can be used to match any character except those specified between the square brackets.\n",
    "\n",
    "#A character class allows one to specify a specific set (or class) of characters that are allowed at a particular location within a match. \n",
    "#The set of characters is enclosed by an opening [ and closing ] square bracket.\n",
    "\n",
    "#/[abcde]/\n",
    "\n",
    "#The expression above will match a single occurrence of the letters a to e. \n",
    "#It basically works like a large OR expression, i.e. match either a, b, c, d, or e at this specific location.\n"
   ]
  },
  {
   "cell_type": "code",
   "execution_count": 3,
   "id": "09ac0517",
   "metadata": {},
   "outputs": [
    {
     "name": "stdout",
     "output_type": "stream",
     "text": [
      "['hello solarsystem, the earth is so big and ro']\n"
     ]
    }
   ],
   "source": [
    "#10.In regular expressions, what is the difference between the + and * characters?\n",
    "\n",
    "#In regular expressions, the difference between the + and * characters, One or more occurrences is denoted using a +.\n",
    "\n",
    "import re\n",
    "\n",
    "txt = \"hello solarsystem, the earth is so big and round.\"\n",
    "\n",
    "#Search for a sequence that starts with \"he\", followed by 1 or more  (any) characters, and an \"o\":\n",
    "\n",
    "x = re.findall(\"he.+o\", txt)\n",
    "\n",
    "print(x)"
   ]
  },
  {
   "cell_type": "code",
   "execution_count": 6,
   "id": "5e911b66",
   "metadata": {},
   "outputs": [
    {
     "name": "stdout",
     "output_type": "stream",
     "text": [
      "['hello solarsystem, the earth is s']\n"
     ]
    }
   ],
   "source": [
    "#zero or more occurences is denoted by *\n",
    "\n",
    "import re\n",
    "\n",
    "txt = \"hello solarsystem, the earth is so big and round.\"\n",
    "\n",
    "#Search for a sequence that starts with \"he\", followed by 0 or more  (any) characters, and an \"o\":\n",
    "\n",
    "x = re.findall(\"he.*s\", txt)\n",
    "\n",
    "print(x)\n"
   ]
  },
  {
   "cell_type": "code",
   "execution_count": 13,
   "id": "265e790d",
   "metadata": {},
   "outputs": [
    {
     "name": "stdout",
     "output_type": "stream",
     "text": [
      "['herpdbo']\n"
     ]
    }
   ],
   "source": [
    "#11. What is the difference between {4} and {4,5} in regular expression?\n",
    "\n",
    "#Consider this code: {n,m}. \n",
    "\n",
    "#{4} This means at least 4 repetations, \n",
    "\n",
    "import re\n",
    "\n",
    "txt = \"heltlo herpdboes\"\n",
    "\n",
    "#Search for a sequence that starts with \"he\", followed excactly 2 (any) characters, and an \"o\":\n",
    "\n",
    "x = re.findall(\"he.{4}o\", txt)\n",
    "\n",
    "print(x)\n",
    "\n"
   ]
  },
  {
   "cell_type": "code",
   "execution_count": 15,
   "id": "e19c39ea",
   "metadata": {},
   "outputs": [
    {
     "name": "stdout",
     "output_type": "stream",
     "text": [
      "['helhdso', 'hedfgtho']\n"
     ]
    }
   ],
   "source": [
    "#{4,5} atleast 4 repetations and at most 5 repetitions of the pattern left to it.\n",
    "\n",
    "import re\n",
    "\n",
    "txt = \"helhdso hedfgtho hefgjdggdtdto \"\n",
    "\n",
    "#Search for a sequence that starts with \"he\", followed excactly 2 (any) characters, and an \"o\":\n",
    "\n",
    "x = re.findall(\"he.{4,5}o\", txt)\n",
    "\n",
    "print(x)\n",
    "\n"
   ]
  },
  {
   "cell_type": "code",
   "execution_count": 16,
   "id": "e7ee4edd",
   "metadata": {},
   "outputs": [
    {
     "name": "stdout",
     "output_type": "stream",
     "text": [
      "['2', '5']\n",
      "Yes, there is at least one match!\n"
     ]
    }
   ],
   "source": [
    "#12. What do you mean by the \\d, \\w, and \\s shorthand character classes signify in regular expressions?\n",
    "\n",
    "# \\d  shorthand character classes signify in regular expressions,\n",
    "# Returns a match where the string contains digits (numbers from 0-9)\n",
    "\n",
    "\n",
    "import re\n",
    "\n",
    "txt = \"The rain in Spain is always there on dec25\"\n",
    "\n",
    "#Check if the string contains any digits (numbers from 0-9):\n",
    "\n",
    "x = re.findall(\"\\d\", txt)\n",
    "\n",
    "print(x)\n",
    "\n",
    "if x:\n",
    "  print(\"Yes, there is at least one match!\")\n",
    "else:\n",
    "  print(\"No match\")"
   ]
  },
  {
   "cell_type": "code",
   "execution_count": 17,
   "id": "90633738",
   "metadata": {},
   "outputs": [
    {
     "name": "stdout",
     "output_type": "stream",
     "text": [
      "['T', 'h', 'e', 'r', 'a', 'i', 'n', 'i', 'n', 'S', 'p', 'a', 'i', 'n']\n",
      "Yes, there is at least one match!\n"
     ]
    }
   ],
   "source": [
    "# \\w Returns a match where the string contains any word characters \n",
    "#(characters from a to Z, digits from 0-9, and the underscore _ character)\n",
    "\n",
    "import re\n",
    "\n",
    "txt = \"The rain in Spain\"\n",
    "\n",
    "#Return a match at every word character (characters from a to Z, digits from 0-9, and the underscore _ character):\n",
    "\n",
    "x = re.findall(\"\\w\", txt)\n",
    "\n",
    "print(x)\n",
    "\n",
    "if x:\n",
    "  print(\"Yes, there is at least one match!\")\n",
    "else:\n",
    "  print(\"No match\")"
   ]
  },
  {
   "cell_type": "code",
   "execution_count": 18,
   "id": "c66b5e55",
   "metadata": {},
   "outputs": [
    {
     "name": "stdout",
     "output_type": "stream",
     "text": [
      "[' ', ' ', ' ']\n",
      "Yes, there is at least one match!\n"
     ]
    }
   ],
   "source": [
    "#  \\s  Returns a match where the string contains a white space character.\n",
    "\n",
    "import re\n",
    "\n",
    "txt = \"The rain in Spain\"\n",
    "\n",
    "#Return a match at every white-space character:\n",
    "\n",
    "x = re.findall(\"\\s\", txt)\n",
    "\n",
    "print(x)\n",
    "\n",
    "if x:\n",
    "  print(\"Yes, there is at least one match!\")\n",
    "else:\n",
    "  print(\"No match\")\n"
   ]
  },
  {
   "cell_type": "code",
   "execution_count": 19,
   "id": "98591981",
   "metadata": {},
   "outputs": [
    {
     "name": "stdout",
     "output_type": "stream",
     "text": [
      "['T', 'h', 'e', ' ', 'r', 'a', 'i', 'n', ' ', 'i', 'n', ' ', 'S', 'p', 'a', 'i', 'n']\n",
      "Yes, there is at least one match!\n"
     ]
    }
   ],
   "source": [
    "# 13. What do means by \\D, \\W, and \\S shorthand character classes signify in regular expressions?\n",
    "\n",
    "#\\D shorthand character classes signify in regular expressions.Returns a match where the string DOES NOT contain digits\n",
    "\n",
    "import re\n",
    "\n",
    "txt = \"The rain in Spain\"\n",
    "\n",
    "#Return a match at every no-digit character:\n",
    "\n",
    "x = re.findall(\"\\D\", txt)\n",
    "\n",
    "print(x)\n",
    "\n",
    "if x:\n",
    "  print(\"Yes, there is at least one match!\")\n",
    "else:\n",
    "  print(\"No match\")"
   ]
  },
  {
   "cell_type": "code",
   "execution_count": 20,
   "id": "ba4b789a",
   "metadata": {},
   "outputs": [
    {
     "name": "stdout",
     "output_type": "stream",
     "text": [
      "[' ', ' ', ' ']\n",
      "Yes, there is at least one match!\n"
     ]
    }
   ],
   "source": [
    "#\\W Returns a match where the string DOES NOT contain any word characters\n",
    "\n",
    "import re\n",
    "\n",
    "txt = \"The rain in Spain\"\n",
    "\n",
    "#Return a match at every NON word character (characters NOT between a and Z. Like \"!\", \"?\" white-space etc.):\n",
    "\n",
    "x = re.findall(\"\\W\", txt)\n",
    "\n",
    "print(x)\n",
    "\n",
    "if x:\n",
    "  print(\"Yes, there is at least one match!\")\n",
    "else:\n",
    "  print(\"No match\")"
   ]
  },
  {
   "cell_type": "code",
   "execution_count": 21,
   "id": "a97acd47",
   "metadata": {},
   "outputs": [
    {
     "name": "stdout",
     "output_type": "stream",
     "text": [
      "['T', 'h', 'e', 'r', 'a', 'i', 'n', 'i', 'n', 'S', 'p', 'a', 'i', 'n']\n",
      "Yes, there is at least one match!\n"
     ]
    }
   ],
   "source": [
    "# \\S Returns a match where the string DOES NOT contain a white space character\n",
    "\n",
    "import re\n",
    "\n",
    "txt = \"The rain in Spain\"\n",
    "\n",
    "#Return a match at every NON white-space character:\n",
    "\n",
    "x = re.findall(\"\\S\", txt)\n",
    "\n",
    "print(x)\n",
    "\n",
    "if x:\n",
    "  print(\"Yes, there is at least one match!\")\n",
    "else:\n",
    "  print(\"No match\")"
   ]
  },
  {
   "cell_type": "code",
   "execution_count": 22,
   "id": "76c5e46a",
   "metadata": {},
   "outputs": [],
   "source": [
    "#14. What is the difference between .*? and .*?\n",
    " \n",
    "    #I could not see any difference in the .*? and .*?\n"
   ]
  },
  {
   "cell_type": "code",
   "execution_count": 55,
   "id": "f6ef1ef3",
   "metadata": {},
   "outputs": [
    {
     "name": "stdout",
     "output_type": "stream",
     "text": [
      "[' my', ' kids', ' were', ' march23', ' and', ' april05']\n"
     ]
    }
   ],
   "source": [
    "#15. What is the syntax for matching both numbers and lowercase letters with a character class?\n",
    "\n",
    "import re\n",
    "string = \" my kids were Born On march23 and april05\"\n",
    " \n",
    "# the re.findall() method\n",
    "result = re.findall(r\"\\s[^A-Z][a-z]*\\d*\", string)\n",
    " \n",
    "print(result)\n"
   ]
  },
  {
   "cell_type": "code",
   "execution_count": 56,
   "id": "f9a40454",
   "metadata": {},
   "outputs": [
    {
     "data": {
      "text/plain": [
       "['The', 'the', 'tHe']"
      ]
     },
     "execution_count": 56,
     "metadata": {},
     "output_type": "execute_result"
    }
   ],
   "source": [
    "#16. What is the procedure for making a normal expression in regax case insensitive?\n",
    "\n",
    "#Case insensitive means that the text should be considered equal in lowercase and uppercase. \n",
    "# We need to apply case-insensitive searches in our daily lives very often.\n",
    "\n",
    "\n",
    "#The procedure for making a normal expression in regax case insensitive is 2 ways.\n",
    "#1.Match a String Using the Case Insensitive re.IGNORECASE Flag in Python,\n",
    "#The re.IGNORECASE flag, which is used above, can also be written as re.I. \n",
    "#This re.I flag is also used to search a case insensitive pattern within a text.\n",
    "\n",
    "import re\n",
    "re.findall('the', 'The sources informed the police of tHe thieves.', re.IGNORECASE)\n"
   ]
  },
  {
   "cell_type": "code",
   "execution_count": 57,
   "id": "55180767",
   "metadata": {},
   "outputs": [
    {
     "data": {
      "text/plain": [
       "['The', 'the', 'tHe']"
      ]
     },
     "execution_count": 57,
     "metadata": {},
     "output_type": "execute_result"
    }
   ],
   "source": [
    "import re\n",
    "re.findall('the', 'The sources informed the police of tHe thieves.', re.I)"
   ]
  },
  {
   "cell_type": "code",
   "execution_count": 58,
   "id": "475e0e52",
   "metadata": {},
   "outputs": [
    {
     "data": {
      "text/plain": [
       "['Let', 'let', 'let']"
      ]
     },
     "execution_count": 58,
     "metadata": {},
     "output_type": "execute_result"
    }
   ],
   "source": [
    "#2.Match a String Using the Case Insensitive Marker (?i) in Python.\n",
    "\n",
    "import re\n",
    "text = \"Let it rain, let it snow, let it do!\"\n",
    "re.findall('(?i)LEt' , text)"
   ]
  },
  {
   "cell_type": "code",
   "execution_count": 111,
   "id": "f5ff0636",
   "metadata": {},
   "outputs": [
    {
     "name": "stdout",
     "output_type": "stream",
     "text": [
      "[]\n"
     ]
    }
   ],
   "source": [
    "#17. What does the . character normally match? What does it match if re.DOTALL is passed as 2nd argument in re.compile()?\n",
    "\n",
    "#The ‘.’ special character in Python matches with any character excluding the new line, \n",
    "#but using DOTALL flag in python we can extend its functionality.\n",
    "#With the help of DOTALL flag the ‘.’ character can match any character including newline.\n",
    "\n",
    "import re\n",
    "str =\"I love python.I love to be a python learner\"\n",
    "x= re.compile(r\"[A-Z][a-z].*\")\n",
    "result = x.findall(str)\n",
    "print(result)\n"
   ]
  },
  {
   "cell_type": "code",
   "execution_count": 112,
   "id": "385455ce",
   "metadata": {},
   "outputs": [
    {
     "name": "stdout",
     "output_type": "stream",
     "text": [
      "['I love python.I love to be a python learner']\n"
     ]
    }
   ],
   "source": [
    "import re\n",
    "str =\"I love python.I love to be a python learner\"\n",
    "x= re.compile(r\"[A-Z a-z].*\",re.DOTALL)\n",
    "result = x.findall(str)\n",
    "print(result)\n"
   ]
  },
  {
   "cell_type": "code",
   "execution_count": 114,
   "id": "d32b9b33",
   "metadata": {},
   "outputs": [
    {
     "name": "stdout",
     "output_type": "stream",
     "text": [
      "X drummers, X pipers, five rings, X hen\n"
     ]
    }
   ],
   "source": [
    "#18. If numReg = re.compile(r'\\d+'), what will numRegex.sub('X', '11 drummers, 10 pipers, five rings, 4hen') return?\n",
    "\n",
    "import re\n",
    "\n",
    "numRegex = re.compile(r'\\d+')\n",
    "result = numRegex.sub('X', '11 drummers, 10 pipers, five rings, 4 hen')\n",
    "\n",
    "# Python regex sub() function that returns a string after replacing the matched pattern in a string with a replacement.\n",
    "print(result)"
   ]
  },
  {
   "cell_type": "code",
   "execution_count": 115,
   "id": "667e3e44",
   "metadata": {},
   "outputs": [],
   "source": [
    "#19. What does passing re.VERBOSE as the 2nd argument to re.compile() allow to do?\n",
    "\n",
    "\"\"\"re.VERBOSE : This flag allows you to write regular expressions that look nicer \n",
    "and are more readable by allowing you to visually separate logical sections of the pattern and add comments.\n",
    "\n",
    "Whitespace within the pattern is ignored, except when in a character class, \n",
    "or when preceded by an unescaped backslash, or within tokens like *?, (?: or (?P. \n",
    "When a line contains a # that is not in a character class and is not preceded by an unescaped backslash, \n",
    "all characters from the leftmost such # through the end of the line are ignored.\"\"\"\n",
    "\n",
    "# Without Using VERBOSE\n",
    "regex_email = re.compile(r'^([a-z0-9_\\.-]+)@([0-9a-z\\.-]+)\\.([a-z\\.]{2, 6})$',\n",
    "              re.IGNORECASE)\n",
    "   \n",
    "# Using VERBOSE\n",
    "regex_email = re.compile(r\"\"\"\n",
    "            ^([a-z0-9_\\.-]+)              # local Part\n",
    "            @                             # single @ sign\n",
    "            ([0-9a-z\\.-]+)                # Domain name\n",
    "            \\.                            # single Dot .\n",
    "            ([a-z]{2,6})$                 # Top level Domain  \n",
    "             \"\"\",re.VERBOSE | re.IGNORECASE) "
   ]
  },
  {
   "cell_type": "code",
   "execution_count": 143,
   "id": "ec71255f",
   "metadata": {},
   "outputs": [],
   "source": [
    "#20. How would you write a regex that match a number with comma for every three digits? It must match the given following:\n",
    "    \n",
    " #   '42'\n",
    "#'1,234'\n",
    "#'6,368,745'\n",
    "\n",
    "# but not the following:\n",
    "#'12,34,567' (which has only two digits between the commas)\n",
    "#'1234' (which lacks commas)\n",
    "\n",
    "import re\n",
    "def input_int(n):\n",
    "    result = r'(\\d{1,3}(,\\d{3})*)'\n",
    "    if re.fullmatch(result,n):\n",
    "        print(\"integer valid\")\n",
    "    else:\n",
    "        print(\"integer invalid\")"
   ]
  },
  {
   "cell_type": "code",
   "execution_count": 144,
   "id": "faad46f2",
   "metadata": {},
   "outputs": [
    {
     "name": "stdout",
     "output_type": "stream",
     "text": [
      "integer invalid\n"
     ]
    }
   ],
   "source": [
    "input_int('12,34,567')"
   ]
  },
  {
   "cell_type": "code",
   "execution_count": 145,
   "id": "9326488b",
   "metadata": {},
   "outputs": [
    {
     "name": "stdout",
     "output_type": "stream",
     "text": [
      "integer valid\n"
     ]
    }
   ],
   "source": [
    "input_int('1,254')"
   ]
  },
  {
   "cell_type": "code",
   "execution_count": 146,
   "id": "f11b3b5b",
   "metadata": {},
   "outputs": [
    {
     "name": "stdout",
     "output_type": "stream",
     "text": [
      "integer valid\n"
     ]
    }
   ],
   "source": [
    "input_int('6,368,745')"
   ]
  },
  {
   "cell_type": "code",
   "execution_count": 147,
   "id": "57e8b2f1",
   "metadata": {},
   "outputs": [
    {
     "name": "stdout",
     "output_type": "stream",
     "text": [
      "integer invalid\n"
     ]
    }
   ],
   "source": [
    "input_int('6,368,74')"
   ]
  },
  {
   "cell_type": "code",
   "execution_count": 149,
   "id": "280d1df3",
   "metadata": {},
   "outputs": [
    {
     "name": "stdout",
     "output_type": "stream",
     "text": [
      "integer invalid\n"
     ]
    }
   ],
   "source": [
    "input_int('1234')"
   ]
  },
  {
   "cell_type": "code",
   "execution_count": 148,
   "id": "e3d5529e",
   "metadata": {},
   "outputs": [
    {
     "name": "stdout",
     "output_type": "stream",
     "text": [
      "integer valid\n"
     ]
    }
   ],
   "source": [
    "input_int('42')"
   ]
  },
  {
   "cell_type": "code",
   "execution_count": 217,
   "id": "0eb2e73a",
   "metadata": {},
   "outputs": [],
   "source": [
    "\"\"\"\"21. How would you write a regex that matches the full name of someone whose last name is\n",
    "Watanabe? You can assume that the first name that comes before it will always be one word that\n",
    "begins with a capital letter. The regex must match the following:\n",
    "\"Haruto Watanabe\"\n",
    "\"Alice Watanabe\"\n",
    "\"RoboCop Watanabe\"\n",
    "but not the following:\n",
    "\"haruto Watanabe\" (where the first name is not capitalized)\n",
    "\"Mr. Watanabe\"(where the preceding word has a nonletter character)\n",
    "\"Watanabe\" (which has no first name)\n",
    "\"Haruto watanabe\" (where Watanabe is not capitalized)\"\"\"\n",
    "\n",
    "import re\n",
    "\n",
    "def validate_name(input):\n",
    "    result = re.compile(r\"^([A-Z])\\w+ Watanabe$\")\n",
    "    res = result.match(input)\n",
    "   # If match is found, the string is valid\n",
    "    if res:\n",
    "        print(\"Valid\")\n",
    "          \n",
    "    # If match is not found, string is invalid\n",
    "    else:\n",
    "        print(\"Invalid\")"
   ]
  },
  {
   "cell_type": "code",
   "execution_count": 219,
   "id": "630dcade",
   "metadata": {},
   "outputs": [
    {
     "name": "stdout",
     "output_type": "stream",
     "text": [
      "Valid\n"
     ]
    }
   ],
   "source": [
    "validate_name(\"Haruto Watanabe\") "
   ]
  },
  {
   "cell_type": "code",
   "execution_count": 220,
   "id": "90180289",
   "metadata": {},
   "outputs": [
    {
     "name": "stdout",
     "output_type": "stream",
     "text": [
      "Valid\n"
     ]
    }
   ],
   "source": [
    "validate_name(\"Alice Watanabe\")"
   ]
  },
  {
   "cell_type": "code",
   "execution_count": 221,
   "id": "1a1dbaa1",
   "metadata": {},
   "outputs": [
    {
     "name": "stdout",
     "output_type": "stream",
     "text": [
      "Valid\n"
     ]
    }
   ],
   "source": [
    "validate_name(\"RoboCop Watanabe\")"
   ]
  },
  {
   "cell_type": "code",
   "execution_count": 222,
   "id": "aa9952fb",
   "metadata": {},
   "outputs": [
    {
     "name": "stdout",
     "output_type": "stream",
     "text": [
      "Invalid\n"
     ]
    }
   ],
   "source": [
    "validate_name(\"haruto Watanabe\")"
   ]
  },
  {
   "cell_type": "code",
   "execution_count": 224,
   "id": "0e9bfb01",
   "metadata": {},
   "outputs": [
    {
     "name": "stdout",
     "output_type": "stream",
     "text": [
      "Invalid\n"
     ]
    }
   ],
   "source": [
    "validate_name(\"Mr. Watanabe\")"
   ]
  },
  {
   "cell_type": "code",
   "execution_count": 225,
   "id": "3b7c9fbb",
   "metadata": {},
   "outputs": [
    {
     "name": "stdout",
     "output_type": "stream",
     "text": [
      "Invalid\n"
     ]
    }
   ],
   "source": [
    "validate_name(\"Mr. Watanabe\")"
   ]
  },
  {
   "cell_type": "code",
   "execution_count": 227,
   "id": "a40be736",
   "metadata": {},
   "outputs": [
    {
     "name": "stdout",
     "output_type": "stream",
     "text": [
      "Invalid\n"
     ]
    }
   ],
   "source": [
    "validate_name(\"Watanabe\" )"
   ]
  },
  {
   "cell_type": "code",
   "execution_count": 228,
   "id": "f0327141",
   "metadata": {},
   "outputs": [
    {
     "name": "stdout",
     "output_type": "stream",
     "text": [
      "Invalid\n"
     ]
    }
   ],
   "source": [
    "validate_name(\"Haruto watanabe\")"
   ]
  },
  {
   "cell_type": "code",
   "execution_count": 259,
   "id": "c8efd6d5",
   "metadata": {},
   "outputs": [],
   "source": [
    "\"\"\"22. How would you write a regex that matches a sentence where the first word is either Alice, Bob,\n",
    "or Carol; the second word is either eats, pets, or throws; the third word is apples, cats, or baseballs;\n",
    "and the sentence ends with a period? This regex should be case-insensitive. It must match the\n",
    "following:\n",
    "\n",
    "\n",
    "\"Alice eats apples.\"\n",
    "\"Bob pets cats.\"\n",
    "\"Carol throws baseballs.\"\n",
    "\"Alice throws Apples.\"\n",
    "\"BOB EATS CATS.\"\n",
    "but not the following:\n",
    "\"RoboCop eats apples.\"\n",
    "\"ALICE THROWS FOOTBALLS.\"\n",
    "\"Carol eats 7 cats.\"\n",
    "\n",
    "\"\"\"\n",
    "\n",
    "import re\n",
    "def match_sentence(input):\n",
    "    result = re.compile(r'(Alice|Bob|Carol)\\s(eats|pets|throws)\\s(apples|cats|baseballs)\\.',re.IGNORECASE)\n",
    "    res = result.match(input)\n",
    "   # If match is found, the string is valid\n",
    "    if res:\n",
    "        print(\"Valid\")\n",
    "          \n",
    "    # If match is not found, string is invalid\n",
    "    else:\n",
    "        print(\"Invalid\")\n",
    "    "
   ]
  },
  {
   "cell_type": "code",
   "execution_count": 260,
   "id": "fa4b54c6",
   "metadata": {},
   "outputs": [
    {
     "name": "stdout",
     "output_type": "stream",
     "text": [
      "Valid\n"
     ]
    }
   ],
   "source": [
    "match_sentence(\"Bob pets cats.\")"
   ]
  },
  {
   "cell_type": "code",
   "execution_count": 255,
   "id": "6529e005",
   "metadata": {},
   "outputs": [
    {
     "name": "stdout",
     "output_type": "stream",
     "text": [
      "Invalid\n"
     ]
    }
   ],
   "source": [
    "match_sentence(\"RoboCop eats apples.\")"
   ]
  },
  {
   "cell_type": "code",
   "execution_count": 268,
   "id": "a0eed173",
   "metadata": {},
   "outputs": [
    {
     "name": "stdout",
     "output_type": "stream",
     "text": [
      "Valid\n"
     ]
    }
   ],
   "source": [
    "match_sentence(\"Alice eats apples.\")"
   ]
  },
  {
   "cell_type": "code",
   "execution_count": 269,
   "id": "4cd165b7",
   "metadata": {},
   "outputs": [
    {
     "name": "stdout",
     "output_type": "stream",
     "text": [
      "Valid\n"
     ]
    }
   ],
   "source": [
    "match_sentence(\"Carol throws baseballs.\")"
   ]
  },
  {
   "cell_type": "code",
   "execution_count": 270,
   "id": "c6846176",
   "metadata": {},
   "outputs": [
    {
     "name": "stdout",
     "output_type": "stream",
     "text": [
      "Valid\n"
     ]
    }
   ],
   "source": [
    "match_sentence(\"Alice throws Apples.\")"
   ]
  },
  {
   "cell_type": "code",
   "execution_count": 271,
   "id": "7aab07c9",
   "metadata": {},
   "outputs": [
    {
     "name": "stdout",
     "output_type": "stream",
     "text": [
      "Valid\n"
     ]
    }
   ],
   "source": [
    "match_sentence(\"BOB EATS CATS.\")"
   ]
  },
  {
   "cell_type": "code",
   "execution_count": 272,
   "id": "eec8050c",
   "metadata": {},
   "outputs": [
    {
     "name": "stdout",
     "output_type": "stream",
     "text": [
      "Invalid\n"
     ]
    }
   ],
   "source": [
    "match_sentence(\"RoboCop eats apples.\")"
   ]
  },
  {
   "cell_type": "code",
   "execution_count": 273,
   "id": "f3e19ced",
   "metadata": {},
   "outputs": [
    {
     "name": "stdout",
     "output_type": "stream",
     "text": [
      "Invalid\n"
     ]
    }
   ],
   "source": [
    "match_sentence(\"ALICE THROWS FOOTBALLS.\")"
   ]
  },
  {
   "cell_type": "code",
   "execution_count": 274,
   "id": "f4bcba5a",
   "metadata": {},
   "outputs": [
    {
     "name": "stdout",
     "output_type": "stream",
     "text": [
      "Invalid\n"
     ]
    }
   ],
   "source": [
    "match_sentence(\"Carol eats 7 cats.\")"
   ]
  },
  {
   "cell_type": "code",
   "execution_count": null,
   "id": "ae0f70d8",
   "metadata": {},
   "outputs": [],
   "source": []
  }
 ],
 "metadata": {
  "kernelspec": {
   "display_name": "Python 3 (ipykernel)",
   "language": "python",
   "name": "python3"
  },
  "language_info": {
   "codemirror_mode": {
    "name": "ipython",
    "version": 3
   },
   "file_extension": ".py",
   "mimetype": "text/x-python",
   "name": "python",
   "nbconvert_exporter": "python",
   "pygments_lexer": "ipython3",
   "version": "3.9.7"
  }
 },
 "nbformat": 4,
 "nbformat_minor": 5
}
