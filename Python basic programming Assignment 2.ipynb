{
 "cells": [
  {
   "cell_type": "code",
   "execution_count": 2,
   "id": "646f72ef",
   "metadata": {},
   "outputs": [
    {
     "name": "stdout",
     "output_type": "stream",
     "text": [
      "Enter the kilometers to be converted to miles: 6.5\n",
      "6.500 kilometers is equal to 4.039 miles\n"
     ]
    }
   ],
   "source": [
    "#1.Write a Python program to convert kilometers to miles?\n",
    "\n",
    "#Python program to convert kilometers to miles:\n",
    "\n",
    "#1 kilometer equals 0.62137 miles.\n",
    "\n",
    "# driver code\n",
    "kilometers = float(input(\"Enter the kilometers to be converted to miles: \"))\n",
    " \n",
    "# conversion factor\n",
    "conv = 0.621371\n",
    " \n",
    "# calculate miles\n",
    "miles = kilometers * conv\n",
    "print('%0.3f kilometers is equal to %0.3f miles' %(kilometers,miles))\n",
    "#By using 0.3f as format placeholders, we are able to contain the number of decimal places to 3.\n"
   ]
  },
  {
   "cell_type": "code",
   "execution_count": 4,
   "id": "8fb3eed6",
   "metadata": {},
   "outputs": [
    {
     "name": "stdout",
     "output_type": "stream",
     "text": [
      "Enter temperature in celsius: 37.5\n",
      "37.50 Celsius is: 99.50 Fahrenheit\n"
     ]
    }
   ],
   "source": [
    "#2.Write a Python program to convert Celsius to Fahrenheit?\n",
    "\n",
    "#Python program to convert Celsius to Fahrenheit\n",
    "\n",
    "celsius = float(input(\"Enter temperature in celsius: \"))\n",
    "fahrenheit = (celsius * 9/5) + 32 #conversion factor\n",
    "print('%.2f Celsius is: %0.2f Fahrenheit' %(celsius, fahrenheit))\n",
    "#By using 0.2f as format placeholders, we are able to contain the number of decimal places to 2."
   ]
  },
  {
   "cell_type": "code",
   "execution_count": 6,
   "id": "af8a348d",
   "metadata": {},
   "outputs": [
    {
     "name": "stdout",
     "output_type": "stream",
     "text": [
      "Enter year: 2022\n",
      "Enter month: 9\n",
      "   September 2022\n",
      "Mo Tu We Th Fr Sa Su\n",
      "          1  2  3  4\n",
      " 5  6  7  8  9 10 11\n",
      "12 13 14 15 16 17 18\n",
      "19 20 21 22 23 24 25\n",
      "26 27 28 29 30\n",
      "\n"
     ]
    }
   ],
   "source": [
    "#3.Write a Python program to display calendar?\n",
    "\n",
    "#Python program to display calendar\n",
    "\n",
    "# importing calendar module\n",
    "import calendar\n",
    "\n",
    "# To take month and year input from the user\n",
    "\n",
    "yy = int(input(\"Enter year: \"))\n",
    "mm = int(input(\"Enter month: \"))\n",
    "\n",
    "# display the calendar\n",
    "print(calendar.month(yy, mm))"
   ]
  },
  {
   "cell_type": "code",
   "execution_count": 30,
   "id": "e43f6d6c",
   "metadata": {},
   "outputs": [
    {
     "name": "stdout",
     "output_type": "stream",
     "text": [
      " real and different roots \n",
      "-0.41421356237309515\n",
      "2.414213562373095\n"
     ]
    }
   ],
   "source": [
    "#4.Write a Python program to solve quadratic equation?\n",
    "\n",
    "# Python program to find roots of quadratic equation\n",
    "import math \n",
    "\n",
    "# function for finding roots\n",
    "        \n",
    "def equationroots( a, b, c): \n",
    "  \n",
    "    # calculating discriminant using formula\n",
    "    dis = b * b - 4 * a * c \n",
    "    sqrt_val = math.sqrt(abs(dis)) \n",
    "    # abs() returns the absolute value of a number\n",
    "      \n",
    "    # checking condition for discriminant\n",
    "    if dis > 0: \n",
    "        print(\" real and different roots \") \n",
    "        print((-b + sqrt_val)/(2 * a)) \n",
    "        print((-b - sqrt_val)/(2 * a)) \n",
    "      \n",
    "    elif dis == 0: \n",
    "        print(\" real and same roots\") \n",
    "        print(-b / (2 * a)) \n",
    "      \n",
    "    # when discriminant is less than 0\n",
    "    else:\n",
    "        print(\"Complex Roots\") \n",
    "        print(- b / (2 * a), \" + i\", sqrt_val) \n",
    "        print(- b / (2 * a), \" - i\", sqrt_val) \n",
    "        \n",
    "# If a is 0, then incorrect equation\n",
    "a=-1\n",
    "b=2\n",
    "c=1\n",
    "\n",
    "if a == 0: \n",
    "    print(\"Input correct quadratic equation\") \n",
    "else:\n",
    "    \n",
    "    equationroots( a, b, c)     "
   ]
  },
  {
   "cell_type": "code",
   "execution_count": 31,
   "id": "33b437b0",
   "metadata": {},
   "outputs": [
    {
     "name": "stdout",
     "output_type": "stream",
     "text": [
      " real and same roots\n",
      "-1.0\n"
     ]
    }
   ],
   "source": [
    "# If a is 0, then incorrect equation\n",
    "a=1\n",
    "b=2\n",
    "c=1\n",
    "\n",
    "if a == 0: \n",
    "    print(\"Input correct quadratic equation\") \n",
    "else:\n",
    "    \n",
    "    equationroots( a, b, c)    "
   ]
  },
  {
   "cell_type": "code",
   "execution_count": 32,
   "id": "02fa6018",
   "metadata": {},
   "outputs": [
    {
     "name": "stdout",
     "output_type": "stream",
     "text": [
      "Input correct quadratic equation\n"
     ]
    }
   ],
   "source": [
    "# If a is 0, then incorrect equation\n",
    "a=0\n",
    "b=2\n",
    "c=1\n",
    "\n",
    "if a == 0: \n",
    "    print(\"Input correct quadratic equation\") \n",
    "else:\n",
    "    \n",
    "    equationroots( a, b, c)    "
   ]
  },
  {
   "cell_type": "code",
   "execution_count": 33,
   "id": "e2b1ee76",
   "metadata": {},
   "outputs": [
    {
     "name": "stdout",
     "output_type": "stream",
     "text": [
      "Before swapping: \n",
      "Value of x :  5  and y :  7\n",
      "After swapping: \n",
      "Value of x :  7  and y :  5\n"
     ]
    }
   ],
   "source": [
    "#5. Write a Python program to swap two variables without temp variable?\n",
    "\n",
    "# Python code to swap two numbers\n",
    "# without using another variable\n",
    "#This method works for any data type values like string, int, float and is easy to use. \n",
    "\n",
    "x = 5\n",
    "y = 7\n",
    " \n",
    "print (\"Before swapping: \")\n",
    "print(\"Value of x : \", x, \" and y : \", y)\n",
    " \n",
    "# code to swap 'x' and 'y'\n",
    "x, y = y, x\n",
    " \n",
    "print (\"After swapping: \")\n",
    "print(\"Value of x : \", x, \" and y : \", y)"
   ]
  }
 ],
 "metadata": {
  "kernelspec": {
   "display_name": "Python 3 (ipykernel)",
   "language": "python",
   "name": "python3"
  },
  "language_info": {
   "codemirror_mode": {
    "name": "ipython",
    "version": 3
   },
   "file_extension": ".py",
   "mimetype": "text/x-python",
   "name": "python",
   "nbconvert_exporter": "python",
   "pygments_lexer": "ipython3",
   "version": "3.9.7"
  }
 },
 "nbformat": 4,
 "nbformat_minor": 5
}
