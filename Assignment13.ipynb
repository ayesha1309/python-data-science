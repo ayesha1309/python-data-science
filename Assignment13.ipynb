{
 "cells": [
  {
   "cell_type": "code",
   "execution_count": 2,
   "id": "f07bcff5",
   "metadata": {},
   "outputs": [],
   "source": [
    "#1.What advantages do Excel spreadsheets have over CSV spreadsheets?\n",
    "\n",
    "#1.Excel is a binary file format that holds information for all workbooks, and it is used in all worksheets. \n",
    "#On the other hand, CSV stands for Comma Separated Values. CSV is in plain text format information with a series of values in a \n",
    "#sheet and is separated by Commas. CSV is a text which is full of information and is less compatible against excel.\n",
    "\n",
    "#2Excel can perform VBA Coding, functions, formulas and create summaries easily when compared to CSV.\n",
    "\n",
    "#3Excel also provides the user option for external linking of data from other sources, and also, \n",
    "#the user can do custom add-ins."
   ]
  },
  {
   "cell_type": "code",
   "execution_count": 4,
   "id": "d0980cb7",
   "metadata": {},
   "outputs": [],
   "source": [
    "#2.What do you pass to csv.reader() and csv.writer() to create reader and writer objects?\n",
    "\n",
    "#We have to first import csv to use the csv.reader() and csv.writer() functions.Csv file name is passed as arguments to the function.\n",
    "\n",
    "#csv.reader() is used to read the file, which returns an iterable reader object.. \n",
    "#To read the file, we can pass an additional delimiter parameter to the csv.reader() function.\n",
    "#To remove these initial spaces, we need to pass an additional parameter called skipinitialspace.\n",
    "#csv.QUOTE_ALL specifies the reader object that all the values in the CSV file are present inside quotation marks.\n",
    "\n",
    "#The csv.writer() function returns a writer object that converts the user's data into a delimited string. \n",
    "#This string can later be used to write into CSV files using the writerow() function. \n",
    "#All the above mentioned options of delimeter parameter,quote_all,dialects are also used."
   ]
  },
  {
   "cell_type": "code",
   "execution_count": 5,
   "id": "120313ba",
   "metadata": {},
   "outputs": [],
   "source": [
    "#3What modes do File objects for reader and writer objects need to be opened in?\n",
    "\n",
    "#File objects for reader objects has to be opened in r mode(reader mode)\n",
    "#File objects for writer objects has to be opened in w mode(writer mode)\n"
   ]
  },
  {
   "cell_type": "code",
   "execution_count": 6,
   "id": "9f889fc3",
   "metadata": {},
   "outputs": [],
   "source": [
    "#4.What method takes a list argument and writes it to a CSV file?\n",
    "\n",
    "#A CSV file is a bounded text format which uses a comma to separate values. \n",
    "#The most common method to write data from a list to CSV file is the writerow() method of writer and DictWriter class.\n",
    "\n",
    "\n",
    "# Importing library\n",
    "import csv\n",
    " \n",
    "# data to be written row-wise in csv file\n",
    "data = [['Geeks for Geeks', '2008', 'Sandeep Jain'],\n",
    "        ['HackerRank', '2009', 'Vivek Ravisankar']]\n",
    " \n",
    "# opening the csv file in 'a+' mode\n",
    "file = open('g4g.csv', 'a+', newline ='')\n",
    " \n",
    "# writing the data into the file\n",
    "with file:   \n",
    "    write = csv.writer(file)\n",
    "    write.writerows(data)"
   ]
  },
  {
   "cell_type": "code",
   "execution_count": 7,
   "id": "dd62ddf8",
   "metadata": {},
   "outputs": [],
   "source": [
    "#5.What do the keyword arguments delimiter and line terminator do?\n",
    "\n",
    "#The delimiter is the character that appears between cells on a row. By default, the delimiter for a CSV file is a comma.\n",
    "#The line terminator is the character that comes at the end of a row. By default, the line terminator is a newline.\n",
    "\n",
    "#Example:\n",
    "\n",
    "#Passing delimeter='\\t' and lineterminator='\\n\\n' changes the character between cells to a tab and the character between \n",
    "#rows to two newlines. We then call writerow() three times to give us three rows."
   ]
  },
  {
   "cell_type": "code",
   "execution_count": 9,
   "id": "14b15e5a",
   "metadata": {},
   "outputs": [],
   "source": [
    "#6. What function takes a string of JSON data and returns a Python data structure?\n",
    "\n",
    "#json.loads() method return Python data structure of JSON string or data."
   ]
  },
  {
   "cell_type": "code",
   "execution_count": 10,
   "id": "744b9769",
   "metadata": {},
   "outputs": [],
   "source": [
    "#7. What function takes a Python data structure and returns a string of JSON data?\n",
    "\n",
    "#json.dumps() method can convert a Python object into a JSON string. \n",
    "\n",
    "#Syntax: json.dumps(dict, indent)\n",
    "\n",
    "#It takes two parameters:\n",
    "\n",
    "#dictionary – name of dictionary which should be converted to JSON object.\n",
    "#indent – defines the number of units for indentation"
   ]
  }
 ],
 "metadata": {
  "kernelspec": {
   "display_name": "Python 3 (ipykernel)",
   "language": "python",
   "name": "python3"
  },
  "language_info": {
   "codemirror_mode": {
    "name": "ipython",
    "version": 3
   },
   "file_extension": ".py",
   "mimetype": "text/x-python",
   "name": "python",
   "nbconvert_exporter": "python",
   "pygments_lexer": "ipython3",
   "version": "3.9.7"
  }
 },
 "nbformat": 4,
 "nbformat_minor": 5
}
