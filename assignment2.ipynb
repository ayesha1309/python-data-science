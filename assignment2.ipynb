{
 "cells": [
  {
   "cell_type": "markdown",
   "id": "bfc9a157",
   "metadata": {},
   "source": [
    "#1.What are the two values of the Boolean data type? How do you write them?\n",
    "\n",
    "The two values of boolean data type 0 and 1.\n",
    "\n",
    "1. true = 1;\n",
    "2. false = 0;"
   ]
  },
  {
   "cell_type": "markdown",
   "id": "4a3f6bbc",
   "metadata": {},
   "source": [
    "#2. What are the three different types of Boolean operators?\n",
    "\n",
    "The three different types of boolean operators are :\n",
    "\n",
    "1. and operator\n",
    "2. or operator\n",
    "3. not operator"
   ]
  },
  {
   "cell_type": "markdown",
   "id": "3e178ded",
   "metadata": {},
   "source": [
    "#3. Make a list of each Boolean operator's truth tables (i.e. every possible combination of Boolean\n",
    "values for the operator and what it evaluate ).\n",
    "\n",
    "And operator truth table \n",
    "\n",
    "1. 1 and 1 = 1; \n",
    "2. 1 and 0 = 0; \n",
    "3. 0 and 0 = 0; \n",
    "4. 0 and 1 = 0; \n",
    "\n",
    "or operator truth table\n",
    "\n",
    "1. 1 or 1 = 1,\n",
    "2. 1 or 0 = 1,\n",
    "3. 0 or 1 = 1,\n",
    "4. 0 or 0 = 0,\n",
    "\n",
    "not operator\n",
    "\n",
    "1. not 1 = 0,\n",
    "2. not 0 = 1"
   ]
  },
  {
   "cell_type": "markdown",
   "id": "fcc11644",
   "metadata": {},
   "source": [
    "#4. What are the values of the following expressions?\n",
    "\n",
    "1. (5 > 4) and (3 == 5) = 1 and 0 = 0 ;\n",
    "\n",
    "2. not (5 > 4) = not 1 = 0;\n",
    "\n",
    "3. (5 > 4) or (3 == 5) = 1 or 0 = 1;\n",
    "\n",
    "4. not ((5 > 4) or (3 == 5)) = not 1 or 0 = 0 or 0 = 0;\n",
    "\n",
    "5. (True and True) and (True == False) = 1 and 0 =0;\n",
    "\n",
    "6. (not False) or (not True) = 1 or 0 = 1;"
   ]
  },
  {
   "cell_type": "markdown",
   "id": "cfbd2401",
   "metadata": {},
   "source": [
    "#5. What are the six comparison operators?\n",
    "\n",
    "Six comparison operators are >,<,<=,==,>=,!="
   ]
  },
  {
   "cell_type": "markdown",
   "id": "d1730bde",
   "metadata": {},
   "source": [
    "#6. How do you tell the difference between the equal to and assignment operators?Describe a\n",
    "condition and when you would use one.\n",
    "\n",
    "Assignment operator is used to assign a value to the variable. Usually left hand value is assigned to the right hand variable \n",
    "name.The sign used for this operator is =.\n",
    "example:\n",
    "    \n",
    "   1. a = 10;\n",
    "   2. b = c+d;\n",
    "\n",
    "Equality operator is used to check if the values of 2 operands are equal. The sign of this operator is ==. If the values of 2 \n",
    "operands are equal then its condition becomes true else it is false.\n",
    "\n",
    "example : \n",
    "   1. 3==5,\n",
    "   2. \"hello\" == \"world\"\n"
   ]
  },
  {
   "cell_type": "code",
   "execution_count": 4,
   "id": "b02b4038",
   "metadata": {},
   "outputs": [
    {
     "name": "stdout",
     "output_type": "stream",
     "text": [
      "ham\n",
      "spam\n",
      "spam\n"
     ]
    }
   ],
   "source": [
    "#7. Identify the three blocks in this code:\n",
    "\n",
    "spam = 0\n",
    "if spam == 10:\n",
    "    print(\"eggs\")\n",
    "if spam > 5:\n",
    "    print(\"bacon\")\n",
    "else:\n",
    "    print(\"ham\")\n",
    "    print(\"spam\")\n",
    "    print(\"spam\")\n"
   ]
  },
  {
   "cell_type": "code",
   "execution_count": 12,
   "id": "726e7b12",
   "metadata": {},
   "outputs": [
    {
     "name": "stdout",
     "output_type": "stream",
     "text": [
      "Greetings!\n"
     ]
    }
   ],
   "source": [
    "#8. Write code that prints Hello if 1 is stored in spam, prints Howdy if 2 is stored in spam, and prints Greetings! \n",
    "#if anything else is stored in spam.\n",
    "\n",
    "spam = 5\n",
    "if spam ==1:\n",
    "    print (\"hello\")\n",
    "elif spam ==2:\n",
    "    print(\"howdy\")\n",
    "else:\n",
    "    print (\"Greetings!\")"
   ]
  }
 ],
 "metadata": {
  "kernelspec": {
   "display_name": "Python 3 (ipykernel)",
   "language": "python",
   "name": "python3"
  },
  "language_info": {
   "codemirror_mode": {
    "name": "ipython",
    "version": 3
   },
   "file_extension": ".py",
   "mimetype": "text/x-python",
   "name": "python",
   "nbconvert_exporter": "python",
   "pygments_lexer": "ipython3",
   "version": "3.9.7"
  }
 },
 "nbformat": 4,
 "nbformat_minor": 5
}
