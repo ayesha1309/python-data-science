{
 "cells": [
  {
   "cell_type": "code",
   "execution_count": 1,
   "id": "fd3aa71d",
   "metadata": {},
   "outputs": [],
   "source": [
    "#1. What is the relationship between def statements and lambda expressions ?\n",
    "\n",
    "#(a)The only difference is that (a) the body of a lambda can consist of only a single expression, \n",
    "#the result of which is returned from the function created.\n",
    "\n",
    "#(b)a lambda expression is an expression which evaluates to a function object, \n",
    "#while a def statement has no value, and creates a function object and binds it to a name.\n",
    "\n",
    "#(c)Lambda Function, also referred to as 'Anonymous function' is same as a regular python function but can \n",
    "#be defined without a name. While normal functions are defined using the def keyword, anonymous functions are \n",
    "#defined using the lambda keyword."
   ]
  },
  {
   "cell_type": "code",
   "execution_count": 2,
   "id": "fa6798a6",
   "metadata": {},
   "outputs": [],
   "source": [
    "#2. What is the benefit of lambda?\n",
    "\n",
    "#(a)A lambda function can take any number of arguments as its input. Similarly, it can output any number of arguments as well.\n",
    "#The critical point is that your arguments must all pack into a single expression.\n",
    "\n",
    "#(b)If you need a function but only for a short time—a function that gets used several times on initialization \n",
    "#but not afterwards,for example—lambda is an excellent solution.\n",
    "\n",
    "#(c)The filter() function, combined with a lambda function, allows you to easily filter through a list. In this usage, your \n",
    "#lambda function would return a boolean value that signifies if an item is to be kept.\n",
    "\n",
    "#(d)Functionally, lambda functions won’t revolutionize your python code; you can’t do anything with them that you \n",
    "#can’t do without them. But through using them, you can make your code more efficient, compact, and easier to read."
   ]
  },
  {
   "cell_type": "code",
   "execution_count": 3,
   "id": "d8c49c8d",
   "metadata": {},
   "outputs": [],
   "source": [
    "#3. Compare and contrast map, filter, and reduce.\n",
    "\n",
    "#The map(), filter() and reduce() functions bring a bit of functional programming to Python. \n",
    "#All three of these are convenience functions that can be replaced with List Comprehensions or loops, \n",
    "#but provide a more elegant and short-hand approach to some problems.\n",
    "\n",
    "#All three of these methods expect a function object as the first argument. \n",
    "#This function object can be a pre-defined method with a name (like def add(x,y)).\n",
    "\n",
    "#Though, more often than not, functions passed to map(), filter(), and reduce() are the ones you'd use only once, \n",
    "#so there's often no point in defining a referenceable function.\n",
    "\n",
    "#To avoid defining a new function for your different map()/filter()/reduce() needs - a more elegant solution \n",
    "#would be to use a short, disposable, anonymous function that you will only use once and never again - a lambda."
   ]
  },
  {
   "cell_type": "code",
   "execution_count": 4,
   "id": "f83d9d58",
   "metadata": {},
   "outputs": [
    {
     "name": "stdout",
     "output_type": "stream",
     "text": [
      "7\n"
     ]
    }
   ],
   "source": [
    "#4. What are function annotations, and how are they used?\n",
    "\n",
    "#Function annotations are arbitrary python expressions that are associated with various part of functions. \n",
    "#These expressions are evaluated at compile time and have no life in python’s runtime environment.\n",
    "#Function annotations are completely optional both for parameters and return value.\n",
    "\n",
    "#Function annotations provide a way of associating various parts of a function with arbitrary python expressions \n",
    "#at compile time.\n",
    "\n",
    "def func(x:'annotating x', y: 'annotating y', z: int) -> float: print(x + y + z)\n",
    "    \n",
    "\"\"\"In the above example, function func() takes three parameters called x,y and z, \n",
    "finally prints their sum. The first argument x is annotated with string ‘annotating x’, \n",
    "second argument y is annotated with the string ‘annotating y’, and the third argument z \n",
    "is annotated with type int. The return value is annotated with the type float. \n",
    "Here the ‘->’ syntax for annotating the return value.\"\"\"\n",
    "\n",
    "func(5,6,-4)\n"
   ]
  },
  {
   "cell_type": "code",
   "execution_count": 7,
   "id": "a51c3651",
   "metadata": {},
   "outputs": [
    {
     "name": "stdout",
     "output_type": "stream",
     "text": [
      "Function-Annotation\n"
     ]
    }
   ],
   "source": [
    "func('Function','-','Annotation')\n",
    "\n",
    "#Above we call func() twice, once with int arguments and once with string arguments. \n",
    "#In both cases, func() does the right thing and annotations are simply ignored. \n",
    "#So, we see the annotations have no effect on the execution of the function func()."
   ]
  },
  {
   "cell_type": "code",
   "execution_count": 8,
   "id": "1528a6a7",
   "metadata": {},
   "outputs": [
    {
     "name": "stdout",
     "output_type": "stream",
     "text": [
      "Fibonacci series:\n",
      "0\n",
      "1\n",
      "1\n",
      "2\n",
      "3\n",
      "5\n",
      "8\n",
      "13\n",
      "21\n",
      "34\n"
     ]
    }
   ],
   "source": [
    "#5. What are recursive functions, and how are they used?\n",
    "\n",
    "#A recursive function is a function in code that refers to itself for execution. \n",
    "#Recursive functions can be simple or elaborate. They allow for more efficient code writing, \n",
    "#for instance, in the listing or compiling of sets of numbers, strings or other variables through a single reiterated process.\n",
    "\n",
    "# Program to print the fibonacci series upto n_terms\n",
    " \n",
    "# Recursive function\n",
    "def recursive_fibonacci(n):\n",
    "  if n <= 1:\n",
    "      return n\n",
    "  else:\n",
    "      return(recursive_fibonacci(n-1) + recursive_fibonacci(n-2))\n",
    " \n",
    "n_terms = 10\n",
    " \n",
    "# check if the number of terms is valid\n",
    "if n_terms <= 0:\n",
    "  print(\"Invalid input ! Please input a positive value\")\n",
    "else:\n",
    "  print(\"Fibonacci series:\")\n",
    "for i in range(n_terms):\n",
    "    print(recursive_fibonacci(i))"
   ]
  },
  {
   "cell_type": "code",
   "execution_count": 9,
   "id": "cb7017d9",
   "metadata": {},
   "outputs": [],
   "source": [
    "#6. What are some general design guidelines for coding functions?\n",
    "\n",
    "#Some general design guidelines for coding functions are:\n",
    "\n",
    "#1. Use 4-space indentation and no tabs.\n",
    "\n",
    "#2 Use docstrings : There are both single and multi-line docstrings that can be used in Python. \n",
    "#However, the single line comment fits in one line, triple quotes are used in both cases. \n",
    "#These are used to define a particular program or define a particular function.\n",
    "\n",
    "#3.Wrap lines so that they don’t exceed 79 characters : The Python standard library is conservative and requires limiting\n",
    "#lines to 79 characters.The lines can be wrapped using parenthesis, brackets, and braces. \n",
    "#They should be used in preference to backslashes.\n",
    "\n",
    "#4.Use of regular and updated comments are valuable to both the coders and users : There are also various types and \n",
    "#conditions that if followed can be of great help from programs and users point of view. \n",
    "#Comments should form complete sentences. \n",
    "\n",
    "#5. Use of trailing commas : This is not mandatory except while making a tuple.\n",
    "\n",
    "#6. Use spaces around operators and after commas, but not directly inside bracketing constructs.\n",
    "\n",
    "#7. Naming Conventions : There are few naming conventions that should be followed in order to \n",
    "#make the program less complex and more readable. At the same time, the naming conventions\n",
    "#in Python is a bit of mess, but here are few conventions that can be followed easily."
   ]
  },
  {
   "cell_type": "code",
   "execution_count": null,
   "id": "3868b1b9",
   "metadata": {},
   "outputs": [],
   "source": [
    "#7. Name three or more ways that functions can communicate results to a caller.\n",
    "\n",
    "#Three or more ways that functions can communicate results to a caller are as follows:\n",
    "\n",
    "#1.The statement return (expression) exits a function, optionally passing back a value to the caller. \n",
    "#A return statement with no args is the same as return None.\n",
    "\n",
    "#2.Return statement simply returns the values as output whereas print() function simply print the value.\n",
    "\n",
    "#3.Return sends a specified value back to its caller whereas Yield can produce a sequence of values. We should use yield when \n",
    "#we want to iterate over a sequence, but don’t want to store the entire sequence in memory. Yield is used in Python generators. "
   ]
  }
 ],
 "metadata": {
  "kernelspec": {
   "display_name": "Python 3 (ipykernel)",
   "language": "python",
   "name": "python3"
  },
  "language_info": {
   "codemirror_mode": {
    "name": "ipython",
    "version": 3
   },
   "file_extension": ".py",
   "mimetype": "text/x-python",
   "name": "python",
   "nbconvert_exporter": "python",
   "pygments_lexer": "ipython3",
   "version": "3.9.7"
  }
 },
 "nbformat": 4,
 "nbformat_minor": 5
}
