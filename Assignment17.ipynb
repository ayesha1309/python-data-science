{
 "cells": [
  {
   "cell_type": "code",
   "execution_count": 5,
   "id": "d12d7523",
   "metadata": {},
   "outputs": [
    {
     "name": "stdout",
     "output_type": "stream",
     "text": [
      "string is too high\n"
     ]
    }
   ],
   "source": [
    "#1. Assign the value 7 to the variable guess_me. Then, write the conditional tests (if, else, and elif) to\n",
    "#print the string \"too low\" if guess_me is less than 7, \"too high\" if greater than 7, and \"just right\" if equal to 7.\n",
    "\n",
    "\n",
    "#Below code is using if and else\n",
    "guess_me=1213\n",
    "if guess_me>7:\n",
    "    print(\"string is too high\")\n",
    "else:\n",
    "    if guess_me<7:\n",
    "        print(\"string is too low\")\n",
    "if guess_me==7:\n",
    "    print(\"string is just right\")"
   ]
  },
  {
   "cell_type": "code",
   "execution_count": 6,
   "id": "c4aa2cec",
   "metadata": {},
   "outputs": [
    {
     "name": "stdout",
     "output_type": "stream",
     "text": [
      "string is too low\n"
     ]
    }
   ],
   "source": [
    "guess_me=2\n",
    "if guess_me>7:\n",
    "    print(\"string is too high\")\n",
    "else:\n",
    "    if guess_me<7:\n",
    "        print(\"string is too low\")\n",
    "if guess_me==7:\n",
    "    print(\"string is just right\")"
   ]
  },
  {
   "cell_type": "code",
   "execution_count": 7,
   "id": "9b46fe62",
   "metadata": {},
   "outputs": [
    {
     "name": "stdout",
     "output_type": "stream",
     "text": [
      "string is just right\n"
     ]
    }
   ],
   "source": [
    "guess_me=7\n",
    "if guess_me>7:\n",
    "    print(\"string is too high\")\n",
    "else:\n",
    "    if guess_me<7:\n",
    "        print(\"string is too low\")\n",
    "if guess_me==7:\n",
    "    print(\"string is just right\")"
   ]
  },
  {
   "cell_type": "code",
   "execution_count": 8,
   "id": "440460cf",
   "metadata": {},
   "outputs": [
    {
     "name": "stdout",
     "output_type": "stream",
     "text": [
      "string is just right\n"
     ]
    }
   ],
   "source": [
    "#Below code is using elif\n",
    "\n",
    "guess_me=7\n",
    "if guess_me>7:\n",
    "    print(\"string is too high\")\n",
    "elif guess_me<7:\n",
    "    print(\"string is too low\")\n",
    "elif guess_me==7:\n",
    "    print(\"string is just right\")\n",
    "    "
   ]
  },
  {
   "cell_type": "code",
   "execution_count": 9,
   "id": "80f2dae5",
   "metadata": {},
   "outputs": [
    {
     "name": "stdout",
     "output_type": "stream",
     "text": [
      "string is too high\n"
     ]
    }
   ],
   "source": [
    "guess_me=75\n",
    "if guess_me>7:\n",
    "    print(\"string is too high\")\n",
    "elif guess_me<7:\n",
    "    print(\"string is too low\")\n",
    "elif guess_me==7:\n",
    "    print(\"string is just right\")"
   ]
  },
  {
   "cell_type": "code",
   "execution_count": 10,
   "id": "697a5e23",
   "metadata": {},
   "outputs": [
    {
     "name": "stdout",
     "output_type": "stream",
     "text": [
      "string is too low\n"
     ]
    }
   ],
   "source": [
    "guess_me=5\n",
    "if guess_me>7:\n",
    "    print(\"string is too high\")\n",
    "elif guess_me<7:\n",
    "    print(\"string is too low\")\n",
    "elif guess_me==7:\n",
    "    print(\"string is just right\")"
   ]
  },
  {
   "cell_type": "code",
   "execution_count": 29,
   "id": "3e3bc7c3",
   "metadata": {},
   "outputs": [
    {
     "name": "stdout",
     "output_type": "stream",
     "text": [
      "start is too low than guess_me 1 7\n",
      "start is too low than guess_me 2 7\n",
      "start is too low than guess_me 3 7\n",
      "start is too low than guess_me 4 7\n",
      "start is too low than guess_me 5 7\n",
      "start is too low than guess_me 6 7\n",
      "start equals to guess_me,found it 7 7\n"
     ]
    }
   ],
   "source": [
    "#2. Assign the value 7 to the variable guess_me and the value 1 to the variable start. \n",
    "#Write a while loop that compares start with guess_me. \n",
    "#Print too low if start is less than guess me. \n",
    "#If start equals guess_me, print \"found it\" and exit the loop. \n",
    "#If start is greater than guess_me, print \"oops\" and exit the loop.Increment start at the end of the loop.\n",
    "\n",
    "guess_me=7\n",
    "start=1\n",
    "while(start!=guess_me):\n",
    "    if start>guess_me:\n",
    "        print(\"start is greater than guess_me,oops\")\n",
    "        break\n",
    "    if start<guess_me:\n",
    "        print(\"start is too low than guess_me\",start,guess_me)\n",
    "        start+=1\n",
    "    if start==guess_me:\n",
    "        print(\"start equals to guess_me,found it\",start,guess_me)   "
   ]
  },
  {
   "cell_type": "code",
   "execution_count": 30,
   "id": "9212849d",
   "metadata": {},
   "outputs": [
    {
     "name": "stdout",
     "output_type": "stream",
     "text": [
      "start is greater than guess_me,oops\n"
     ]
    }
   ],
   "source": [
    "guess_me=7\n",
    "start=10\n",
    "while(start!=guess_me):\n",
    "    if start>guess_me:\n",
    "        print(\"start is greater than guess_me,oops\")\n",
    "        break\n",
    "    if start<guess_me:\n",
    "        print(\"start is too low than guess_me\",start,guess_me)\n",
    "        start+=1\n",
    "    if start==guess_me:\n",
    "        print(\"start equals to guess_me,found it\",start,guess_me)"
   ]
  },
  {
   "cell_type": "code",
   "execution_count": 37,
   "id": "498efbbf",
   "metadata": {},
   "outputs": [
    {
     "name": "stdout",
     "output_type": "stream",
     "text": [
      "the list formed: [0, 1, 2, 3, 4]\n",
      "the reversed list: [4, 3, 2, 1, 0]\n"
     ]
    }
   ],
   "source": [
    "#3. Print the following values of the list [3, 2, 1, 0] using a for loop.\n",
    "\n",
    "n=5\n",
    "l=[]\n",
    "for i in range(n):\n",
    "    l.append(i)\n",
    "print(\"the list formed:\",l)\n",
    "l.reverse()\n",
    "print(\"the reversed list:\",l)\n",
    "   "
   ]
  },
  {
   "cell_type": "code",
   "execution_count": 40,
   "id": "bd8bb7fc",
   "metadata": {},
   "outputs": [
    {
     "name": "stdout",
     "output_type": "stream",
     "text": [
      "Even numbers in the list:  [0, 2, 4, 6, 8]\n"
     ]
    }
   ],
   "source": [
    "#4. Use a list comprehension to make a list of the even numbers in range(10)\n",
    "\n",
    "# Python program to print even Numbers in a List\n",
    "n=10\n",
    "list1 = range(n)\n",
    "\n",
    "# using list comprehension\n",
    "even_nos = [num for num in list1 if num % 2 == 0]\n",
    " \n",
    "print(\"Even numbers in the list: \", even_nos)"
   ]
  },
  {
   "cell_type": "code",
   "execution_count": 45,
   "id": "21eb110f",
   "metadata": {},
   "outputs": [
    {
     "name": "stdout",
     "output_type": "stream",
     "text": [
      "[0, 1, 4, 9, 16, 25, 36, 49, 64, 81]\n",
      "{0: 0, 1: 1, 2: 4, 3: 9, 4: 16, 5: 25, 6: 36, 7: 49, 8: 64, 9: 81}\n"
     ]
    }
   ],
   "source": [
    "#5. Use a dictionary comprehension to create the dictionary squares. Use range(10) to return the keys, \n",
    "#and use the square of each key as its value. \n",
    "\n",
    "\n",
    "# Python code to demonstrate dictionary \n",
    "# comprehension\n",
    "n=10\n",
    "list1=range(n)\n",
    "list2=[]\n",
    "for i in list1:\n",
    "    list2.append(i*i)\n",
    "print(list2)\n",
    "\n",
    "  \n",
    "# Lists to represent keys and values\n",
    "keys=list1\n",
    "values=list2\n",
    "# but this line shows dict comprehension here  \n",
    "\n",
    "myDict = { k:v for (k,v) in zip(keys, values)}  \n",
    "  \n",
    "# We can use below too\n",
    "# myDict = dict(zip(keys, values))  \n",
    "  \n",
    "print (myDict)\n"
   ]
  },
  {
   "cell_type": "code",
   "execution_count": 46,
   "id": "47c5b0c5",
   "metadata": {},
   "outputs": [
    {
     "name": "stdout",
     "output_type": "stream",
     "text": [
      "{0: 0, 1: 1, 2: 4, 3: 9, 4: 16, 5: 25, 6: 36, 7: 49, 8: 64, 9: 81}\n"
     ]
    }
   ],
   "source": [
    "myDict = {x: x**2 for x in range(10)}\n",
    "print (myDict)"
   ]
  },
  {
   "cell_type": "code",
   "execution_count": 49,
   "id": "8f116997",
   "metadata": {},
   "outputs": [
    {
     "data": {
      "text/plain": [
       "{0, 1, 2, 3, 4, 5, 6, 7, 8, 9}"
      ]
     },
     "execution_count": 49,
     "metadata": {},
     "output_type": "execute_result"
    }
   ],
   "source": [
    "#6. Construct the set odd from the odd numbers in the range using a set comprehension (10).\n",
    "\n",
    "set={x for x in range(10)}\n",
    "set"
   ]
  },
  {
   "cell_type": "code",
   "execution_count": 51,
   "id": "49020a47",
   "metadata": {},
   "outputs": [
    {
     "data": {
      "text/plain": [
       "{1, 3, 5, 7, 9}"
      ]
     },
     "execution_count": 51,
     "metadata": {},
     "output_type": "execute_result"
    }
   ],
   "source": [
    "set_odd={i for i in set if i % 2 != 0}\n",
    "set_odd"
   ]
  },
  {
   "cell_type": "code",
   "execution_count": 54,
   "id": "22556e80",
   "metadata": {},
   "outputs": [
    {
     "name": "stdout",
     "output_type": "stream",
     "text": [
      "Got 0\n",
      "Got 1\n",
      "Got 2\n",
      "Got 3\n",
      "Got 4\n",
      "Got 5\n",
      "Got 6\n",
      "Got 7\n",
      "Got 8\n",
      "Got 9\n"
     ]
    }
   ],
   "source": [
    "#7. Use a generator comprehension to return the string \"Got\" and a number for the numbers in range(10). \n",
    "#Iterate through this by using a for loop.\n",
    "\n",
    "gen = (i for i in range(10))\n",
    "for item in gen:\n",
    "\n",
    "    print(\"Got\",item)\n"
   ]
  },
  {
   "cell_type": "code",
   "execution_count": 61,
   "id": "0cdd6273",
   "metadata": {},
   "outputs": [
    {
     "data": {
      "text/plain": [
       "['Harry', 'Ron', 'Hermoine']"
      ]
     },
     "execution_count": 61,
     "metadata": {},
     "output_type": "execute_result"
    }
   ],
   "source": [
    "#8. Define a function called good that returns the list [\"Harry\", \"Ron\", \"Hermione\"].\n",
    "list=[]\n",
    "def good(name):\n",
    "    list.append(name)\n",
    "    return list\n",
    "\n",
    "good(\"Harry\")\n",
    "good(\"Ron\")\n",
    "good(\"Hermoine\")\n",
    "    "
   ]
  },
  {
   "cell_type": "code",
   "execution_count": 101,
   "id": "342449df",
   "metadata": {},
   "outputs": [
    {
     "name": "stdout",
     "output_type": "stream",
     "text": [
      "The third odd number is 5\n"
     ]
    }
   ],
   "source": [
    "#9. Define a generator function called get_odds that returns the odd numbers from range(10). Use a\n",
    "#for loop to find and print the third value returned.\n",
    "\n",
    "get_odds =(i for i in range(10) if i%2!=0)\n",
    "j=1\n",
    "for i in get_odds:\n",
    "    if j==3:\n",
    "        print(\"The third odd number is\",i)\n",
    "        break\n",
    "    j=j+1"
   ]
  },
  {
   "cell_type": "code",
   "execution_count": 1,
   "id": "c217f034",
   "metadata": {},
   "outputs": [
    {
     "name": "stdout",
     "output_type": "stream",
     "text": [
      "Caught on oops\n"
     ]
    }
   ],
   "source": [
    "#10. Define an exception called OopsException. Raise this exception to see what happens. Then write \n",
    "#the code to catch this exception and print \"Caught an oops\".\n",
    "\n",
    "#In general, an exception is any unusual condition. Exception usually indicates errors but sometimes they intentionally \n",
    "#put in the program, in cases like terminating a procedure early or recovering from a resource shortage.\n",
    "\n",
    "#We handle exceptions by wrapping any code that might throw one (whether it is exception code itself, or a call to any \n",
    "#function or method that may have an exception raised inside it) inside a try…except clause.\n",
    "\n",
    "\n",
    "try:\n",
    "  print(x)\n",
    "except:\n",
    "  print(\"Caught on oops\")\n",
    "\n",
    "#Since the try block raises an error, the except block will be executed.\n",
    "\n",
    "#Without the try block, the program will crash and raise an error:"
   ]
  },
  {
   "cell_type": "code",
   "execution_count": 2,
   "id": "62afe771",
   "metadata": {},
   "outputs": [
    {
     "ename": "NameError",
     "evalue": "name 'x' is not defined",
     "output_type": "error",
     "traceback": [
      "\u001b[1;31m---------------------------------------------------------------------------\u001b[0m",
      "\u001b[1;31mNameError\u001b[0m                                 Traceback (most recent call last)",
      "\u001b[1;32m~\\AppData\\Local\\Temp/ipykernel_8580/1353120783.py\u001b[0m in \u001b[0;36m<module>\u001b[1;34m\u001b[0m\n\u001b[1;32m----> 1\u001b[1;33m \u001b[0mprint\u001b[0m\u001b[1;33m(\u001b[0m\u001b[0mx\u001b[0m\u001b[1;33m)\u001b[0m\u001b[1;33m\u001b[0m\u001b[1;33m\u001b[0m\u001b[0m\n\u001b[0m",
      "\u001b[1;31mNameError\u001b[0m: name 'x' is not defined"
     ]
    }
   ],
   "source": [
    "print(x)"
   ]
  },
  {
   "cell_type": "code",
   "execution_count": 3,
   "id": "da5247a8",
   "metadata": {},
   "outputs": [
    {
     "name": "stdout",
     "output_type": "stream",
     "text": [
      "{'Creature of Habit': 'A nun turns into a monster', 'Crewel Fate': 'A haunted yarn shop'}\n"
     ]
    }
   ],
   "source": [
    "#11. Use zip() to make a dictionary called movies that pairs these lists: \n",
    "#titles = [\"Creature of Habit\",\"Crewel Fate\"] and \n",
    "#plots = [\"A nun turns into a monster\", \"A haunted yarn shop\"].\n",
    "\n",
    "titles = [\"Creature of Habit\",\"Crewel Fate\"]\n",
    "plots = [\"A nun turns into a monster\", \"A haunted yarn shop\"]\n",
    "dictionary = dict(zip(titles, plots))\n",
    "print(dictionary)"
   ]
  }
 ],
 "metadata": {
  "kernelspec": {
   "display_name": "Python 3 (ipykernel)",
   "language": "python",
   "name": "python3"
  },
  "language_info": {
   "codemirror_mode": {
    "name": "ipython",
    "version": 3
   },
   "file_extension": ".py",
   "mimetype": "text/x-python",
   "name": "python",
   "nbconvert_exporter": "python",
   "pygments_lexer": "ipython3",
   "version": "3.9.7"
  }
 },
 "nbformat": 4,
 "nbformat_minor": 5
}
