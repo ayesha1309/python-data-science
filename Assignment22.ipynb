{
 "cells": [
  {
   "cell_type": "code",
   "execution_count": 2,
   "id": "1509482a",
   "metadata": {},
   "outputs": [
    {
     "name": "stdout",
     "output_type": "stream",
     "text": [
      "iNeuron\n"
     ]
    }
   ],
   "source": [
    "#1. What is the result of the code, and explain?\n",
    "\n",
    "X = 'iNeuron'\n",
    "def func():\n",
    "    print(X)\n",
    "\n",
    "func()\n",
    "\n",
    "#variable x is defined outside the function, a function named func() is defined \n",
    "#and called to print the variable x"
   ]
  },
  {
   "cell_type": "code",
   "execution_count": 7,
   "id": "146724bc",
   "metadata": {},
   "outputs": [
    {
     "name": "stdout",
     "output_type": "stream",
     "text": [
      "iNeuron\n"
     ]
    }
   ],
   "source": [
    "#2. What is the result of the code, and explain?\n",
    "\n",
    "X = 'iNeuron'\n",
    "def func():\n",
    "    X = 'NI!'\n",
    "\n",
    "func()\n",
    "print(X)\n",
    "\n",
    "#variable X is defined inside and outside the function also, but in the function no return statement or print statement used, so\n",
    "#the print statement defined outside the function is printeded when the print(X) is used.For func() called there is no statement \n",
    "#executed or printed."
   ]
  },
  {
   "cell_type": "code",
   "execution_count": 9,
   "id": "dd542d51",
   "metadata": {},
   "outputs": [
    {
     "name": "stdout",
     "output_type": "stream",
     "text": [
      "NI\n",
      "iNeuron\n"
     ]
    }
   ],
   "source": [
    "#3. What does this code print, and why?\n",
    "\n",
    "X = 'iNeuron'\n",
    "def func():\n",
    "    X = 'NI'\n",
    "    print(X)\n",
    "\n",
    "func()\n",
    "print(X)\n",
    "\n",
    "#variable X is defined inside and outside the function also, but in the function print statement used will print the X value as \n",
    "#defined inside the function.\n",
    "#the print statement defined outside the function will print the X value as defined outsid the function."
   ]
  },
  {
   "cell_type": "code",
   "execution_count": 12,
   "id": "cc2353ba",
   "metadata": {},
   "outputs": [
    {
     "name": "stdout",
     "output_type": "stream",
     "text": [
      "NI\n"
     ]
    }
   ],
   "source": [
    "#4. What output does this code produce? Why?\n",
    "\n",
    "X = 'iNeuron'\n",
    "def func():\n",
    "    global X\n",
    "    X = 'NI'\n",
    "\n",
    "func()\n",
    "print(X)\n",
    "\n",
    "#variable X is defined inside and outside the function also, but in the function altough no print statement used.\n",
    "#the print statement defined outside the function will print the X value as declared inside the function, because the X defined \n",
    "#inside the function is a global variable.Global variable overwrites the X defined outside the function also."
   ]
  },
  {
   "cell_type": "code",
   "execution_count": 16,
   "id": "48866056",
   "metadata": {},
   "outputs": [
    {
     "name": "stdout",
     "output_type": "stream",
     "text": [
      "iNeuron\n"
     ]
    },
    {
     "data": {
      "text/plain": [
       "'iNeuron'"
      ]
     },
     "execution_count": 16,
     "metadata": {},
     "output_type": "execute_result"
    }
   ],
   "source": [
    "#5. What about this code—what’s the output, and why?\n",
    "\n",
    "X = 'iNeuron'\n",
    "def func():\n",
    "    X = 'NI'\n",
    "def nested():\n",
    "    print(X)\n",
    "    \n",
    "nested()\n",
    "func()\n",
    "X\n",
    "\n",
    "# variable X is printed when we call the nested function and also when we just write the variable name.\n",
    "#variable X is not printed or returned even if declared in func(), because func() does not have return or print \n",
    "#inside the function."
   ]
  },
  {
   "cell_type": "code",
   "execution_count": 28,
   "id": "aecdf391",
   "metadata": {},
   "outputs": [
    {
     "name": "stdout",
     "output_type": "stream",
     "text": [
      "iNeuron\n",
      "iNeuron\n"
     ]
    }
   ],
   "source": [
    "#6. How about this code: what is its output in Python 3, and explain?\n",
    "\n",
    "def func():\n",
    "    X = 'NI'\n",
    "    def nested():\n",
    "        nonlocal X\n",
    "        X = 'Spam'\n",
    "\n",
    "nested()\n",
    "func()\n",
    "print(X)\n",
    "\n",
    "#The nonlocal keyword is used to work with variables inside nested functions, \n",
    "#where the variable should not belong to the inner function.\n",
    "\n",
    "#Since the defined func() and nested() both do not have print statements.But the above function in other question is \n",
    "#also named nested so its calling \n",
    "#that function and giving print(x) as defined from that function.\n",
    "#Print(X) also gives the output of a global variable name. "
   ]
  },
  {
   "cell_type": "code",
   "execution_count": null,
   "id": "892ba7d3",
   "metadata": {},
   "outputs": [],
   "source": []
  }
 ],
 "metadata": {
  "kernelspec": {
   "display_name": "Python 3 (ipykernel)",
   "language": "python",
   "name": "python3"
  },
  "language_info": {
   "codemirror_mode": {
    "name": "ipython",
    "version": 3
   },
   "file_extension": ".py",
   "mimetype": "text/x-python",
   "name": "python",
   "nbconvert_exporter": "python",
   "pygments_lexer": "ipython3",
   "version": "3.9.7"
  }
 },
 "nbformat": 4,
 "nbformat_minor": 5
}
