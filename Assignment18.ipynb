{
 "cells": [
  {
   "cell_type": "code",
   "execution_count": 61,
   "id": "ccef5eea",
   "metadata": {},
   "outputs": [
    {
     "name": "stdout",
     "output_type": "stream",
     "text": [
      "Open 9-5 daily\n"
     ]
    }
   ],
   "source": [
    "#1. Create a zoo.py file first. Define the hours() function, which prints the string \"Open 9-5 daily\".\n",
    "#Then, use the interactive interpreter to import the zoo module and call its hours() function.\n",
    "import zoo\n",
    "from importlib import reload\n",
    "#If you truly must reload a module in Python 3, importlib. reload for Python 3.4 is used.\n",
    "reload(zoo)\n",
    "zoo.hours()"
   ]
  },
  {
   "cell_type": "code",
   "execution_count": 62,
   "id": "0b139841",
   "metadata": {},
   "outputs": [
    {
     "name": "stdout",
     "output_type": "stream",
     "text": [
      "Open 9-5 daily\n"
     ]
    }
   ],
   "source": [
    "#2. In the interactive interpreter, import the zoo module as menagerie and call its hours() function.\n",
    "\n",
    "import zoo as menagerie\n",
    "menagerie.hours()"
   ]
  },
  {
   "cell_type": "code",
   "execution_count": 63,
   "id": "1980e15f",
   "metadata": {},
   "outputs": [
    {
     "name": "stdout",
     "output_type": "stream",
     "text": [
      "Open 9-5 daily\n"
     ]
    }
   ],
   "source": [
    "#3. Using the interpreter, explicitly import and call the hours() function from zoo\n",
    "from zoo import hours\n",
    "hours()"
   ]
  },
  {
   "cell_type": "code",
   "execution_count": 64,
   "id": "9d07ac5b",
   "metadata": {},
   "outputs": [
    {
     "name": "stdout",
     "output_type": "stream",
     "text": [
      "Open 9-5 daily\n"
     ]
    }
   ],
   "source": [
    "#4. Import the hours() function as info and call it.\n",
    "\n",
    "from zoo import hours as info\n",
    "info()"
   ]
  },
  {
   "cell_type": "code",
   "execution_count": 66,
   "id": "445648e7",
   "metadata": {},
   "outputs": [
    {
     "data": {
      "text/plain": [
       "{'a': 1, 'b': 2, 'c': 3}"
      ]
     },
     "execution_count": 66,
     "metadata": {},
     "output_type": "execute_result"
    }
   ],
   "source": [
    "#5. Create a plain dictionary with the key-value pairs 'a': 1, 'b': 2, and 'c': 3, and print it out.\n",
    "\n",
    "plain_dict = {'a':1,'b':2,'c':3}\n",
    "plain_dict"
   ]
  },
  {
   "cell_type": "code",
   "execution_count": 67,
   "id": "b874abd4",
   "metadata": {},
   "outputs": [
    {
     "data": {
      "text/plain": [
       "OrderedDict([('a', 1), ('b', 2), ('c', 3)])"
      ]
     },
     "execution_count": 67,
     "metadata": {},
     "output_type": "execute_result"
    }
   ],
   "source": [
    "#6.Make an OrderedDict called fancy from the same pairs listed in 5 and print it. Did it print in the\n",
    "#same order as plain?\n",
    "\n",
    "#An OrderedDict is a dictionary subclass that remembers the order that keys were first inserted. \n",
    "#The only difference between dict() and OrderedDict() is that:\n",
    "\n",
    "#OrderedDict preserves the order in which the keys are inserted. \n",
    "#A regular dict doesn’t track the insertion order and iterating it gives the values in an arbitrary order. \n",
    "#By contrast, the order the items are inserted is remembered by OrderedDict.\n",
    "\n",
    "from collections import OrderedDict\n",
    "fancy = OrderedDict()\n",
    "fancy['a']=1\n",
    "fancy['b']=2\n",
    "fancy['c']=3\n",
    "fancy\n",
    "\n",
    "#yes ordered dict print as  the keys were inserted."
   ]
  },
  {
   "cell_type": "code",
   "execution_count": 70,
   "id": "3a53aa7f",
   "metadata": {},
   "outputs": [
    {
     "data": {
      "text/plain": [
       "['something for a']"
      ]
     },
     "execution_count": 70,
     "metadata": {},
     "output_type": "execute_result"
    }
   ],
   "source": [
    "#7. Make a default dictionary called dict_of_lists and pass it the argument list. Make the list\n",
    "#dict_of_lists['a'] and append the value 'something for a' to it in one assignment. Print\n",
    "#dict_of_lists['a'].\n",
    "\n",
    "from collections import defaultdict\n",
    "#Defaultdict is a container like dictionaries present in the module collections. \n",
    "#Defaultdict is a sub-class of the dictionary class that returns a dictionary-like object. \n",
    "#The functionality of both dictionaries and defaultdict are almost same except for the fact that \n",
    "#defaultdict never raises a KeyError. It provides a default value for the key that does not exists.\n",
    "\n",
    "dict_of_lists = defaultdict(list)\n",
    "dict_of_lists['a'].append('something for a')\n",
    "dict_of_lists['a']"
   ]
  },
  {
   "cell_type": "code",
   "execution_count": 71,
   "id": "cbcc0fbb",
   "metadata": {},
   "outputs": [
    {
     "data": {
      "text/plain": [
       "{'a': 'something of a'}"
      ]
     },
     "execution_count": 71,
     "metadata": {},
     "output_type": "execute_result"
    }
   ],
   "source": [
    "#without using append function\n",
    "\n",
    "dict_of_list1={}\n",
    "dict_of_list1['a']='something of a'\n",
    "dict_of_list1"
   ]
  },
  {
   "cell_type": "code",
   "execution_count": 72,
   "id": "82a1979e",
   "metadata": {},
   "outputs": [
    {
     "data": {
      "text/plain": [
       "'something of a'"
      ]
     },
     "execution_count": 72,
     "metadata": {},
     "output_type": "execute_result"
    }
   ],
   "source": [
    "dict_of_list1['a']"
   ]
  }
 ],
 "metadata": {
  "kernelspec": {
   "display_name": "Python 3 (ipykernel)",
   "language": "python",
   "name": "python3"
  },
  "language_info": {
   "codemirror_mode": {
    "name": "ipython",
    "version": 3
   },
   "file_extension": ".py",
   "mimetype": "text/x-python",
   "name": "python",
   "nbconvert_exporter": "python",
   "pygments_lexer": "ipython3",
   "version": "3.9.7"
  }
 },
 "nbformat": 4,
 "nbformat_minor": 5
}
