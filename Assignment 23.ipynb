{
 "cells": [
  {
   "cell_type": "code",
   "execution_count": 1,
   "id": "10aa9840",
   "metadata": {},
   "outputs": [
    {
     "name": "stdout",
     "output_type": "stream",
     "text": [
      "1 2 8\n"
     ]
    }
   ],
   "source": [
    "#1. What is the result of the code, and why?\n",
    "\n",
    "def func(a, b=6, c=8):\n",
    "    print(a, b, c)\n",
    "\n",
    "func(1, 2)\n",
    "\n",
    "#func when defined it has variables defined with default values.\n",
    "#when func is called with 2 variables a,b is defined. since c is not defined it takes the default value.a and b is 1 and 2,\n",
    "#c is 8(default value)"
   ]
  },
  {
   "cell_type": "code",
   "execution_count": 2,
   "id": "bce91517",
   "metadata": {},
   "outputs": [
    {
     "name": "stdout",
     "output_type": "stream",
     "text": [
      "1 2 3\n"
     ]
    }
   ],
   "source": [
    "#2. What is the result of this code, and why?\n",
    "\n",
    "def func(a, b, c=5):\n",
    "    print(a, b, c)\n",
    "\n",
    "func(1, c=3, b=2)\n",
    "\n",
    "#func is defined with default value for c, and a,b is passed when called.\n",
    "#func is called with change in the order of arguments but all the arguments are defined when called. so function returns a as 1,\n",
    "#b as 2, c as 3."
   ]
  },
  {
   "cell_type": "code",
   "execution_count": 3,
   "id": "4cfae342",
   "metadata": {},
   "outputs": [
    {
     "name": "stdout",
     "output_type": "stream",
     "text": [
      "1 (2, 3)\n"
     ]
    }
   ],
   "source": [
    "#3. How about this code: what is its result, and why?\n",
    "\n",
    "def func(a, *pargs):\n",
    "    print(a, pargs)\n",
    "\n",
    "func(1, 2, 3)\n",
    "\n",
    "# *pargs in function definition in python is used to pass a variable number of arguments to a function.\n",
    "#func here is called with 3 arguments and the same is printed when called.(2,3) shows those are the arguments passed for the *pargs"
   ]
  },
  {
   "cell_type": "code",
   "execution_count": 4,
   "id": "b0ea6d75",
   "metadata": {},
   "outputs": [
    {
     "name": "stdout",
     "output_type": "stream",
     "text": [
      "1 {'c': 3, 'b': 2}\n"
     ]
    }
   ],
   "source": [
    "#4. What does this code print, and why?\n",
    "\n",
    "def func(a, **kargs):\n",
    "    print(a, kargs)\n",
    "\n",
    "func(a=1, c=3, b=2)\n",
    "\n",
    "#The special syntax **kwargs in function definitions in python is used to pass a keyworded, variable-length argument list. \n",
    "#One can think of the kwargs as being a dictionary that maps each keyword to the value that we pass alongside it.\n",
    "#In the above exapmle c and b arguments are taken as key value pair of c:3,b:2."
   ]
  },
  {
   "cell_type": "code",
   "execution_count": 13,
   "id": "1c8a6391",
   "metadata": {},
   "outputs": [
    {
     "name": "stdout",
     "output_type": "stream",
     "text": [
      "1 5 6 5\n"
     ]
    }
   ],
   "source": [
    "#5. What gets printed by this, and explain?\n",
    "\n",
    "def func(a, b, c=8, d=5): \n",
    "    print(a, b, c, d)\n",
    "\n",
    "func(1,*(5,6))\n",
    "\n",
    "#function defined has 4 arguments and variable c and  d are defined with default values.\n",
    "#funvtion when called , a=1, *(5,6) means its assigned to b and c, default value of d is taken as defined in the function."
   ]
  },
  {
   "cell_type": "code",
   "execution_count": 47,
   "id": "2fa49704",
   "metadata": {},
   "outputs": [
    {
     "data": {
      "text/plain": [
       "(1, ['x'], {'a': 'y'})"
      ]
     },
     "execution_count": 47,
     "metadata": {},
     "output_type": "execute_result"
    }
   ],
   "source": [
    "#6. what is the result of this, and explain?\n",
    "\n",
    "def func(a, b, c): \n",
    "    a = 2\n",
    "    b[0]= 'x'\n",
    "    c['a']= 'y'\n",
    "     \n",
    "l=1\n",
    "m=[1]\n",
    "n={'a':0}\n",
    "func(l, m, n)\n",
    "\n",
    "l,m,n\n",
    "\n",
    "#function defined has three arguments with values assigned for a,b[0]  and c['a'] .\n",
    "#function called also has three arguments l is passed as first argument which replaces the defined default value.\n",
    "# m and n do not replace the default values defined for b[0] and c['a']. \n",
    "#As m and n do not take the positions of 2(b[0]) and 3(c['a']) arguments.\n"
   ]
  }
 ],
 "metadata": {
  "kernelspec": {
   "display_name": "Python 3 (ipykernel)",
   "language": "python",
   "name": "python3"
  },
  "language_info": {
   "codemirror_mode": {
    "name": "ipython",
    "version": 3
   },
   "file_extension": ".py",
   "mimetype": "text/x-python",
   "name": "python",
   "nbconvert_exporter": "python",
   "pygments_lexer": "ipython3",
   "version": "3.9.7"
  }
 },
 "nbformat": 4,
 "nbformat_minor": 5
}
