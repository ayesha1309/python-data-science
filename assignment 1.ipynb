{
 "cells": [
  {
   "cell_type": "markdown",
   "id": "0fba34ae",
   "metadata": {},
   "source": [
    "#1. In the below elements which of them are values or an expression? eg:- values can be integer or string and expressions will be mathematical operators.\n",
    "\n",
    " \"* (expression)\"\n",
    "\n",
    "\"hello\"(string) \n",
    "\n",
    "-87.8 (float/integer)\n",
    "\n",
    "-(expression)\n",
    "\n",
    "/(expression)\n",
    "\n",
    "+(expression)\n",
    "\n",
    "6(integer)\n",
    "\n"
   ]
  },
  {
   "cell_type": "markdown",
   "id": "8cb665b5",
   "metadata": {},
   "source": [
    "#2.What is the difference between string and variable?\n",
    "\n",
    "String is quoted in double quotes or single quotes , it can be int, float or characters but once declared under quotes, they become string.\n",
    "\n",
    "Variable is a int or float or an imaginary number.\n",
    "`"
   ]
  },
  {
   "cell_type": "markdown",
   "id": "54b9edcb",
   "metadata": {},
   "source": [
    "#3. Describe three different data types.\n",
    "\n",
    "The three different type of datatypes are int,float and string."
   ]
  },
  {
   "cell_type": "markdown",
   "id": "d7d2dc9e",
   "metadata": {},
   "source": [
    "#4. What is an expression made up of? What do all expressions do?\n",
    "\n",
    "Expression is made up of variables and mathematical operators. \n",
    "All expressions get evaluated to one single variable after execution."
   ]
  },
  {
   "cell_type": "markdown",
   "id": "8492b452",
   "metadata": {},
   "source": [
    "#5. This assignment statements, like spam = 10. What is the difference between an expression and a statement?\n",
    "\n",
    "Assignment statements declare the variables and assign it to a variable name declared.this is just a statement. whereas expression involves use of operators on the variables to solve and get executed."
   ]
  },
  {
   "cell_type": "markdown",
   "id": "be51de78",
   "metadata": {},
   "source": [
    "#6. After running the following code, what does the variable bacon contain?\n",
    "\n",
    "bacon = 22\n",
    "\n",
    "bacon + 1\n",
    "\n",
    "ans : variable bacon contains 23"
   ]
  },
  {
   "cell_type": "markdown",
   "id": "1be113dc",
   "metadata": {},
   "source": [
    "#7. What should the values of the following two terms be?\n",
    "\n",
    "\"spam\" + \"spamspam\n",
    "\n",
    "\"spam\" * 3\n",
    "\n",
    "Both above terms will return \"spamspamspam\""
   ]
  },
  {
   "cell_type": "markdown",
   "id": "0879ab53",
   "metadata": {},
   "source": [
    "#8. Why is eggs a valid variable name while 100 is invalid?\n",
    "\n",
    "Eggs is a valid variable name to assign a data type whereas 100 is an integer which cannot be used as a variable name"
   ]
  }
 ],
 "metadata": {
  "kernelspec": {
   "display_name": "Python 3 (ipykernel)",
   "language": "python",
   "name": "python3"
  },
  "language_info": {
   "codemirror_mode": {
    "name": "ipython",
    "version": 3
   },
   "file_extension": ".py",
   "mimetype": "text/x-python",
   "name": "python",
   "nbconvert_exporter": "python",
   "pygments_lexer": "ipython3",
   "version": "3.9.7"
  }
 },
 "nbformat": 4,
 "nbformat_minor": 5
}
