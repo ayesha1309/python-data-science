{
 "cells": [
  {
   "cell_type": "code",
   "execution_count": 4,
   "id": "e3ad283b",
   "metadata": {},
   "outputs": [
    {
     "ename": "AssertionError",
     "evalue": "spam is a negative number",
     "output_type": "error",
     "traceback": [
      "\u001b[1;31m---------------------------------------------------------------------------\u001b[0m",
      "\u001b[1;31mAssertionError\u001b[0m                            Traceback (most recent call last)",
      "\u001b[1;32m~\\AppData\\Local\\Temp/ipykernel_9844/4016039205.py\u001b[0m in \u001b[0;36m<module>\u001b[1;34m\u001b[0m\n\u001b[0;32m      2\u001b[0m \u001b[1;33m\u001b[0m\u001b[0m\n\u001b[0;32m      3\u001b[0m \u001b[0mspam\u001b[0m \u001b[1;33m=\u001b[0m \u001b[1;33m-\u001b[0m\u001b[1;36m5\u001b[0m\u001b[1;33m\u001b[0m\u001b[1;33m\u001b[0m\u001b[0m\n\u001b[1;32m----> 4\u001b[1;33m \u001b[1;32massert\u001b[0m \u001b[0mspam\u001b[0m \u001b[1;33m>\u001b[0m \u001b[1;36m0\u001b[0m\u001b[1;33m,\u001b[0m \u001b[1;34m'spam is a negative number'\u001b[0m\u001b[1;33m\u001b[0m\u001b[1;33m\u001b[0m\u001b[0m\n\u001b[0m\u001b[0;32m      5\u001b[0m \u001b[0mprint\u001b[0m\u001b[1;33m(\u001b[0m\u001b[1;34m'spam is a positive number.'\u001b[0m\u001b[1;33m)\u001b[0m\u001b[1;33m\u001b[0m\u001b[1;33m\u001b[0m\u001b[0m\n",
      "\u001b[1;31mAssertionError\u001b[0m: spam is a negative number"
     ]
    }
   ],
   "source": [
    "#1.Create an assert statement that throws an AssertionError if the variable spam is a negative integer.\n",
    "\n",
    "spam = -5\n",
    "assert spam > 0, 'spam is a negative number'\n",
    "print('spam is a positive number.')"
   ]
  },
  {
   "cell_type": "code",
   "execution_count": 20,
   "id": "9c30b1a4",
   "metadata": {},
   "outputs": [
    {
     "name": "stdout",
     "output_type": "stream",
     "text": [
      "spam is a positive number.\n"
     ]
    }
   ],
   "source": [
    "spam = 3\n",
    "assert spam > 0, 'spam is a negative number'\n",
    "print('spam is a positive number.')"
   ]
  },
  {
   "cell_type": "code",
   "execution_count": 7,
   "id": "6e7f4edf",
   "metadata": {},
   "outputs": [
    {
     "ename": "AssertionError",
     "evalue": "strings do not match each other",
     "output_type": "error",
     "traceback": [
      "\u001b[1;31m---------------------------------------------------------------------------\u001b[0m",
      "\u001b[1;31mAssertionError\u001b[0m                            Traceback (most recent call last)",
      "\u001b[1;32m~\\AppData\\Local\\Temp/ipykernel_9844/1765747950.py\u001b[0m in \u001b[0;36m<module>\u001b[1;34m\u001b[0m\n\u001b[0;32m      5\u001b[0m \u001b[0meggs\u001b[0m \u001b[1;33m=\u001b[0m\u001b[1;34m'hello'\u001b[0m\u001b[1;33m\u001b[0m\u001b[1;33m\u001b[0m\u001b[0m\n\u001b[0;32m      6\u001b[0m \u001b[0mbacon\u001b[0m\u001b[1;33m=\u001b[0m\u001b[1;34m'HEllo'\u001b[0m\u001b[1;33m\u001b[0m\u001b[1;33m\u001b[0m\u001b[0m\n\u001b[1;32m----> 7\u001b[1;33m \u001b[1;32massert\u001b[0m \u001b[0meggs\u001b[0m\u001b[1;33m==\u001b[0m\u001b[0mbacon\u001b[0m\u001b[1;33m,\u001b[0m \u001b[1;34m'strings do not match each other'\u001b[0m\u001b[1;33m\u001b[0m\u001b[1;33m\u001b[0m\u001b[0m\n\u001b[0m\u001b[0;32m      8\u001b[0m \u001b[0mprint\u001b[0m\u001b[1;33m(\u001b[0m\u001b[1;34m\"strings match each other\"\u001b[0m\u001b[1;33m)\u001b[0m\u001b[1;33m\u001b[0m\u001b[1;33m\u001b[0m\u001b[0m\n",
      "\u001b[1;31mAssertionError\u001b[0m: strings do not match each other"
     ]
    }
   ],
   "source": [
    "#2.Write an assert statement that triggers an AssertionError if the variables eggs and bacon contain \n",
    "#strings that are the same as each other, even if their cases are different \n",
    "#(that is, 'hello' and 'hello' are considered the same, and 'goodbye' and 'GOODbye' are also considered the same).\n",
    "\n",
    "eggs ='hello'\n",
    "bacon='HEllo'\n",
    "assert eggs==bacon, 'strings do not match each other'\n",
    "print(\"strings match each other\")"
   ]
  },
  {
   "cell_type": "code",
   "execution_count": 8,
   "id": "8afeb684",
   "metadata": {},
   "outputs": [
    {
     "name": "stdout",
     "output_type": "stream",
     "text": [
      "strings match each other\n"
     ]
    }
   ],
   "source": [
    "eggs ='hello'\n",
    "bacon='hello'\n",
    "assert eggs==bacon, 'strings do not match each other'\n",
    "print(\"strings match each other\")\n"
   ]
  },
  {
   "cell_type": "code",
   "execution_count": 9,
   "id": "2c4f7ff8",
   "metadata": {},
   "outputs": [
    {
     "name": "stdout",
     "output_type": "stream",
     "text": [
      "Only positive numbers are allowed\n"
     ]
    }
   ],
   "source": [
    "#3. Create an assert statement that throws an AssertionError every time.\n",
    "\n",
    "#By giving the wrong data assertionerror will be thrown everytime.\n",
    "\n",
    "def square(x):\n",
    "    assert x>=0, 'Only positive numbers are allowed'\n",
    "    return x*x\n",
    "\n",
    "try:\n",
    "    square(-2)\n",
    "except AssertionError as msg:\n",
    "    print(msg)"
   ]
  },
  {
   "cell_type": "code",
   "execution_count": 10,
   "id": "903f76ed",
   "metadata": {},
   "outputs": [],
   "source": [
    "#4. What are the two lines that must be present in your software in order to call logging.debug()?\n",
    "\n",
    "#Logging is a means of tracking events that happen when some software runs. \n",
    "#The software’s developer adds logging calls to their code to indicate that certain events have occurred.\n",
    "#The logging functions are named after the level or severity of the events they are used to track.\n",
    "#DEBUG : Detailed information, typically of interest only when diagnosing problems.\n",
    "\n",
    "import logging\n",
    "#to import the logging module.\n",
    "# Create and configure logger,It can have several parameters. \n",
    "#But importantly, pass the name of the file in which you want to record the events.\n",
    "logging.basicConfig(filename=\"newfile.log\",\n",
    "                    format='%(asctime)s %(message)s',\n",
    "                    filemode='w')\n",
    "#then we call the function logging.debug()  with a msg statement"
   ]
  },
  {
   "cell_type": "code",
   "execution_count": 11,
   "id": "f726e3be",
   "metadata": {},
   "outputs": [],
   "source": [
    "#5. What are the two lines that your program must have in order to have logging.debug() send a \n",
    "#logging message to a file named programLog.txt?\n",
    "\n",
    "import logging\n",
    "logging.basicConfig(filename=\"programLog.txt\",format='%(asctime)s %(message)s',filemode='w')\n",
    "logging.debug('harmless debug msg')\n"
   ]
  },
  {
   "cell_type": "code",
   "execution_count": 13,
   "id": "0c681ae6",
   "metadata": {},
   "outputs": [
    {
     "data": {
      "text/plain": [
       "'Level Numeric value\\n\\nCRITICAL 50\\n\\nERROR 40\\n\\nWARNING 30\\n\\nINFO 20\\n\\nDEBUG 10\\n\\nNOTSET 0'"
      ]
     },
     "execution_count": 13,
     "metadata": {},
     "output_type": "execute_result"
    }
   ],
   "source": [
    "#6. What are the five levels of logging?\n",
    "\n",
    "#The numeric values of logging levels are given in the following table. \n",
    "#These are primarily of interest if you want to define your own levels, and need them to have specific values relative \n",
    "#to the predefined levels. If you define a level with the same numeric value, \n",
    "#it overwrites the predefined value; the predefined name is lost.\n",
    "\n",
    "#Log messages can have 5 levels - DEBUG, INGO, WARNING, ERROR and CRITICAL. \n",
    "#They can also include traceback information for exceptions. \n",
    "#Logs can be especially useful in case of errors to help identify their cause.\n",
    "\n",
    "\"\"\"Level Numeric value\n",
    "\n",
    "CRITICAL 50\n",
    "\n",
    "ERROR 40\n",
    "\n",
    "WARNING 30\n",
    "\n",
    "INFO 20\n",
    "\n",
    "DEBUG 10\n",
    "\n",
    "NOTSET 0\"\"\"\n",
    "\n"
   ]
  },
  {
   "cell_type": "code",
   "execution_count": 14,
   "id": "dfb6a956",
   "metadata": {},
   "outputs": [],
   "source": [
    "#7. What line of code would you add to your software to disable all logging messages?\n",
    "\n",
    "#You can disable logging from imported modules using the logging module. \n",
    "#You can configure it to not log messages unless they are at least warnings using the following code:\n",
    "\n",
    "import logging\n",
    "logging.getLogger(\"imported_module\").setLevel(logging.WARNING)\n",
    "#If you dont want to write the module name as a string, you can also use imported_module.__name__. \n",
    "#If you want to go a level higher and only want to log messages when they are errors or critical, \n",
    "#you can do replace logging.WARNING with logging.ERROR and logging.CRITICAL respectively."
   ]
  },
  {
   "cell_type": "code",
   "execution_count": 15,
   "id": "659cc3d1",
   "metadata": {},
   "outputs": [],
   "source": [
    "#8.Why is using logging messages better than using print() to display the same message?\n",
    "\n",
    "#Logging is critical if you want to diagnose problems or understand what’s happening with your Python application.\n",
    "#The Python logging library lets you:\n",
    "\n",
    "#Control what’s emitted\n",
    "#Define what types of information you want to include in your logs\n",
    "#Configure how it looks when it’s emitted\n",
    "#Most importantly, set the destination for your logs\n",
    "\n",
    "#The Python logging library can help you add timestamped information into your \n",
    "#log without you having to call ‘datetime.datetime.now()’ all the time.\n",
    "\n",
    "#The logging library that Python provides also helps you gather context about where a particular log message was emitted."
   ]
  },
  {
   "cell_type": "code",
   "execution_count": 17,
   "id": "0f5b26fe",
   "metadata": {},
   "outputs": [],
   "source": [
    "#9. What are the differences between the Step Over, Step In, and Step Out buttons in the debugger?\n",
    "\n",
    "#The differences are as follows:\n",
    "\n",
    "#Step Over command:\n",
    "\n",
    "#This command lets the application execute the next action. \n",
    "#If the action involves a call to an operation, it does not step into its implementation (it steps over it instead).\n",
    "\n",
    "#Step Into command:\n",
    "\n",
    "#This command lets the application execute the next action. If the action involves a call to an operation, it steps into its implementation and breaks the execution on the first action of that implementation.\n",
    "\n",
    "#Step Out command:\n",
    "\n",
    "#This command lets the application execute until the currently executed operation implementation is returned.\n"
   ]
  },
  {
   "cell_type": "code",
   "execution_count": 18,
   "id": "8f967a78",
   "metadata": {},
   "outputs": [],
   "source": [
    "#10.After you click Continue, when will the debugger stop ?\n",
    "\n",
    "#The Python debugger provides a debugging environment for Python programs. It supports setting conditional breakpoints, \n",
    "#stepping through the source code one line at a time, stack inspection, and more.\n",
    "\n",
    "#The module pdb defines an interactive source code debugger for Python programs. \n",
    "\n",
    "#c(ont(inue))\n",
    "#Continue execution, only stop when a breakpoint is encountered."
   ]
  },
  {
   "cell_type": "code",
   "execution_count": 19,
   "id": "1581e6d6",
   "metadata": {},
   "outputs": [],
   "source": [
    "#11. What is the concept of a breakpoint?\n",
    "\n",
    "#In software development, a breakpoint is an intentional stopping or pausing place in a program, \n",
    "#put in place for debugging purposes.It is also sometimes simply referred to as a pause.\n",
    "\n",
    "#The Python breakpoint() built-in function is a tool that allows developers to set points in code at which a debugger is called. \n",
    "#By default, this function results in an instantiation of Python's native debugger class."
   ]
  },
  {
   "cell_type": "code",
   "execution_count": null,
   "id": "ab0021d8",
   "metadata": {},
   "outputs": [],
   "source": []
  }
 ],
 "metadata": {
  "kernelspec": {
   "display_name": "Python 3 (ipykernel)",
   "language": "python",
   "name": "python3"
  },
  "language_info": {
   "codemirror_mode": {
    "name": "ipython",
    "version": 3
   },
   "file_extension": ".py",
   "mimetype": "text/x-python",
   "name": "python",
   "nbconvert_exporter": "python",
   "pygments_lexer": "ipython3",
   "version": "3.9.7"
  }
 },
 "nbformat": 4,
 "nbformat_minor": 5
}
